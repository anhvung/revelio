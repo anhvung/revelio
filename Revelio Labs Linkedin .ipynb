{
 "cells": [
  {
   "cell_type": "code",
   "execution_count": 6,
   "id": "e6b4ccb5",
   "metadata": {},
   "outputs": [],
   "source": [
    "import os\n",
    "import urllib.request\n",
    "import pandas as pd\n",
    "import numpy as np\n",
    "import matplotlib.pyplot as plt"
   ]
  },
  {
   "cell_type": "markdown",
   "id": "7785a570",
   "metadata": {},
   "source": [
    "# 0. Loading the data"
   ]
  },
  {
   "cell_type": "markdown",
   "id": "47f90003",
   "metadata": {},
   "source": [
    "Downloading the data, so that we don't have to do it again if we restart the kernel"
   ]
  },
  {
   "cell_type": "code",
   "execution_count": 7,
   "id": "66a5f021",
   "metadata": {
    "scrolled": true
   },
   "outputs": [
    {
     "name": "stdout",
     "output_type": "stream",
     "text": [
      "data downloaded\n"
     ]
    }
   ],
   "source": [
    "urls=[\"https://info0.s3.us-east-2.amazonaws.com/recruitment/positions.csv\",\"https://info0.s3.us-east-2.amazonaws.com/recruitment/education.csv\",\"https://info0.s3.us-east-2.amazonaws.com/recruitment/jobtitle_seniority.csv\"]\n",
    "\n",
    "# data folder, create if it does not exists\n",
    "os.makedirs('./data/', exist_ok=True) \n",
    "    \n",
    "# if .csv file does not exists, download it\n",
    "for url in urls:\n",
    "    path='./data/' + os.path.basename(url)\n",
    "    if not os.path.exists(path):\n",
    "        urllib.request.urlretrieve(url, path)\n",
    "        \n",
    "print('data downloaded')"
   ]
  },
  {
   "cell_type": "markdown",
   "id": "504c1a1d",
   "metadata": {},
   "source": [
    "Loading the data into pandas data frames"
   ]
  },
  {
   "cell_type": "code",
   "execution_count": 8,
   "id": "f4d89c9e",
   "metadata": {},
   "outputs": [],
   "source": [
    "df_positions = pd.read_csv(\"./data/positions.csv\")\n",
    "df_education = pd.read_csv(\"./data/education.csv\")\n",
    "df_seniority = pd.read_csv(\"./data/jobtitle_seniority.csv\")"
   ]
  },
  {
   "cell_type": "markdown",
   "id": "5b0837c4",
   "metadata": {},
   "source": [
    "# 1. Checking the data"
   ]
  },
  {
   "cell_type": "markdown",
   "id": "f443dfda",
   "metadata": {},
   "source": [
    "## 1.1 Individual data frames"
   ]
  },
  {
   "cell_type": "code",
   "execution_count": 9,
   "id": "b36a0326",
   "metadata": {},
   "outputs": [
    {
     "data": {
      "text/html": [
       "<div>\n",
       "<style scoped>\n",
       "    .dataframe tbody tr th:only-of-type {\n",
       "        vertical-align: middle;\n",
       "    }\n",
       "\n",
       "    .dataframe tbody tr th {\n",
       "        vertical-align: top;\n",
       "    }\n",
       "\n",
       "    .dataframe thead th {\n",
       "        text-align: right;\n",
       "    }\n",
       "</style>\n",
       "<table border=\"1\" class=\"dataframe\">\n",
       "  <thead>\n",
       "    <tr style=\"text-align: right;\">\n",
       "      <th></th>\n",
       "      <th>user_id</th>\n",
       "      <th>jobtitle</th>\n",
       "      <th>startdate</th>\n",
       "      <th>enddate</th>\n",
       "    </tr>\n",
       "  </thead>\n",
       "  <tbody>\n",
       "    <tr>\n",
       "      <th>162425</th>\n",
       "      <td>zzdHAVxl9iQrwom22S/FLg5+2cvffV/mNepQVJd0smgtpB...</td>\n",
       "      <td>student_senior_service_college</td>\n",
       "      <td>2012-08-01</td>\n",
       "      <td>2013-06-01</td>\n",
       "    </tr>\n",
       "    <tr>\n",
       "      <th>15089</th>\n",
       "      <td>zzdHAVxl9iQrwom22S/FLg5+2cvffV/mNepQVJd0smgtpB...</td>\n",
       "      <td>command_general_staff_college</td>\n",
       "      <td>2004-07-01</td>\n",
       "      <td>2005-06-01</td>\n",
       "    </tr>\n",
       "    <tr>\n",
       "      <th>146169</th>\n",
       "      <td>zzdHAVxl9iQrwom22S/FLg5+2cvffV/mNepQVJd0smgtpB...</td>\n",
       "      <td>engineer_company_brigade_staff_trainer</td>\n",
       "      <td>2002-04-01</td>\n",
       "      <td>2004-06-01</td>\n",
       "    </tr>\n",
       "    <tr>\n",
       "      <th>15923</th>\n",
       "      <td>zzdHAVxl9iQrwom22S/FLg5+2cvffV/mNepQVJd0smgtpB...</td>\n",
       "      <td>student_engineer_officer</td>\n",
       "      <td>1998-01-01</td>\n",
       "      <td>1998-10-01</td>\n",
       "    </tr>\n",
       "    <tr>\n",
       "      <th>20486</th>\n",
       "      <td>zzdHAVxl9iQrwom22S/FLg5+2cvffV/mNepQVJd0smgtpB...</td>\n",
       "      <td>company_commander_battalion_battalion_assistant</td>\n",
       "      <td>1998-11-01</td>\n",
       "      <td>2002-03-01</td>\n",
       "    </tr>\n",
       "    <tr>\n",
       "      <th>309939</th>\n",
       "      <td>zzrNxfUzwZXNkSs15haLyA4ZM3TcQvn1bQ/jHgHWG0kf/b...</td>\n",
       "      <td>partner_head_private_client_department_|_law_p...</td>\n",
       "      <td>1992-01-01</td>\n",
       "      <td>NaN</td>\n",
       "    </tr>\n",
       "    <tr>\n",
       "      <th>338504</th>\n",
       "      <td>zzvZxBSf81furoFl3PcSuHAG1BvSkUYANepQVJd0smgtpB...</td>\n",
       "      <td>coordinador_de_personal_embarcado</td>\n",
       "      <td>2017-12-01</td>\n",
       "      <td>NaN</td>\n",
       "    </tr>\n",
       "    <tr>\n",
       "      <th>334912</th>\n",
       "      <td>zzvZxBSf81furoFl3PcSuHAG1BvSkUYANepQVJd0smgtpB...</td>\n",
       "      <td>operador_|_logistics_supply_chain</td>\n",
       "      <td>2014-11-01</td>\n",
       "      <td>2015-09-01</td>\n",
       "    </tr>\n",
       "    <tr>\n",
       "      <th>359048</th>\n",
       "      <td>zzvZxBSf81furoFl3PcSuHAG1BvSkUYANepQVJd0smgtpB...</td>\n",
       "      <td>supervisor_de_personal_|_maritime</td>\n",
       "      <td>2016-05-01</td>\n",
       "      <td>2017-09-01</td>\n",
       "    </tr>\n",
       "    <tr>\n",
       "      <th>248375</th>\n",
       "      <td>zzvZxBSf81furoFl3PcSuHAG1BvSkUYANepQVJd0smgtpB...</td>\n",
       "      <td>supervisor_de_personal_|_logistics_supply_chain</td>\n",
       "      <td>2015-11-01</td>\n",
       "      <td>2016-05-01</td>\n",
       "    </tr>\n",
       "  </tbody>\n",
       "</table>\n",
       "</div>"
      ],
      "text/plain": [
       "                                                  user_id  \\\n",
       "162425  zzdHAVxl9iQrwom22S/FLg5+2cvffV/mNepQVJd0smgtpB...   \n",
       "15089   zzdHAVxl9iQrwom22S/FLg5+2cvffV/mNepQVJd0smgtpB...   \n",
       "146169  zzdHAVxl9iQrwom22S/FLg5+2cvffV/mNepQVJd0smgtpB...   \n",
       "15923   zzdHAVxl9iQrwom22S/FLg5+2cvffV/mNepQVJd0smgtpB...   \n",
       "20486   zzdHAVxl9iQrwom22S/FLg5+2cvffV/mNepQVJd0smgtpB...   \n",
       "309939  zzrNxfUzwZXNkSs15haLyA4ZM3TcQvn1bQ/jHgHWG0kf/b...   \n",
       "338504  zzvZxBSf81furoFl3PcSuHAG1BvSkUYANepQVJd0smgtpB...   \n",
       "334912  zzvZxBSf81furoFl3PcSuHAG1BvSkUYANepQVJd0smgtpB...   \n",
       "359048  zzvZxBSf81furoFl3PcSuHAG1BvSkUYANepQVJd0smgtpB...   \n",
       "248375  zzvZxBSf81furoFl3PcSuHAG1BvSkUYANepQVJd0smgtpB...   \n",
       "\n",
       "                                                 jobtitle   startdate  \\\n",
       "162425                     student_senior_service_college  2012-08-01   \n",
       "15089                       command_general_staff_college  2004-07-01   \n",
       "146169             engineer_company_brigade_staff_trainer  2002-04-01   \n",
       "15923                            student_engineer_officer  1998-01-01   \n",
       "20486     company_commander_battalion_battalion_assistant  1998-11-01   \n",
       "309939  partner_head_private_client_department_|_law_p...  1992-01-01   \n",
       "338504                  coordinador_de_personal_embarcado  2017-12-01   \n",
       "334912                  operador_|_logistics_supply_chain  2014-11-01   \n",
       "359048                  supervisor_de_personal_|_maritime  2016-05-01   \n",
       "248375    supervisor_de_personal_|_logistics_supply_chain  2015-11-01   \n",
       "\n",
       "           enddate  \n",
       "162425  2013-06-01  \n",
       "15089   2005-06-01  \n",
       "146169  2004-06-01  \n",
       "15923   1998-10-01  \n",
       "20486   2002-03-01  \n",
       "309939         NaN  \n",
       "338504         NaN  \n",
       "334912  2015-09-01  \n",
       "359048  2017-09-01  \n",
       "248375  2016-05-01  "
      ]
     },
     "execution_count": 9,
     "metadata": {},
     "output_type": "execute_result"
    }
   ],
   "source": [
    "df_positions=df_positions.sort_values(by=['user_id'])\n",
    "df_positions.tail(10)"
   ]
  },
  {
   "cell_type": "markdown",
   "id": "2bca9cec",
   "metadata": {},
   "source": [
    "#### Looking at the dates, linkedIn only has the year and month information, so date formatting is YYYY-MM-DD\n",
    "#### Position titles and fields are seperated by '\\_|\\_', words are seperated by '_'"
   ]
  },
  {
   "cell_type": "code",
   "execution_count": 10,
   "id": "6e299739",
   "metadata": {},
   "outputs": [
    {
     "data": {
      "text/html": [
       "<div>\n",
       "<style scoped>\n",
       "    .dataframe tbody tr th:only-of-type {\n",
       "        vertical-align: middle;\n",
       "    }\n",
       "\n",
       "    .dataframe tbody tr th {\n",
       "        vertical-align: top;\n",
       "    }\n",
       "\n",
       "    .dataframe thead th {\n",
       "        text-align: right;\n",
       "    }\n",
       "</style>\n",
       "<table border=\"1\" class=\"dataframe\">\n",
       "  <thead>\n",
       "    <tr style=\"text-align: right;\">\n",
       "      <th></th>\n",
       "      <th>user_id</th>\n",
       "      <th>major</th>\n",
       "      <th>startdate</th>\n",
       "      <th>enddate</th>\n",
       "    </tr>\n",
       "  </thead>\n",
       "  <tbody>\n",
       "    <tr>\n",
       "      <th>99508</th>\n",
       "      <td>++5SW5MI5/h8X1hMA3QnmQ4ZM3TcQvn1bQ/jHgHWG0kf/b...</td>\n",
       "      <td>BS</td>\n",
       "      <td>1949-01-01</td>\n",
       "      <td>1953-01-01</td>\n",
       "    </tr>\n",
       "    <tr>\n",
       "      <th>92083</th>\n",
       "      <td>++5qk2+uEmkI/3Z4FrBwDw4ZM3TcQvn1bQ/jHgHWG0kf/b...</td>\n",
       "      <td>BS in Electronics</td>\n",
       "      <td>1973-01-01</td>\n",
       "      <td>1978-01-01</td>\n",
       "    </tr>\n",
       "    <tr>\n",
       "      <th>92505</th>\n",
       "      <td>++5qk2+uEmkI/3Z4FrBwDw4ZM3TcQvn1bQ/jHgHWG0kf/b...</td>\n",
       "      <td>NaN</td>\n",
       "      <td>1984-01-01</td>\n",
       "      <td>1987-01-01</td>\n",
       "    </tr>\n",
       "    <tr>\n",
       "      <th>133238</th>\n",
       "      <td>++6+hv3i5RAVsrWO8q5JEQ5+2cvffV/mNepQVJd0smgtpB...</td>\n",
       "      <td>Master Grande Ecole</td>\n",
       "      <td>2013-01-01</td>\n",
       "      <td>2016-01-01</td>\n",
       "    </tr>\n",
       "    <tr>\n",
       "      <th>5126</th>\n",
       "      <td>++6zEVtPCi83vpPTHSY2Vg5+2cvffV/mNepQVJd0smgtpB...</td>\n",
       "      <td>Bachelor of Science (B.Sc.) (ED)</td>\n",
       "      <td>2001-01-01</td>\n",
       "      <td>2006-01-01</td>\n",
       "    </tr>\n",
       "  </tbody>\n",
       "</table>\n",
       "</div>"
      ],
      "text/plain": [
       "                                                  user_id  \\\n",
       "99508   ++5SW5MI5/h8X1hMA3QnmQ4ZM3TcQvn1bQ/jHgHWG0kf/b...   \n",
       "92083   ++5qk2+uEmkI/3Z4FrBwDw4ZM3TcQvn1bQ/jHgHWG0kf/b...   \n",
       "92505   ++5qk2+uEmkI/3Z4FrBwDw4ZM3TcQvn1bQ/jHgHWG0kf/b...   \n",
       "133238  ++6+hv3i5RAVsrWO8q5JEQ5+2cvffV/mNepQVJd0smgtpB...   \n",
       "5126    ++6zEVtPCi83vpPTHSY2Vg5+2cvffV/mNepQVJd0smgtpB...   \n",
       "\n",
       "                                   major   startdate     enddate  \n",
       "99508                                 BS  1949-01-01  1953-01-01  \n",
       "92083                  BS in Electronics  1973-01-01  1978-01-01  \n",
       "92505                                NaN  1984-01-01  1987-01-01  \n",
       "133238               Master Grande Ecole  2013-01-01  2016-01-01  \n",
       "5126    Bachelor of Science (B.Sc.) (ED)  2001-01-01  2006-01-01  "
      ]
     },
     "execution_count": 10,
     "metadata": {},
     "output_type": "execute_result"
    }
   ],
   "source": [
    "df_education=df_education.sort_values(by=['user_id'])\n",
    "df_education.head()"
   ]
  },
  {
   "cell_type": "code",
   "execution_count": 11,
   "id": "49c69fac",
   "metadata": {},
   "outputs": [
    {
     "data": {
      "text/html": [
       "<div>\n",
       "<style scoped>\n",
       "    .dataframe tbody tr th:only-of-type {\n",
       "        vertical-align: middle;\n",
       "    }\n",
       "\n",
       "    .dataframe tbody tr th {\n",
       "        vertical-align: top;\n",
       "    }\n",
       "\n",
       "    .dataframe thead th {\n",
       "        text-align: right;\n",
       "    }\n",
       "</style>\n",
       "<table border=\"1\" class=\"dataframe\">\n",
       "  <thead>\n",
       "    <tr style=\"text-align: right;\">\n",
       "      <th></th>\n",
       "      <th>user_id</th>\n",
       "      <th>jobtitle</th>\n",
       "      <th>seniority</th>\n",
       "    </tr>\n",
       "  </thead>\n",
       "  <tbody>\n",
       "    <tr>\n",
       "      <th>90141</th>\n",
       "      <td>++5SW5MI5/h8X1hMA3QnmQ4ZM3TcQvn1bQ/jHgHWG0kf/b...</td>\n",
       "      <td>former_owner_presently_consultant</td>\n",
       "      <td>7.064817</td>\n",
       "    </tr>\n",
       "    <tr>\n",
       "      <th>71129</th>\n",
       "      <td>++5qk2+uEmkI/3Z4FrBwDw4ZM3TcQvn1bQ/jHgHWG0kf/b...</td>\n",
       "      <td>design_engineer_|_mechanical_industrial_engine...</td>\n",
       "      <td>3.331507</td>\n",
       "    </tr>\n",
       "    <tr>\n",
       "      <th>222292</th>\n",
       "      <td>++5qk2+uEmkI/3Z4FrBwDw4ZM3TcQvn1bQ/jHgHWG0kf/b...</td>\n",
       "      <td>owner_|_computer_network_security</td>\n",
       "      <td>7.334247</td>\n",
       "    </tr>\n",
       "    <tr>\n",
       "      <th>399946</th>\n",
       "      <td>++6+hv3i5RAVsrWO8q5JEQ5+2cvffV/mNepQVJd0smgtpB...</td>\n",
       "      <td>digital_communication_social_medias_activation...</td>\n",
       "      <td>4.307247</td>\n",
       "    </tr>\n",
       "    <tr>\n",
       "      <th>220871</th>\n",
       "      <td>++6+hv3i5RAVsrWO8q5JEQ5+2cvffV/mNepQVJd0smgtpB...</td>\n",
       "      <td>event_promoter_public_relations</td>\n",
       "      <td>1.908356</td>\n",
       "    </tr>\n",
       "  </tbody>\n",
       "</table>\n",
       "</div>"
      ],
      "text/plain": [
       "                                                  user_id  \\\n",
       "90141   ++5SW5MI5/h8X1hMA3QnmQ4ZM3TcQvn1bQ/jHgHWG0kf/b...   \n",
       "71129   ++5qk2+uEmkI/3Z4FrBwDw4ZM3TcQvn1bQ/jHgHWG0kf/b...   \n",
       "222292  ++5qk2+uEmkI/3Z4FrBwDw4ZM3TcQvn1bQ/jHgHWG0kf/b...   \n",
       "399946  ++6+hv3i5RAVsrWO8q5JEQ5+2cvffV/mNepQVJd0smgtpB...   \n",
       "220871  ++6+hv3i5RAVsrWO8q5JEQ5+2cvffV/mNepQVJd0smgtpB...   \n",
       "\n",
       "                                                 jobtitle  seniority  \n",
       "90141                   former_owner_presently_consultant   7.064817  \n",
       "71129   design_engineer_|_mechanical_industrial_engine...   3.331507  \n",
       "222292                  owner_|_computer_network_security   7.334247  \n",
       "399946  digital_communication_social_medias_activation...   4.307247  \n",
       "220871                    event_promoter_public_relations   1.908356  "
      ]
     },
     "execution_count": 11,
     "metadata": {},
     "output_type": "execute_result"
    }
   ],
   "source": [
    "df_seniority=df_seniority.sort_values(by=['user_id'])\n",
    "df_seniority.head()"
   ]
  },
  {
   "cell_type": "code",
   "execution_count": 12,
   "id": "17e8fc8f",
   "metadata": {},
   "outputs": [
    {
     "name": "stdout",
     "output_type": "stream",
     "text": [
      "<class 'pandas.core.frame.DataFrame'>\n",
      "Int64Index: 226184 entries, 99508 to 169422\n",
      "Data columns (total 4 columns):\n",
      " #   Column     Non-Null Count   Dtype \n",
      "---  ------     --------------   ----- \n",
      " 0   user_id    226184 non-null  object\n",
      " 1   major      162346 non-null  object\n",
      " 2   startdate  197556 non-null  object\n",
      " 3   enddate    190658 non-null  object\n",
      "dtypes: object(4)\n",
      "memory usage: 8.6+ MB\n",
      "None\n",
      "<class 'pandas.core.frame.DataFrame'>\n",
      "Int64Index: 377585 entries, 41525 to 248375\n",
      "Data columns (total 4 columns):\n",
      " #   Column     Non-Null Count   Dtype \n",
      "---  ------     --------------   ----- \n",
      " 0   user_id    377585 non-null  object\n",
      " 1   jobtitle   376136 non-null  object\n",
      " 2   startdate  368526 non-null  object\n",
      " 3   enddate    270354 non-null  object\n",
      "dtypes: object(4)\n",
      "memory usage: 14.4+ MB\n",
      "None\n",
      "<class 'pandas.core.frame.DataFrame'>\n",
      "Int64Index: 416295 entries, 90141 to 126315\n",
      "Data columns (total 3 columns):\n",
      " #   Column     Non-Null Count   Dtype  \n",
      "---  ------     --------------   -----  \n",
      " 0   user_id    416295 non-null  object \n",
      " 1   jobtitle   414290 non-null  object \n",
      " 2   seniority  416295 non-null  float64\n",
      "dtypes: float64(1), object(2)\n",
      "memory usage: 12.7+ MB\n",
      "None\n"
     ]
    }
   ],
   "source": [
    "print(df_education.info())\n",
    "print(df_positions.info())\n",
    "print(df_seniority.info())"
   ]
  },
  {
   "cell_type": "markdown",
   "id": "71384a32",
   "metadata": {},
   "source": [
    "#### Not all data frames have 100k users, all have to take this into account when merging the data frames.\n",
    "We will assume that we want to predict the age of all users"
   ]
  },
  {
   "cell_type": "code",
   "execution_count": 13,
   "id": "c3adb863",
   "metadata": {},
   "outputs": [
    {
     "name": "stdout",
     "output_type": "stream",
     "text": [
      "81464\n",
      "100000\n",
      "100000\n"
     ]
    }
   ],
   "source": [
    "# give the number of DISTINCT users\n",
    "def count_users(df):\n",
    "    return len(pd.unique(df['user_id']))\n",
    "\n",
    "print(count_users(df_positions))\n",
    "print(count_users(df_education))\n",
    "print(count_users(df_seniority))"
   ]
  },
  {
   "cell_type": "markdown",
   "id": "fd6637ed",
   "metadata": {},
   "source": [
    "#### As expected a person can have multiple education, and position entries"
   ]
  },
  {
   "cell_type": "code",
   "execution_count": 14,
   "id": "781fde87",
   "metadata": {
    "scrolled": true
   },
   "outputs": [
    {
     "name": "stdout",
     "output_type": "stream",
     "text": [
      "                   major   startdate     enddate\n",
      "92083  BS in Electronics  1973-01-01  1978-01-01\n",
      "92505                NaN  1984-01-01  1987-01-01\n",
      "                                                 jobtitle   startdate  \\\n",
      "9781                    owner_|_computer_network_security  1993-06-01   \n",
      "106525  design_engineer_|_mechanical_industrial_engine...  1984-10-01   \n",
      "\n",
      "           enddate  \n",
      "9781           NaN  \n",
      "106525  1989-05-01  \n",
      "                                                 jobtitle  seniority\n",
      "71129   design_engineer_|_mechanical_industrial_engine...   3.331507\n",
      "222292                  owner_|_computer_network_security   7.334247\n"
     ]
    }
   ],
   "source": [
    "test_id =df_education.iat[2,0] # this is an arbitrary user_id\n",
    "\n",
    "def get_user_history(user_id):\n",
    "    print(df_education[df_education['user_id'].str.contains(user_id,regex=False,na=False)][['major', 'startdate','enddate']])\n",
    "    print(df_positions[df_positions['user_id'].str.contains(user_id,regex=False,na=False)][['jobtitle', 'startdate','enddate']])\n",
    "    print(df_seniority[df_seniority['user_id'].str.contains(user_id,regex=False,na=False)][['jobtitle', 'seniority']])\n",
    "\n",
    "get_user_history(test_id)"
   ]
  },
  {
   "cell_type": "markdown",
   "id": "949b06c4",
   "metadata": {},
   "source": [
    "## 1.2 Missing values"
   ]
  },
  {
   "cell_type": "markdown",
   "id": "3da42511",
   "metadata": {},
   "source": [
    "#### Missing values for each df\n",
    "There are more missing values for end dates because it can the current position / education program of someone\n",
    "\n",
    "Missing values for dates are more important than for education/jobtittles to predict the age"
   ]
  },
  {
   "cell_type": "code",
   "execution_count": 15,
   "id": "2bf4b1ef",
   "metadata": {},
   "outputs": [
    {
     "name": "stdout",
     "output_type": "stream",
     "text": [
      "user_id           0\n",
      "jobtitle       1449\n",
      "startdate      9059\n",
      "enddate      107231\n",
      "dtype: int64\n",
      "------\n",
      "user_id          0\n",
      "major        63838\n",
      "startdate    28628\n",
      "enddate      35526\n",
      "dtype: int64\n",
      "------\n",
      "user_id         0\n",
      "jobtitle     2005\n",
      "seniority       0\n",
      "dtype: int64\n",
      "------\n"
     ]
    }
   ],
   "source": [
    "#Missing values\n",
    "print(df_positions.isna().sum(),'------',sep='\\n')\n",
    "print(df_education.isna().sum(),'------',sep='\\n')\n",
    "print(df_seniority.isna().sum(),'------',sep='\\n')"
   ]
  },
  {
   "cell_type": "markdown",
   "id": "e0bc078d",
   "metadata": {},
   "source": [
    "#### Missing starting dates AND enddates are problematic because it makes it hard to impute data"
   ]
  },
  {
   "cell_type": "code",
   "execution_count": 16,
   "id": "0cec17d1",
   "metadata": {
    "scrolled": true
   },
   "outputs": [
    {
     "name": "stdout",
     "output_type": "stream",
     "text": [
      "6518 unique users missing job date info in df_positions\n",
      "0 unique users missing seniority info\n",
      "18036 unique users missing education date info\n"
     ]
    }
   ],
   "source": [
    "df_missing_pos=df_positions[df_positions['enddate'].isna() & df_positions['startdate'].isna()]\n",
    "df_missing_sen=df_seniority[df_seniority['seniority'].isna() ]\n",
    "df_missing_edu=df_education[df_education['enddate'].isna() & df_education['startdate'].isna()]\n",
    "print(count_users(df_missing_pos),'unique users missing job date info in df_positions')\n",
    "print(count_users(df_missing_sen),'unique users missing seniority info')\n",
    "print(count_users(df_missing_edu),'unique users missing education date info')\n",
    "\n"
   ]
  },
  {
   "cell_type": "markdown",
   "id": "2b1e9453",
   "metadata": {},
   "source": [
    "#### This is even more true if there are no dates for both the education and job entries"
   ]
  },
  {
   "cell_type": "code",
   "execution_count": 17,
   "id": "1269254d",
   "metadata": {},
   "outputs": [
    {
     "name": "stdout",
     "output_type": "stream",
     "text": [
      "981 unique users missing dates on all education and job info\n"
     ]
    }
   ],
   "source": [
    "df_missing_all=df_missing_pos.merge(df_missing_edu, how='inner',left_on=['user_id'], right_on=['user_id'])\n",
    "print(count_users(df_missing_all),'unique users missing dates on all education and job info')"
   ]
  },
  {
   "cell_type": "markdown",
   "id": "75c6a7de",
   "metadata": {},
   "source": [
    "# 2. Splitting the data to get the training data \n",
    "\n",
    "## dataprocessing will be done after to prevent data leakage"
   ]
  },
  {
   "cell_type": "markdown",
   "id": "b46971d6",
   "metadata": {},
   "source": [
    "## 2.1 Choosing the training Data\n",
    "\n",
    "People with highscool information have ages that are easy to predict since most people end highschool at the same age.\n",
    "The same is true for Bachelors. \n",
    "As a general rule, the ealier the education is in terms of degree, the better it is to predict the age because of the smaller variability.\n",
    "\n",
    "However as a general rule, masters happen after bachelors for example, and thus can still give information. Some text processing will be beneficial to encode the type of degree.\n",
    "\n",
    "Because there are more people with bachelor information (1/3 of the data) we will use the starting date of the bachelor to determine someone's age for the training data"
   ]
  },
  {
   "cell_type": "code",
   "execution_count": 18,
   "id": "4ecc0efd",
   "metadata": {},
   "outputs": [
    {
     "name": "stdout",
     "output_type": "stream",
     "text": [
      "3368 unique users with a highschool info\n"
     ]
    }
   ],
   "source": [
    "mask_high = df_education.major.apply(lambda x: ('highschool' in str(x).lower()) or ('high school' in str(x).lower()) )\n",
    "print(count_users(df_education[mask_high]),'unique users with a highschool info')"
   ]
  },
  {
   "cell_type": "code",
   "execution_count": 19,
   "id": "8f5fad4a",
   "metadata": {},
   "outputs": [
    {
     "name": "stdout",
     "output_type": "stream",
     "text": [
      "37463 unique users with a bachelor info\n"
     ]
    }
   ],
   "source": [
    "bachelors=['bachelor','bs ','ba ','b.s.','b.a.']\n",
    "mask_ba = df_education.major.apply(lambda x:  any(bachelor in str(x).lower() for bachelor in bachelors))\n",
    "print(count_users(df_education[mask_ba]),'unique users with a bachelor info')"
   ]
  },
  {
   "cell_type": "code",
   "execution_count": 20,
   "id": "16245cdc",
   "metadata": {},
   "outputs": [
    {
     "name": "stdout",
     "output_type": "stream",
     "text": [
      "33931 unique users with a bachelor info containing exactly 'bachelor'\n"
     ]
    }
   ],
   "source": [
    "bachelors=['bachelor']\n",
    "mask_ba = df_education.major.apply(lambda x:  any(bachelor in str(x).lower() for bachelor in bachelors))\n",
    "print(count_users(df_education[mask_ba]),'unique users with a bachelor info containing exactly \\'bachelor\\'')"
   ]
  },
  {
   "cell_type": "markdown",
   "id": "9a749efa",
   "metadata": {},
   "source": [
    "#### We will use the later as it is simpler to work with, and 1/3 of the data as training data is enough.\n",
    "##### we will use NLP and clustering to encode similer majors, taking into account abbreviations such as 'bs' or 'b.s.'"
   ]
  },
  {
   "cell_type": "code",
   "execution_count": 21,
   "id": "8791e14c",
   "metadata": {},
   "outputs": [],
   "source": [
    "# using the mask to get the list of users that are used for the traning data\n",
    "training_users=pd.unique(df_education[mask_ba]['user_id']).tolist()"
   ]
  },
  {
   "cell_type": "markdown",
   "id": "c376d775",
   "metadata": {},
   "source": [
    "## 2.2 Splitting the data frames"
   ]
  },
  {
   "cell_type": "markdown",
   "id": "b674924f",
   "metadata": {},
   "source": [
    "##### We split the users that have bachelor info into training data and validation data to later measure the performance of the models\n",
    "##### The rest of the users (about 2/3) is the testing data that has no label"
   ]
  },
  {
   "cell_type": "code",
   "execution_count": 22,
   "id": "5f14aaf0",
   "metadata": {},
   "outputs": [],
   "source": [
    "from sklearn.model_selection import train_test_split\n",
    "\n",
    "# split the df into train, val and test data\n",
    "def split_df(users,df):\n",
    "    # 1/3 of the users with label is going to be used as val data\n",
    "    users_train,users_val=train_test_split( users, test_size = 0.3, random_state = 42)\n",
    "    # training, val, and testing data\n",
    "    df_train=df.loc[df['user_id'].isin(users_train)]\n",
    "    df_val=df.loc[df['user_id'].isin(users_val)]\n",
    "    df_test=df.loc[~ df['user_id'].isin(users)]\n",
    "    return df_train,df_val,df_test\n",
    "\n",
    "# we have three data frames to split\n",
    "df_positions_train,df_positions_val,df_positions_test=split_df(training_users,df_positions)\n",
    "df_education_train,df_education_val,df_education_test=split_df(training_users,df_education)\n",
    "df_seniority_train,df_seniority_val,df_seniority_test=split_df(training_users,df_seniority)\n",
    "\n",
    "\n",
    "# checking that we still have every user\n",
    "assert(count_users(df_positions_train)+count_users(df_positions_val)+count_users(df_positions_test)==count_users(df_positions)) #posisions does not have 100k users\n",
    "assert(count_users(df_education_train)+count_users(df_education_val)+count_users(df_education_test)==count_users(df_education))\n",
    "assert(count_users(df_seniority_train)+count_users(df_seniority_val)+count_users(df_seniority_test)==count_users(df_seniority))\n"
   ]
  },
  {
   "cell_type": "markdown",
   "id": "f3256813",
   "metadata": {},
   "source": [
    "# 3 Data processing"
   ]
  },
  {
   "cell_type": "code",
   "execution_count": 23,
   "id": "eda8ddd3",
   "metadata": {},
   "outputs": [],
   "source": [
    "from datetime import datetime\n",
    "import random\n",
    "from sklearn.cluster import KMeans\n",
    "from sklearn.feature_extraction.text import TfidfVectorizer,CountVectorizer\n",
    "from sklearn.pipeline import Pipeline\n",
    "#import multiprocessing as mp"
   ]
  },
  {
   "cell_type": "markdown",
   "id": "5b5fd3f9",
   "metadata": {},
   "source": [
    "## 3.1 Explanation and thought process\n",
    "##### This sub part explains the data processing step by step. It has no other purpose, and does not have to be executed"
   ]
  },
  {
   "cell_type": "code",
   "execution_count": 19,
   "id": "f9df0939",
   "metadata": {},
   "outputs": [],
   "source": [
    "df_education=df_education_train.copy()\n",
    "df_positions=df_positions_train.copy()\n",
    "df_seniority=df_seniority_train.copy()"
   ]
  },
  {
   "cell_type": "markdown",
   "id": "f07f5d94",
   "metadata": {},
   "source": [
    "### 3.1.1 Text clustering"
   ]
  },
  {
   "cell_type": "markdown",
   "id": "051cf833",
   "metadata": {},
   "source": [
    "Text processing: this step aims to generate usefull information with the major titles and job titles. Because highschool, bachelor and majors are not done at the same moment, they can give valuable information."
   ]
  },
  {
   "cell_type": "code",
   "execution_count": 20,
   "id": "f1bfb647",
   "metadata": {},
   "outputs": [
    {
     "data": {
      "text/plain": [
       "53940"
      ]
     },
     "execution_count": 20,
     "metadata": {},
     "output_type": "execute_result"
    }
   ],
   "source": [
    "# text clustering is only fitted on training data to prevent data leakage\n",
    "texts=df_education['major'].tolist()\n",
    "len(texts)"
   ]
  },
  {
   "cell_type": "markdown",
   "id": "e5c5928f",
   "metadata": {},
   "source": [
    "We remove part of the rows containing 'bachelor' info to match the ratio of the data set\n",
    "This will balance the data and allow to make to link between 'bachelor' and its abreviations for example"
   ]
  },
  {
   "cell_type": "code",
   "execution_count": 21,
   "id": "9c29b5c0",
   "metadata": {},
   "outputs": [
    {
     "data": {
      "text/plain": [
       "23612"
      ]
     },
     "execution_count": 21,
     "metadata": {},
     "output_type": "execute_result"
    }
   ],
   "source": [
    "processed_text=[]\n",
    "for t in texts:\n",
    "    if (not pd.isnull(t)) and (not 'bachelor' in t.lower() or random.random()<0.33): # removing one third of bechelors to match the rest of the data set\n",
    "        processed_text.append(t)\n",
    "len(processed_text)"
   ]
  },
  {
   "cell_type": "code",
   "execution_count": 22,
   "id": "9afecdba",
   "metadata": {},
   "outputs": [
    {
     "data": {
      "text/plain": [
       "['HHX',\n",
       " 'Master (Cand.mag.)',\n",
       " \"Bachelor's degree Major in Accountancy\",\n",
       " 'Master of Education (MEd)',\n",
       " 'Bachelor of Science (BS)',\n",
       " 'Associate of Science (A.S.)',\n",
       " 'Master of Arts (MA)',\n",
       " 'Bachelor of Arts (B.A.)',\n",
       " \"Master's degree\",\n",
       " 'Masters, Psychology of Safety and Ergonomics',\n",
       " 'Bachelor of Applied Science (BASc)',\n",
       " 'B.S.',\n",
       " 'Master of Public Administration (MPA)',\n",
       " 'Engineering',\n",
       " \"Bachelor's degree\",\n",
       " 'Bachelors, Psychology',\n",
       " 'TEFL CertificateTEFL Certificate',\n",
       " 'Juris Doctor',\n",
       " 'Bachelors in Accounting and Business Management',\n",
       " 'Bachelor of Science (BS)']"
      ]
     },
     "execution_count": 22,
     "metadata": {},
     "output_type": "execute_result"
    }
   ],
   "source": [
    "processed_text[:20]"
   ]
  },
  {
   "cell_type": "markdown",
   "id": "16af75b7",
   "metadata": {},
   "source": [
    "BoW works better than tf-idf because we are interested in the most frequent terms that are the degrees\n",
    "\n",
    "Also, to distinguish different degrees, the use of n-grams if necessary"
   ]
  },
  {
   "cell_type": "code",
   "execution_count": 23,
   "id": "4e468f3a",
   "metadata": {},
   "outputs": [
    {
     "name": "stdout",
     "output_type": "stream",
     "text": [
      "class 0:\n",
      " degree\n",
      " master\n",
      " master degree\n",
      " associate\n",
      " associate degree\n",
      " in\n",
      " degree in\n",
      " master degree in\n",
      " and\n",
      " master 39\n",
      "-------\n",
      "class 1:\n",
      " of\n",
      " diploma\n",
      " masters\n",
      " doctor\n",
      " bachelors\n",
      " certificate\n",
      " doctor of\n",
      " in\n",
      " bachelor\n",
      " philosophy\n",
      "-------\n",
      "class 2:\n",
      " degree\n",
      " bachelor\n",
      " bachelor degree\n",
      " in\n",
      " bachelor degree in\n",
      " degree in\n",
      " of\n",
      " degree of\n",
      " bachelor degree of\n",
      " and\n",
      "-------\n",
      "class 3:\n",
      " science\n",
      " of\n",
      " bachelor of science\n",
      " of science\n",
      " bachelor of science bs\n",
      " bachelor\n",
      " bs\n",
      " bachelor of\n",
      " science bs\n",
      " of science bs\n",
      "-------\n",
      "class 4:\n",
      " master of\n",
      " science\n",
      " master of science\n",
      " of science\n",
      " of\n",
      " master\n",
      " master of science ms\n",
      " ms\n",
      " of science ms\n",
      " science ms\n",
      "-------\n",
      "class 5:\n",
      " school\n",
      " high\n",
      " high school\n",
      " diploma\n",
      " school diploma\n",
      " high school diploma\n",
      " degree\n",
      " school degree\n",
      " high school degree\n",
      " and\n",
      "-------\n",
      "class 6:\n",
      " of\n",
      " bachelor\n",
      " bachelor of\n",
      " arts\n",
      " of arts\n",
      " bachelor of arts\n",
      " business\n",
      " of business\n",
      " bachelor of business\n",
      " administration\n",
      "-------\n",
      "class 7:\n",
      " of\n",
      " master\n",
      " master of\n",
      " science\n",
      " of science\n",
      " master of science\n",
      " arts\n",
      " of arts\n",
      " master of arts\n",
      " msc\n",
      "-------\n",
      "class 8:\n",
      " of\n",
      " administration\n",
      " of business administration\n",
      " business administration\n",
      " business\n",
      " of business\n",
      " master\n",
      " master of\n",
      " master of business\n",
      " master of business administration\n",
      "-------\n",
      "class 9:\n",
      " science\n",
      " of\n",
      " bachelor\n",
      " bachelor of\n",
      " of science\n",
      " bachelor of science\n",
      " sc\n",
      " science sc\n",
      " applied\n",
      " applied science\n",
      "-------\n"
     ]
    }
   ],
   "source": [
    "#sometimes bachelors and majors get in the same cluster, a higher number of cluster helps to encode more nuance\n",
    "number_of_clusters = 10\n",
    "\n",
    "#pipeline with BoW and kmean++\n",
    "majors_pipe = Pipeline([('vectorizer', CountVectorizer(ngram_range=(1, 4))), ('majors_model', KMeans(n_clusters=number_of_clusters, init='k-means++', max_iter=50, n_init=2))])\n",
    "majors_pipe.fit(processed_text)\n",
    "\n",
    "# visualize the clusters\n",
    "order_centroids = majors_pipe['majors_model'].cluster_centers_.argsort()[:, ::-1]\n",
    "terms = majors_pipe['vectorizer'].get_feature_names()\n",
    "\n",
    "for i in range(0,number_of_clusters):\n",
    "    print(\"class %d:\" % i),\n",
    "    for ind in order_centroids[i, :10]:\n",
    "        print(' %s' % terms[ind])\n",
    "    print('-------')"
   ]
  },
  {
   "cell_type": "code",
   "execution_count": 24,
   "id": "80cd0780",
   "metadata": {},
   "outputs": [],
   "source": [
    "#adding the cluster info to the df\n",
    "\n",
    "def add_cluster_edu(df):\n",
    "    majors=df['major'].astype(str).tolist()\n",
    "    major_clusters=majors_pipe.predict(majors)\n",
    "    df['major_cluster']=major_clusters\n",
    "add_cluster_edu(df_education)"
   ]
  },
  {
   "cell_type": "code",
   "execution_count": 25,
   "id": "c19d47ee",
   "metadata": {},
   "outputs": [
    {
     "data": {
      "text/html": [
       "<div>\n",
       "<style scoped>\n",
       "    .dataframe tbody tr th:only-of-type {\n",
       "        vertical-align: middle;\n",
       "    }\n",
       "\n",
       "    .dataframe tbody tr th {\n",
       "        vertical-align: top;\n",
       "    }\n",
       "\n",
       "    .dataframe thead th {\n",
       "        text-align: right;\n",
       "    }\n",
       "</style>\n",
       "<table border=\"1\" class=\"dataframe\">\n",
       "  <thead>\n",
       "    <tr style=\"text-align: right;\">\n",
       "      <th></th>\n",
       "      <th>major</th>\n",
       "      <th>major_cluster</th>\n",
       "    </tr>\n",
       "  </thead>\n",
       "  <tbody>\n",
       "    <tr>\n",
       "      <th>98363</th>\n",
       "      <td>Master of Education (MEd)</td>\n",
       "      <td>7</td>\n",
       "    </tr>\n",
       "    <tr>\n",
       "      <th>98791</th>\n",
       "      <td>Associate of Science (A.S.)</td>\n",
       "      <td>7</td>\n",
       "    </tr>\n",
       "    <tr>\n",
       "      <th>80143</th>\n",
       "      <td>Master of Arts (MA)</td>\n",
       "      <td>7</td>\n",
       "    </tr>\n",
       "    <tr>\n",
       "      <th>135047</th>\n",
       "      <td>Master of Public Administration (MPA)</td>\n",
       "      <td>7</td>\n",
       "    </tr>\n",
       "    <tr>\n",
       "      <th>212877</th>\n",
       "      <td>Master of Arts (MA)</td>\n",
       "      <td>7</td>\n",
       "    </tr>\n",
       "  </tbody>\n",
       "</table>\n",
       "</div>"
      ],
      "text/plain": [
       "                                        major  major_cluster\n",
       "98363               Master of Education (MEd)              7\n",
       "98791             Associate of Science (A.S.)              7\n",
       "80143                     Master of Arts (MA)              7\n",
       "135047  Master of Public Administration (MPA)              7\n",
       "212877                    Master of Arts (MA)              7"
      ]
     },
     "execution_count": 25,
     "metadata": {},
     "output_type": "execute_result"
    }
   ],
   "source": [
    "df_education[df_education['major_cluster']==7][['major','major_cluster']].head()"
   ]
  },
  {
   "cell_type": "code",
   "execution_count": 26,
   "id": "d65a6e00",
   "metadata": {},
   "outputs": [
    {
     "data": {
      "text/html": [
       "<div>\n",
       "<style scoped>\n",
       "    .dataframe tbody tr th:only-of-type {\n",
       "        vertical-align: middle;\n",
       "    }\n",
       "\n",
       "    .dataframe tbody tr th {\n",
       "        vertical-align: top;\n",
       "    }\n",
       "\n",
       "    .dataframe thead th {\n",
       "        text-align: right;\n",
       "    }\n",
       "</style>\n",
       "<table border=\"1\" class=\"dataframe\">\n",
       "  <thead>\n",
       "    <tr style=\"text-align: right;\">\n",
       "      <th></th>\n",
       "      <th>major</th>\n",
       "      <th>major_cluster</th>\n",
       "    </tr>\n",
       "  </thead>\n",
       "  <tbody>\n",
       "    <tr>\n",
       "      <th>98210</th>\n",
       "      <td>Bachelor of Science (BS)</td>\n",
       "      <td>3</td>\n",
       "    </tr>\n",
       "    <tr>\n",
       "      <th>177584</th>\n",
       "      <td>Bachelor of Science (BS)</td>\n",
       "      <td>3</td>\n",
       "    </tr>\n",
       "    <tr>\n",
       "      <th>88328</th>\n",
       "      <td>Bachelor of Science (BS)</td>\n",
       "      <td>3</td>\n",
       "    </tr>\n",
       "    <tr>\n",
       "      <th>170666</th>\n",
       "      <td>Bachelor of Science (BS)</td>\n",
       "      <td>3</td>\n",
       "    </tr>\n",
       "    <tr>\n",
       "      <th>86699</th>\n",
       "      <td>Bachelor of Science (BS)</td>\n",
       "      <td>3</td>\n",
       "    </tr>\n",
       "  </tbody>\n",
       "</table>\n",
       "</div>"
      ],
      "text/plain": [
       "                           major  major_cluster\n",
       "98210   Bachelor of Science (BS)              3\n",
       "177584  Bachelor of Science (BS)              3\n",
       "88328   Bachelor of Science (BS)              3\n",
       "170666  Bachelor of Science (BS)              3\n",
       "86699   Bachelor of Science (BS)              3"
      ]
     },
     "execution_count": 26,
     "metadata": {},
     "output_type": "execute_result"
    }
   ],
   "source": [
    "df_education[df_education['major_cluster']==3][['major','major_cluster']].head()"
   ]
  },
  {
   "cell_type": "markdown",
   "id": "b456132f",
   "metadata": {},
   "source": [
    "##### in the implementation part we will do the same for job titles"
   ]
  },
  {
   "cell_type": "markdown",
   "id": "2ecd1a8e",
   "metadata": {},
   "source": [
    "### 3.1.2 Other data processing and imputation"
   ]
  },
  {
   "cell_type": "markdown",
   "id": "f528056e",
   "metadata": {},
   "source": [
    "We change the dates to numerical data, format does not really matter, so I chose a format that is easily understood."
   ]
  },
  {
   "cell_type": "code",
   "execution_count": 27,
   "id": "2fe2dff7",
   "metadata": {},
   "outputs": [],
   "source": [
    "# changing dates to numerical data \n",
    "# integer part gives the year\n",
    "def to_datetime(df,col):\n",
    "    df[col] =  pd.to_datetime(df[col], format='%Y-%m-%d')\n",
    "    df[col] =  df[col].dt.year+ df[col].dt.month/13\n",
    "    return df\n",
    "\n",
    "df_education = df_education.pipe(to_datetime,col='startdate').pipe(to_datetime,col='enddate')\n",
    "df_positions = df_positions.pipe(to_datetime,col='startdate').pipe(to_datetime,col='enddate')"
   ]
  },
  {
   "cell_type": "code",
   "execution_count": 28,
   "id": "dbc7e51c",
   "metadata": {},
   "outputs": [
    {
     "data": {
      "text/html": [
       "<div>\n",
       "<style scoped>\n",
       "    .dataframe tbody tr th:only-of-type {\n",
       "        vertical-align: middle;\n",
       "    }\n",
       "\n",
       "    .dataframe tbody tr th {\n",
       "        vertical-align: top;\n",
       "    }\n",
       "\n",
       "    .dataframe thead th {\n",
       "        text-align: right;\n",
       "    }\n",
       "</style>\n",
       "<table border=\"1\" class=\"dataframe\">\n",
       "  <thead>\n",
       "    <tr style=\"text-align: right;\">\n",
       "      <th></th>\n",
       "      <th>user_id</th>\n",
       "      <th>major</th>\n",
       "      <th>startdate</th>\n",
       "      <th>enddate</th>\n",
       "      <th>major_cluster</th>\n",
       "    </tr>\n",
       "  </thead>\n",
       "  <tbody>\n",
       "    <tr>\n",
       "      <th>88874</th>\n",
       "      <td>++8qqHNDQSyp1Yd45ROBZg5+2cvffV/mNepQVJd0smgtpB...</td>\n",
       "      <td>NaN</td>\n",
       "      <td>2013.076923</td>\n",
       "      <td>2014.076923</td>\n",
       "      <td>1</td>\n",
       "    </tr>\n",
       "    <tr>\n",
       "      <th>89006</th>\n",
       "      <td>++8qqHNDQSyp1Yd45ROBZg5+2cvffV/mNepQVJd0smgtpB...</td>\n",
       "      <td>NaN</td>\n",
       "      <td>2011.076923</td>\n",
       "      <td>2011.076923</td>\n",
       "      <td>1</td>\n",
       "    </tr>\n",
       "    <tr>\n",
       "      <th>89032</th>\n",
       "      <td>++8qqHNDQSyp1Yd45ROBZg5+2cvffV/mNepQVJd0smgtpB...</td>\n",
       "      <td>HHX</td>\n",
       "      <td>2000.076923</td>\n",
       "      <td>2003.076923</td>\n",
       "      <td>1</td>\n",
       "    </tr>\n",
       "    <tr>\n",
       "      <th>89089</th>\n",
       "      <td>++8qqHNDQSyp1Yd45ROBZg5+2cvffV/mNepQVJd0smgtpB...</td>\n",
       "      <td>Master (Cand.mag.)</td>\n",
       "      <td>2009.076923</td>\n",
       "      <td>2011.076923</td>\n",
       "      <td>1</td>\n",
       "    </tr>\n",
       "    <tr>\n",
       "      <th>89122</th>\n",
       "      <td>++8qqHNDQSyp1Yd45ROBZg5+2cvffV/mNepQVJd0smgtpB...</td>\n",
       "      <td>Bachelor (BA)</td>\n",
       "      <td>2004.076923</td>\n",
       "      <td>2006.076923</td>\n",
       "      <td>1</td>\n",
       "    </tr>\n",
       "  </tbody>\n",
       "</table>\n",
       "</div>"
      ],
      "text/plain": [
       "                                                 user_id               major  \\\n",
       "88874  ++8qqHNDQSyp1Yd45ROBZg5+2cvffV/mNepQVJd0smgtpB...                 NaN   \n",
       "89006  ++8qqHNDQSyp1Yd45ROBZg5+2cvffV/mNepQVJd0smgtpB...                 NaN   \n",
       "89032  ++8qqHNDQSyp1Yd45ROBZg5+2cvffV/mNepQVJd0smgtpB...                 HHX   \n",
       "89089  ++8qqHNDQSyp1Yd45ROBZg5+2cvffV/mNepQVJd0smgtpB...  Master (Cand.mag.)   \n",
       "89122  ++8qqHNDQSyp1Yd45ROBZg5+2cvffV/mNepQVJd0smgtpB...       Bachelor (BA)   \n",
       "\n",
       "         startdate      enddate  major_cluster  \n",
       "88874  2013.076923  2014.076923              1  \n",
       "89006  2011.076923  2011.076923              1  \n",
       "89032  2000.076923  2003.076923              1  \n",
       "89089  2009.076923  2011.076923              1  \n",
       "89122  2004.076923  2006.076923              1  "
      ]
     },
     "execution_count": 28,
     "metadata": {},
     "output_type": "execute_result"
    }
   ],
   "source": [
    "df_education.head()"
   ]
  },
  {
   "cell_type": "markdown",
   "id": "6d6519e6",
   "metadata": {},
   "source": [
    "Missing end dates with existing start dates will be replaced by the current date, as if the education/job is ongoing"
   ]
  },
  {
   "cell_type": "code",
   "execution_count": 29,
   "id": "748a3768",
   "metadata": {},
   "outputs": [
    {
     "name": "stdout",
     "output_type": "stream",
     "text": [
      "completing position end dates...\n",
      "today:  2022.076923076923\n",
      "added 24017 values \n",
      "\n",
      "completing education end dates...\n",
      "today:  2022.076923076923\n",
      "added 1815 values \n",
      "\n"
     ]
    }
   ],
   "source": [
    "#filling missing values\n",
    "\n",
    "def fill_end_dates(df):\n",
    "    #today's date\n",
    "    now = datetime.now()\n",
    "    today=now.year+now.month/13\n",
    "    print('today: ',today)\n",
    "    before=df['enddate'].isna().sum()\n",
    "    \n",
    "    # if start date exist, fill missing end date value\n",
    "    df['enddate']=df.apply(lambda row: today if pd.isnull(row['enddate']) and (not pd.isnull(row['startdate'])) else row['enddate'],axis=1)\n",
    "    \n",
    "    print('added',before-df['enddate'].isna().sum(),'values \\n')\n",
    "    return df\n",
    "\n",
    "print('completing position end dates...')\n",
    "df_positions=fill_end_dates(df_positions)\n",
    "print('completing education end dates...')\n",
    "df_education=fill_end_dates(df_education)\n"
   ]
  },
  {
   "cell_type": "markdown",
   "id": "464a2bd4",
   "metadata": {},
   "source": [
    "If the start date is missing and the end date exists, we interpolate the start date with the average job/education length"
   ]
  },
  {
   "cell_type": "code",
   "execution_count": 30,
   "id": "1baadcf1",
   "metadata": {},
   "outputs": [
    {
     "name": "stdout",
     "output_type": "stream",
     "text": [
      "completing education start dates...\n",
      "average length:  3.608725981355825 yrs\n",
      "added 398 values \n",
      "\n",
      "completing position end dates...\n",
      "average length:  3.962133030775779 yrs\n",
      "added 21 values \n",
      "\n"
     ]
    }
   ],
   "source": [
    "def fill_startdate(df):\n",
    "    # df with no missing values\n",
    "    df_nona=df[['startdate','enddate']].dropna(how='all',inplace=False)\n",
    "    df_nona['length']=df_nona['enddate']-df_nona['startdate']\n",
    "    \n",
    "    #avg length\n",
    "    avg_length=df_nona[\"length\"].mean()\n",
    "    print('average length: ',avg_length,'yrs')\n",
    "    \n",
    "    before=df['startdate'].isna().sum()\n",
    "    \n",
    "    # filling missing start dates with end dates and avg duration\n",
    "    df['startdate'].fillna(df['enddate']-avg_length, inplace=True)\n",
    "    print('added',before-df['startdate'].isna().sum(),'values \\n')\n",
    "    return df\n",
    "print('completing education start dates...')\n",
    "df_education=fill_startdate(df_education)\n",
    "print('completing position end dates...')\n",
    "df_positions=fill_startdate(df_positions)"
   ]
  },
  {
   "cell_type": "markdown",
   "id": "d7ff7393",
   "metadata": {},
   "source": [
    "If both start dates and end dates are missing, we will just fill with the average value"
   ]
  },
  {
   "cell_type": "code",
   "execution_count": 31,
   "id": "47d30934",
   "metadata": {},
   "outputs": [
    {
     "name": "stdout",
     "output_type": "stream",
     "text": [
      "completing education remaining dates...\n",
      "average start date:  2003.2742277486996 yrs\n",
      "average end date:  2006.8829537300555 yrs\n",
      "added 6235 values \n",
      "\n",
      "completing position remaining dates...\n",
      "average start date:  2010.1799402443198 yrs\n",
      "average end date:  2014.142073275095 yrs\n",
      "added 1635 values \n",
      "\n"
     ]
    }
   ],
   "source": [
    "def fill_dates_missingall(df):\n",
    "    # df with no missing values\n",
    "    df_nona=df[['startdate','enddate']].dropna(how='all',inplace=False)\n",
    "    \n",
    "    # avg start and end dates\n",
    "    avg_start=df_nona[\"startdate\"].mean()\n",
    "    avg_end=df_nona[\"enddate\"].mean()\n",
    "    print('average start date: ',avg_start,'yrs')\n",
    "    print('average end date: ',avg_end,'yrs')\n",
    "    \n",
    "    before=df['startdate'].isna().sum()\n",
    "    \n",
    "    # filling missing dates with avg values\n",
    "    df['startdate'].fillna(avg_start, inplace=True)\n",
    "    df['enddate'].fillna(avg_end, inplace=True)\n",
    "    print('added',before-df['startdate'].isna().sum(),'values \\n')\n",
    "    return df  \n",
    "\n",
    "print('completing education remaining dates...')\n",
    "df_education=fill_dates_missingall(df_education)\n",
    "print('completing position remaining dates...')\n",
    "df_positions=fill_dates_missingall(df_positions)"
   ]
  },
  {
   "cell_type": "code",
   "execution_count": 32,
   "id": "4d43e033",
   "metadata": {},
   "outputs": [],
   "source": [
    "# missing seniorities with mean value. \n",
    "#A more sophisticated approach with the job cluster info could have been used.\n",
    "\n",
    "df_seniority['seniority'].fillna((df_seniority['seniority'].mean()), inplace=True)"
   ]
  },
  {
   "cell_type": "markdown",
   "id": "c9eca005",
   "metadata": {},
   "source": [
    "Because we will join the dates in arrays by user_id, we need to sort the dates so that they appear in order"
   ]
  },
  {
   "cell_type": "code",
   "execution_count": 33,
   "id": "ce1c3974",
   "metadata": {},
   "outputs": [],
   "source": [
    "# sorting by startdate for later:\n",
    "df_positions.sort_values(by=['startdate'],inplace=True)\n",
    "df_education.sort_values(by=['startdate'],inplace=True)"
   ]
  },
  {
   "cell_type": "markdown",
   "id": "684dfc2d",
   "metadata": {},
   "source": [
    "The only missing values are texts that will not be used by the model:"
   ]
  },
  {
   "cell_type": "code",
   "execution_count": 34,
   "id": "bdd4852a",
   "metadata": {},
   "outputs": [
    {
     "name": "stdout",
     "output_type": "stream",
     "text": [
      "user_id              0\n",
      "major            12258\n",
      "startdate            0\n",
      "enddate              0\n",
      "major_cluster        0\n",
      "dtype: int64\n",
      "user_id        0\n",
      "jobtitle     458\n",
      "seniority      0\n",
      "dtype: int64\n"
     ]
    },
    {
     "data": {
      "text/plain": [
       "user_id        0\n",
       "jobtitle     333\n",
       "startdate      0\n",
       "enddate        0\n",
       "dtype: int64"
      ]
     },
     "execution_count": 34,
     "metadata": {},
     "output_type": "execute_result"
    }
   ],
   "source": [
    "print(df_education.isna().sum())\n",
    "print(df_seniority.isna().sum())\n",
    "df_positions.isna().sum()"
   ]
  },
  {
   "cell_type": "markdown",
   "id": "0b20f54a",
   "metadata": {},
   "source": [
    "Grouping by user_id. We saw in part 1 that df_positions lacks some users hence the right join"
   ]
  },
  {
   "cell_type": "code",
   "execution_count": 35,
   "id": "7ce37e2f",
   "metadata": {},
   "outputs": [
    {
     "name": "stdout",
     "output_type": "stream",
     "text": [
      "23751 users\n"
     ]
    }
   ],
   "source": [
    "df=df_positions.merge(df_seniority, how='right',left_on=['user_id','jobtitle'], right_on=['user_id','jobtitle']) # only position lacks users, hence right join\n",
    "\n",
    "# putting values into a list if a user has multiple entries\n",
    "df=df.groupby('user_id').agg(lambda x: list(x))\n",
    "# putting values into a list if a user has multiple entries\n",
    "df_education_temp=df_education.groupby('user_id').agg(lambda x: list(x))\n",
    "\n",
    "df=df.merge(df_education_temp, how='outer', left_on='user_id', right_on='user_id')\n",
    "\n",
    "print(len(df),'users')"
   ]
  },
  {
   "cell_type": "code",
   "execution_count": 36,
   "id": "8f0e46cf",
   "metadata": {},
   "outputs": [
    {
     "data": {
      "text/html": [
       "<div>\n",
       "<style scoped>\n",
       "    .dataframe tbody tr th:only-of-type {\n",
       "        vertical-align: middle;\n",
       "    }\n",
       "\n",
       "    .dataframe tbody tr th {\n",
       "        vertical-align: top;\n",
       "    }\n",
       "\n",
       "    .dataframe thead th {\n",
       "        text-align: right;\n",
       "    }\n",
       "</style>\n",
       "<table border=\"1\" class=\"dataframe\">\n",
       "  <thead>\n",
       "    <tr style=\"text-align: right;\">\n",
       "      <th></th>\n",
       "      <th>jobtitle</th>\n",
       "      <th>startdate_x</th>\n",
       "      <th>enddate_x</th>\n",
       "      <th>seniority</th>\n",
       "      <th>major</th>\n",
       "      <th>startdate_y</th>\n",
       "      <th>enddate_y</th>\n",
       "      <th>major_cluster</th>\n",
       "    </tr>\n",
       "    <tr>\n",
       "      <th>user_id</th>\n",
       "      <th></th>\n",
       "      <th></th>\n",
       "      <th></th>\n",
       "      <th></th>\n",
       "      <th></th>\n",
       "      <th></th>\n",
       "      <th></th>\n",
       "      <th></th>\n",
       "    </tr>\n",
       "  </thead>\n",
       "  <tbody>\n",
       "    <tr>\n",
       "      <th>++8qqHNDQSyp1Yd45ROBZg5+2cvffV/mNepQVJd0smgtpBr4MGMFJQ==</th>\n",
       "      <td>[editor_responsible_sales_marketing, redaktion...</td>\n",
       "      <td>[2005.076923076923, 2013.6153846153845, 2003.6...</td>\n",
       "      <td>[2007.076923076923, 2015.076923076923, 2004.53...</td>\n",
       "      <td>[3.3528158295281583, 5.927183801602832, 5.3989...</td>\n",
       "      <td>[HHX, Bachelor (BA), Master (Cand.mag.), nan, ...</td>\n",
       "      <td>[2000.076923076923, 2004.076923076923, 2009.07...</td>\n",
       "      <td>[2003.076923076923, 2006.076923076923, 2011.07...</td>\n",
       "      <td>[1, 1, 1, 1, 1]</td>\n",
       "    </tr>\n",
       "    <tr>\n",
       "      <th>++P3GpkLINRrbYEiFplujg5+2cvffV/mNepQVJd0smgtpBr4MGMFJQ==</th>\n",
       "      <td>[service_officer_junior_assistant_manager, rel...</td>\n",
       "      <td>[2013.3076923076924, 2014.7692307692307, 2005....</td>\n",
       "      <td>[2013.8461538461538, 2022.076923076923, 2009.3...</td>\n",
       "      <td>[3.667387270279227, 5.744002044310875, 3.99392...</td>\n",
       "      <td>[Bachelor's degree in Accountancy, Bachelor's ...</td>\n",
       "      <td>[2000.076923076923, 2002.076923076923]</td>\n",
       "      <td>[2002.076923076923, 2004.076923076923]</td>\n",
       "      <td>[2, 2]</td>\n",
       "    </tr>\n",
       "    <tr>\n",
       "      <th>++Upv8fhNd5eyDVjpW6xKA5+2cvffV/mNepQVJd0smgtpBr4MGMFJQ==</th>\n",
       "      <td>[corps_member_|_nonprofit_organization_managem...</td>\n",
       "      <td>[2013.3846153846155, 2012.6923076923076, 2009....</td>\n",
       "      <td>[2022.076923076923, 2013.3846153846155, 2012.3...</td>\n",
       "      <td>[1.6246575342465754, 2.0033618495334737, 1.247...</td>\n",
       "      <td>[Bachelor's degree]</td>\n",
       "      <td>[2008.076923076923]</td>\n",
       "      <td>[2013.076923076923]</td>\n",
       "      <td>[2]</td>\n",
       "    </tr>\n",
       "  </tbody>\n",
       "</table>\n",
       "</div>"
      ],
      "text/plain": [
       "                                                                                             jobtitle  \\\n",
       "user_id                                                                                                 \n",
       "++8qqHNDQSyp1Yd45ROBZg5+2cvffV/mNepQVJd0smgtpBr...  [editor_responsible_sales_marketing, redaktion...   \n",
       "++P3GpkLINRrbYEiFplujg5+2cvffV/mNepQVJd0smgtpBr...  [service_officer_junior_assistant_manager, rel...   \n",
       "++Upv8fhNd5eyDVjpW6xKA5+2cvffV/mNepQVJd0smgtpBr...  [corps_member_|_nonprofit_organization_managem...   \n",
       "\n",
       "                                                                                          startdate_x  \\\n",
       "user_id                                                                                                 \n",
       "++8qqHNDQSyp1Yd45ROBZg5+2cvffV/mNepQVJd0smgtpBr...  [2005.076923076923, 2013.6153846153845, 2003.6...   \n",
       "++P3GpkLINRrbYEiFplujg5+2cvffV/mNepQVJd0smgtpBr...  [2013.3076923076924, 2014.7692307692307, 2005....   \n",
       "++Upv8fhNd5eyDVjpW6xKA5+2cvffV/mNepQVJd0smgtpBr...  [2013.3846153846155, 2012.6923076923076, 2009....   \n",
       "\n",
       "                                                                                            enddate_x  \\\n",
       "user_id                                                                                                 \n",
       "++8qqHNDQSyp1Yd45ROBZg5+2cvffV/mNepQVJd0smgtpBr...  [2007.076923076923, 2015.076923076923, 2004.53...   \n",
       "++P3GpkLINRrbYEiFplujg5+2cvffV/mNepQVJd0smgtpBr...  [2013.8461538461538, 2022.076923076923, 2009.3...   \n",
       "++Upv8fhNd5eyDVjpW6xKA5+2cvffV/mNepQVJd0smgtpBr...  [2022.076923076923, 2013.3846153846155, 2012.3...   \n",
       "\n",
       "                                                                                            seniority  \\\n",
       "user_id                                                                                                 \n",
       "++8qqHNDQSyp1Yd45ROBZg5+2cvffV/mNepQVJd0smgtpBr...  [3.3528158295281583, 5.927183801602832, 5.3989...   \n",
       "++P3GpkLINRrbYEiFplujg5+2cvffV/mNepQVJd0smgtpBr...  [3.667387270279227, 5.744002044310875, 3.99392...   \n",
       "++Upv8fhNd5eyDVjpW6xKA5+2cvffV/mNepQVJd0smgtpBr...  [1.6246575342465754, 2.0033618495334737, 1.247...   \n",
       "\n",
       "                                                                                                major  \\\n",
       "user_id                                                                                                 \n",
       "++8qqHNDQSyp1Yd45ROBZg5+2cvffV/mNepQVJd0smgtpBr...  [HHX, Bachelor (BA), Master (Cand.mag.), nan, ...   \n",
       "++P3GpkLINRrbYEiFplujg5+2cvffV/mNepQVJd0smgtpBr...  [Bachelor's degree in Accountancy, Bachelor's ...   \n",
       "++Upv8fhNd5eyDVjpW6xKA5+2cvffV/mNepQVJd0smgtpBr...                                [Bachelor's degree]   \n",
       "\n",
       "                                                                                          startdate_y  \\\n",
       "user_id                                                                                                 \n",
       "++8qqHNDQSyp1Yd45ROBZg5+2cvffV/mNepQVJd0smgtpBr...  [2000.076923076923, 2004.076923076923, 2009.07...   \n",
       "++P3GpkLINRrbYEiFplujg5+2cvffV/mNepQVJd0smgtpBr...             [2000.076923076923, 2002.076923076923]   \n",
       "++Upv8fhNd5eyDVjpW6xKA5+2cvffV/mNepQVJd0smgtpBr...                                [2008.076923076923]   \n",
       "\n",
       "                                                                                            enddate_y  \\\n",
       "user_id                                                                                                 \n",
       "++8qqHNDQSyp1Yd45ROBZg5+2cvffV/mNepQVJd0smgtpBr...  [2003.076923076923, 2006.076923076923, 2011.07...   \n",
       "++P3GpkLINRrbYEiFplujg5+2cvffV/mNepQVJd0smgtpBr...             [2002.076923076923, 2004.076923076923]   \n",
       "++Upv8fhNd5eyDVjpW6xKA5+2cvffV/mNepQVJd0smgtpBr...                                [2013.076923076923]   \n",
       "\n",
       "                                                      major_cluster  \n",
       "user_id                                                              \n",
       "++8qqHNDQSyp1Yd45ROBZg5+2cvffV/mNepQVJd0smgtpBr...  [1, 1, 1, 1, 1]  \n",
       "++P3GpkLINRrbYEiFplujg5+2cvffV/mNepQVJd0smgtpBr...           [2, 2]  \n",
       "++Upv8fhNd5eyDVjpW6xKA5+2cvffV/mNepQVJd0smgtpBr...              [2]  "
      ]
     },
     "execution_count": 36,
     "metadata": {},
     "output_type": "execute_result"
    }
   ],
   "source": [
    "# the array size is the number of jobs/education rows of a user\n",
    "df.head(3)"
   ]
  },
  {
   "cell_type": "code",
   "execution_count": 37,
   "id": "732864cf",
   "metadata": {},
   "outputs": [
    {
     "data": {
      "text/plain": [
       "{'jobtitle': 567,\n",
       " 'startdate_x': 16525,\n",
       " 'enddate_x': 16525,\n",
       " 'startdate_y': 0,\n",
       " 'major': 12258,\n",
       " 'seniority': 0}"
      ]
     },
     "execution_count": 37,
     "metadata": {},
     "output_type": "execute_result"
    }
   ],
   "source": [
    "missing_count={'jobtitle': 0,'startdate_x':0,'enddate_x':0,'startdate_y':0,'startdate_y':0,'major':0,'seniority':0}\n",
    "mask=[]\n",
    "\n",
    "for rowIndex, row in df.iterrows(): \n",
    "    ismissing=False\n",
    "    for i, value in row.items():\n",
    "        for n in value:\n",
    "            if (pd.isnull(n)):\n",
    "                ismissing=True\n",
    "                missing_count[i]=missing_count[i]+1\n",
    "    if ismissing:\n",
    "        mask.append(True)\n",
    "    else:\n",
    "        mask.append(False)\n",
    "missing_count"
   ]
  },
  {
   "cell_type": "markdown",
   "id": "b50f8aae",
   "metadata": {},
   "source": [
    "Some jobs are in df_seniority but not the df_positions, hence the need to fill more missing dates\n",
    "\n",
    "We fill start dates with the existing date info of of the other entries for the same user: for example a missing start date for a job is going to be filled with the latest end date for a given user\n",
    "\n",
    "It appears that it is enough to fill the remaining missing values"
   ]
  },
  {
   "cell_type": "code",
   "execution_count": 38,
   "id": "318a35ad",
   "metadata": {},
   "outputs": [],
   "source": [
    "df['startdate_x']=df.apply(lambda row: [max(row['enddate_y']) if pd.isnull(date) else date for date in row['startdate_x'] ] ,axis=1)\n",
    "now = datetime.now()\n",
    "today=now.year+now.month/13\n",
    "df['enddate_x']=df['enddate_x'].apply(lambda dates: [today if pd.isnull(date) else date for date in dates])"
   ]
  },
  {
   "cell_type": "markdown",
   "id": "c30ad95f",
   "metadata": {},
   "source": [
    "No more missing values in the desired columns:"
   ]
  },
  {
   "cell_type": "code",
   "execution_count": 39,
   "id": "037a58ed",
   "metadata": {},
   "outputs": [
    {
     "data": {
      "text/plain": [
       "{'jobtitle': 567,\n",
       " 'startdate_x': 0,\n",
       " 'enddate_x': 0,\n",
       " 'startdate_y': 0,\n",
       " 'major': 12258,\n",
       " 'seniority': 0}"
      ]
     },
     "execution_count": 39,
     "metadata": {},
     "output_type": "execute_result"
    }
   ],
   "source": [
    "missing_count={'jobtitle': 0,'startdate_x':0,'enddate_x':0,'startdate_y':0,'startdate_y':0,'major':0,'seniority':0}\n",
    "mask=[]\n",
    "\n",
    "for rowIndex, row in df.iterrows(): \n",
    "    ismissing=False\n",
    "    for i, value in row.items():\n",
    "        for n in value:\n",
    "            if (pd.isnull(n)):\n",
    "                ismissing=True\n",
    "                missing_count[i]=missing_count[i]+1\n",
    "    if ismissing:\n",
    "        mask.append(True)\n",
    "    else:\n",
    "        mask.append(False)\n",
    "missing_count"
   ]
  },
  {
   "cell_type": "markdown",
   "id": "7e340831",
   "metadata": {},
   "source": [
    "### 3.1.3 How to label the data"
   ]
  },
  {
   "cell_type": "markdown",
   "id": "803abf95",
   "metadata": {},
   "source": [
    "It is more relevant to predict the birth date. The age can later be extrapolated from it.\n",
    "\n",
    "Since people start college at 18, we will use the bachelor info of the training data to label it."
   ]
  },
  {
   "cell_type": "code",
   "execution_count": 40,
   "id": "1fb2b3ed",
   "metadata": {},
   "outputs": [
    {
     "name": "stdout",
     "output_type": "stream",
     "text": [
      "generating labels \n",
      "\n"
     ]
    },
    {
     "data": {
      "text/html": [
       "<div>\n",
       "<style scoped>\n",
       "    .dataframe tbody tr th:only-of-type {\n",
       "        vertical-align: middle;\n",
       "    }\n",
       "\n",
       "    .dataframe tbody tr th {\n",
       "        vertical-align: top;\n",
       "    }\n",
       "\n",
       "    .dataframe thead th {\n",
       "        text-align: right;\n",
       "    }\n",
       "</style>\n",
       "<table border=\"1\" class=\"dataframe\">\n",
       "  <thead>\n",
       "    <tr style=\"text-align: right;\">\n",
       "      <th></th>\n",
       "      <th>jobtitle</th>\n",
       "      <th>startdate_x</th>\n",
       "      <th>enddate_x</th>\n",
       "      <th>seniority</th>\n",
       "      <th>major</th>\n",
       "      <th>startdate_y</th>\n",
       "      <th>enddate_y</th>\n",
       "      <th>major_cluster</th>\n",
       "      <th>label</th>\n",
       "    </tr>\n",
       "    <tr>\n",
       "      <th>user_id</th>\n",
       "      <th></th>\n",
       "      <th></th>\n",
       "      <th></th>\n",
       "      <th></th>\n",
       "      <th></th>\n",
       "      <th></th>\n",
       "      <th></th>\n",
       "      <th></th>\n",
       "      <th></th>\n",
       "    </tr>\n",
       "  </thead>\n",
       "  <tbody>\n",
       "    <tr>\n",
       "      <th>++8qqHNDQSyp1Yd45ROBZg5+2cvffV/mNepQVJd0smgtpBr4MGMFJQ==</th>\n",
       "      <td>[editor_responsible_sales_marketing, redaktion...</td>\n",
       "      <td>[2005.076923076923, 2013.6153846153845, 2003.6...</td>\n",
       "      <td>[2007.076923076923, 2015.076923076923, 2004.53...</td>\n",
       "      <td>[3.3528158295281583, 5.927183801602832, 5.3989...</td>\n",
       "      <td>[HHX, Bachelor (BA), Master (Cand.mag.), nan, ...</td>\n",
       "      <td>[2000.076923076923, 2004.076923076923, 2009.07...</td>\n",
       "      <td>[2003.076923076923, 2006.076923076923, 2011.07...</td>\n",
       "      <td>[1, 1, 1, 1, 1]</td>\n",
       "      <td>1986.08</td>\n",
       "    </tr>\n",
       "    <tr>\n",
       "      <th>++P3GpkLINRrbYEiFplujg5+2cvffV/mNepQVJd0smgtpBr4MGMFJQ==</th>\n",
       "      <td>[service_officer_junior_assistant_manager, rel...</td>\n",
       "      <td>[2013.3076923076924, 2014.7692307692307, 2005....</td>\n",
       "      <td>[2013.8461538461538, 2022.076923076923, 2009.3...</td>\n",
       "      <td>[3.667387270279227, 5.744002044310875, 3.99392...</td>\n",
       "      <td>[Bachelor's degree in Accountancy, Bachelor's ...</td>\n",
       "      <td>[2000.076923076923, 2002.076923076923]</td>\n",
       "      <td>[2002.076923076923, 2004.076923076923]</td>\n",
       "      <td>[2, 2]</td>\n",
       "      <td>1982.08</td>\n",
       "    </tr>\n",
       "    <tr>\n",
       "      <th>++Upv8fhNd5eyDVjpW6xKA5+2cvffV/mNepQVJd0smgtpBr4MGMFJQ==</th>\n",
       "      <td>[corps_member_|_nonprofit_organization_managem...</td>\n",
       "      <td>[2013.3846153846155, 2012.6923076923076, 2009....</td>\n",
       "      <td>[2022.076923076923, 2013.3846153846155, 2012.3...</td>\n",
       "      <td>[1.6246575342465754, 2.0033618495334737, 1.247...</td>\n",
       "      <td>[Bachelor's degree]</td>\n",
       "      <td>[2008.076923076923]</td>\n",
       "      <td>[2013.076923076923]</td>\n",
       "      <td>[2]</td>\n",
       "      <td>1990.08</td>\n",
       "    </tr>\n",
       "  </tbody>\n",
       "</table>\n",
       "</div>"
      ],
      "text/plain": [
       "                                                                                             jobtitle  \\\n",
       "user_id                                                                                                 \n",
       "++8qqHNDQSyp1Yd45ROBZg5+2cvffV/mNepQVJd0smgtpBr...  [editor_responsible_sales_marketing, redaktion...   \n",
       "++P3GpkLINRrbYEiFplujg5+2cvffV/mNepQVJd0smgtpBr...  [service_officer_junior_assistant_manager, rel...   \n",
       "++Upv8fhNd5eyDVjpW6xKA5+2cvffV/mNepQVJd0smgtpBr...  [corps_member_|_nonprofit_organization_managem...   \n",
       "\n",
       "                                                                                          startdate_x  \\\n",
       "user_id                                                                                                 \n",
       "++8qqHNDQSyp1Yd45ROBZg5+2cvffV/mNepQVJd0smgtpBr...  [2005.076923076923, 2013.6153846153845, 2003.6...   \n",
       "++P3GpkLINRrbYEiFplujg5+2cvffV/mNepQVJd0smgtpBr...  [2013.3076923076924, 2014.7692307692307, 2005....   \n",
       "++Upv8fhNd5eyDVjpW6xKA5+2cvffV/mNepQVJd0smgtpBr...  [2013.3846153846155, 2012.6923076923076, 2009....   \n",
       "\n",
       "                                                                                            enddate_x  \\\n",
       "user_id                                                                                                 \n",
       "++8qqHNDQSyp1Yd45ROBZg5+2cvffV/mNepQVJd0smgtpBr...  [2007.076923076923, 2015.076923076923, 2004.53...   \n",
       "++P3GpkLINRrbYEiFplujg5+2cvffV/mNepQVJd0smgtpBr...  [2013.8461538461538, 2022.076923076923, 2009.3...   \n",
       "++Upv8fhNd5eyDVjpW6xKA5+2cvffV/mNepQVJd0smgtpBr...  [2022.076923076923, 2013.3846153846155, 2012.3...   \n",
       "\n",
       "                                                                                            seniority  \\\n",
       "user_id                                                                                                 \n",
       "++8qqHNDQSyp1Yd45ROBZg5+2cvffV/mNepQVJd0smgtpBr...  [3.3528158295281583, 5.927183801602832, 5.3989...   \n",
       "++P3GpkLINRrbYEiFplujg5+2cvffV/mNepQVJd0smgtpBr...  [3.667387270279227, 5.744002044310875, 3.99392...   \n",
       "++Upv8fhNd5eyDVjpW6xKA5+2cvffV/mNepQVJd0smgtpBr...  [1.6246575342465754, 2.0033618495334737, 1.247...   \n",
       "\n",
       "                                                                                                major  \\\n",
       "user_id                                                                                                 \n",
       "++8qqHNDQSyp1Yd45ROBZg5+2cvffV/mNepQVJd0smgtpBr...  [HHX, Bachelor (BA), Master (Cand.mag.), nan, ...   \n",
       "++P3GpkLINRrbYEiFplujg5+2cvffV/mNepQVJd0smgtpBr...  [Bachelor's degree in Accountancy, Bachelor's ...   \n",
       "++Upv8fhNd5eyDVjpW6xKA5+2cvffV/mNepQVJd0smgtpBr...                                [Bachelor's degree]   \n",
       "\n",
       "                                                                                          startdate_y  \\\n",
       "user_id                                                                                                 \n",
       "++8qqHNDQSyp1Yd45ROBZg5+2cvffV/mNepQVJd0smgtpBr...  [2000.076923076923, 2004.076923076923, 2009.07...   \n",
       "++P3GpkLINRrbYEiFplujg5+2cvffV/mNepQVJd0smgtpBr...             [2000.076923076923, 2002.076923076923]   \n",
       "++Upv8fhNd5eyDVjpW6xKA5+2cvffV/mNepQVJd0smgtpBr...                                [2008.076923076923]   \n",
       "\n",
       "                                                                                            enddate_y  \\\n",
       "user_id                                                                                                 \n",
       "++8qqHNDQSyp1Yd45ROBZg5+2cvffV/mNepQVJd0smgtpBr...  [2003.076923076923, 2006.076923076923, 2011.07...   \n",
       "++P3GpkLINRrbYEiFplujg5+2cvffV/mNepQVJd0smgtpBr...             [2002.076923076923, 2004.076923076923]   \n",
       "++Upv8fhNd5eyDVjpW6xKA5+2cvffV/mNepQVJd0smgtpBr...                                [2013.076923076923]   \n",
       "\n",
       "                                                      major_cluster    label  \n",
       "user_id                                                                       \n",
       "++8qqHNDQSyp1Yd45ROBZg5+2cvffV/mNepQVJd0smgtpBr...  [1, 1, 1, 1, 1]  1986.08  \n",
       "++P3GpkLINRrbYEiFplujg5+2cvffV/mNepQVJd0smgtpBr...           [2, 2]  1982.08  \n",
       "++Upv8fhNd5eyDVjpW6xKA5+2cvffV/mNepQVJd0smgtpBr...              [2]  1990.08  "
      ]
     },
     "execution_count": 40,
     "metadata": {},
     "output_type": "execute_result"
    }
   ],
   "source": [
    "### Get labels with the bachelor info\n",
    "def get_labels(df,remove_info=False):\n",
    "\n",
    "    print('generating labels \\n')\n",
    "    df['label']=None\n",
    "\n",
    "    # get the index of first substring occurence, we want the first bachelor degree \n",
    "    def get_first_index(mylist, substring):\n",
    "        for i, s in enumerate(mylist):\n",
    "            if  not pd.isnull(s) and substring in s.lower():\n",
    "                  return i\n",
    "        return -1\n",
    "    # iter through the df\n",
    "    for index, row in df.iterrows():\n",
    "        \n",
    "        i=get_first_index(row['major'],'bachelor')\n",
    "        # people start bachelors at 18\n",
    "        birth=row['startdate_y'][i]-18\n",
    "\n",
    "        if i!=-1:\n",
    "            df.loc[index,'label'] = birth \n",
    "\n",
    "             # remove bachelor info for training \n",
    "            if remove_info and len(row['enddate_y'])>1 and random.random()>0.3:\n",
    "                df.at[index,'enddate_y'] = row['enddate_y'][:i]+row['enddate_y'][i+1:]\n",
    "                df.at[index,'startdate_y'] = row['startdate_y'][:i]+row['startdate_y'][i+1:]\n",
    "                df.at[index,'major'] =  row['major'][:i]+row['major'][i+1:]\n",
    "        else:\n",
    "            print('ERROR COULD NOT GET LABEL FOR USER:', row.index.name)\n",
    "    return df\n",
    "\n",
    "get_labels(df).head(3)"
   ]
  },
  {
   "cell_type": "markdown",
   "id": "f4d9fc9f",
   "metadata": {},
   "source": [
    "### 3.1.4 convert to numpy array for the training"
   ]
  },
  {
   "cell_type": "markdown",
   "id": "36fad026",
   "metadata": {},
   "source": [
    "We pad the array to a fixed size of 10 with the latest information"
   ]
  },
  {
   "cell_type": "code",
   "execution_count": 41,
   "id": "88787d25",
   "metadata": {},
   "outputs": [
    {
     "data": {
      "text/html": [
       "<div>\n",
       "<style scoped>\n",
       "    .dataframe tbody tr th:only-of-type {\n",
       "        vertical-align: middle;\n",
       "    }\n",
       "\n",
       "    .dataframe tbody tr th {\n",
       "        vertical-align: top;\n",
       "    }\n",
       "\n",
       "    .dataframe thead th {\n",
       "        text-align: right;\n",
       "    }\n",
       "</style>\n",
       "<table border=\"1\" class=\"dataframe\">\n",
       "  <thead>\n",
       "    <tr style=\"text-align: right;\">\n",
       "      <th></th>\n",
       "      <th>jobtitle</th>\n",
       "      <th>startdate_x</th>\n",
       "      <th>enddate_x</th>\n",
       "      <th>seniority</th>\n",
       "      <th>major</th>\n",
       "      <th>startdate_y</th>\n",
       "      <th>enddate_y</th>\n",
       "      <th>major_cluster</th>\n",
       "      <th>label</th>\n",
       "    </tr>\n",
       "    <tr>\n",
       "      <th>user_id</th>\n",
       "      <th></th>\n",
       "      <th></th>\n",
       "      <th></th>\n",
       "      <th></th>\n",
       "      <th></th>\n",
       "      <th></th>\n",
       "      <th></th>\n",
       "      <th></th>\n",
       "      <th></th>\n",
       "    </tr>\n",
       "  </thead>\n",
       "  <tbody>\n",
       "    <tr>\n",
       "      <th>++8qqHNDQSyp1Yd45ROBZg5+2cvffV/mNepQVJd0smgtpBr4MGMFJQ==</th>\n",
       "      <td>[editor_responsible_sales_marketing, redaktion...</td>\n",
       "      <td>[2005.076923076923, 2013.6153846153845, 2003.6...</td>\n",
       "      <td>[2007.076923076923, 2015.076923076923, 2004.53...</td>\n",
       "      <td>[3.3528158295281583, 5.927183801602832, 5.3989...</td>\n",
       "      <td>[HHX, Bachelor (BA), Master (Cand.mag.), nan, ...</td>\n",
       "      <td>[2000.076923076923, 2004.076923076923, 2009.07...</td>\n",
       "      <td>[2003.076923076923, 2006.076923076923, 2011.07...</td>\n",
       "      <td>[1, 1, 1, 1, 1, 1, 1, 1, 1, 1]</td>\n",
       "      <td>1986.08</td>\n",
       "    </tr>\n",
       "    <tr>\n",
       "      <th>++P3GpkLINRrbYEiFplujg5+2cvffV/mNepQVJd0smgtpBr4MGMFJQ==</th>\n",
       "      <td>[service_officer_junior_assistant_manager, rel...</td>\n",
       "      <td>[2013.3076923076924, 2014.7692307692307, 2005....</td>\n",
       "      <td>[2013.8461538461538, 2022.076923076923, 2009.3...</td>\n",
       "      <td>[3.667387270279227, 5.744002044310875, 3.99392...</td>\n",
       "      <td>[Bachelor's degree in Accountancy, Bachelor's ...</td>\n",
       "      <td>[2000.076923076923, 2002.076923076923, 2002.07...</td>\n",
       "      <td>[2002.076923076923, 2004.076923076923, 2004.07...</td>\n",
       "      <td>[2, 2, 2, 2, 2, 2, 2, 2, 2, 2]</td>\n",
       "      <td>1982.08</td>\n",
       "    </tr>\n",
       "    <tr>\n",
       "      <th>++Upv8fhNd5eyDVjpW6xKA5+2cvffV/mNepQVJd0smgtpBr4MGMFJQ==</th>\n",
       "      <td>[corps_member_|_nonprofit_organization_managem...</td>\n",
       "      <td>[2013.3846153846155, 2012.6923076923076, 2009....</td>\n",
       "      <td>[2022.076923076923, 2013.3846153846155, 2012.3...</td>\n",
       "      <td>[1.6246575342465754, 2.0033618495334737, 1.247...</td>\n",
       "      <td>[Bachelor's degree]</td>\n",
       "      <td>[2008.076923076923, 2008.076923076923, 2008.07...</td>\n",
       "      <td>[2013.076923076923, 2013.076923076923, 2013.07...</td>\n",
       "      <td>[2, 2, 2, 2, 2, 2, 2, 2, 2, 2]</td>\n",
       "      <td>1990.08</td>\n",
       "    </tr>\n",
       "  </tbody>\n",
       "</table>\n",
       "</div>"
      ],
      "text/plain": [
       "                                                                                             jobtitle  \\\n",
       "user_id                                                                                                 \n",
       "++8qqHNDQSyp1Yd45ROBZg5+2cvffV/mNepQVJd0smgtpBr...  [editor_responsible_sales_marketing, redaktion...   \n",
       "++P3GpkLINRrbYEiFplujg5+2cvffV/mNepQVJd0smgtpBr...  [service_officer_junior_assistant_manager, rel...   \n",
       "++Upv8fhNd5eyDVjpW6xKA5+2cvffV/mNepQVJd0smgtpBr...  [corps_member_|_nonprofit_organization_managem...   \n",
       "\n",
       "                                                                                          startdate_x  \\\n",
       "user_id                                                                                                 \n",
       "++8qqHNDQSyp1Yd45ROBZg5+2cvffV/mNepQVJd0smgtpBr...  [2005.076923076923, 2013.6153846153845, 2003.6...   \n",
       "++P3GpkLINRrbYEiFplujg5+2cvffV/mNepQVJd0smgtpBr...  [2013.3076923076924, 2014.7692307692307, 2005....   \n",
       "++Upv8fhNd5eyDVjpW6xKA5+2cvffV/mNepQVJd0smgtpBr...  [2013.3846153846155, 2012.6923076923076, 2009....   \n",
       "\n",
       "                                                                                            enddate_x  \\\n",
       "user_id                                                                                                 \n",
       "++8qqHNDQSyp1Yd45ROBZg5+2cvffV/mNepQVJd0smgtpBr...  [2007.076923076923, 2015.076923076923, 2004.53...   \n",
       "++P3GpkLINRrbYEiFplujg5+2cvffV/mNepQVJd0smgtpBr...  [2013.8461538461538, 2022.076923076923, 2009.3...   \n",
       "++Upv8fhNd5eyDVjpW6xKA5+2cvffV/mNepQVJd0smgtpBr...  [2022.076923076923, 2013.3846153846155, 2012.3...   \n",
       "\n",
       "                                                                                            seniority  \\\n",
       "user_id                                                                                                 \n",
       "++8qqHNDQSyp1Yd45ROBZg5+2cvffV/mNepQVJd0smgtpBr...  [3.3528158295281583, 5.927183801602832, 5.3989...   \n",
       "++P3GpkLINRrbYEiFplujg5+2cvffV/mNepQVJd0smgtpBr...  [3.667387270279227, 5.744002044310875, 3.99392...   \n",
       "++Upv8fhNd5eyDVjpW6xKA5+2cvffV/mNepQVJd0smgtpBr...  [1.6246575342465754, 2.0033618495334737, 1.247...   \n",
       "\n",
       "                                                                                                major  \\\n",
       "user_id                                                                                                 \n",
       "++8qqHNDQSyp1Yd45ROBZg5+2cvffV/mNepQVJd0smgtpBr...  [HHX, Bachelor (BA), Master (Cand.mag.), nan, ...   \n",
       "++P3GpkLINRrbYEiFplujg5+2cvffV/mNepQVJd0smgtpBr...  [Bachelor's degree in Accountancy, Bachelor's ...   \n",
       "++Upv8fhNd5eyDVjpW6xKA5+2cvffV/mNepQVJd0smgtpBr...                                [Bachelor's degree]   \n",
       "\n",
       "                                                                                          startdate_y  \\\n",
       "user_id                                                                                                 \n",
       "++8qqHNDQSyp1Yd45ROBZg5+2cvffV/mNepQVJd0smgtpBr...  [2000.076923076923, 2004.076923076923, 2009.07...   \n",
       "++P3GpkLINRrbYEiFplujg5+2cvffV/mNepQVJd0smgtpBr...  [2000.076923076923, 2002.076923076923, 2002.07...   \n",
       "++Upv8fhNd5eyDVjpW6xKA5+2cvffV/mNepQVJd0smgtpBr...  [2008.076923076923, 2008.076923076923, 2008.07...   \n",
       "\n",
       "                                                                                            enddate_y  \\\n",
       "user_id                                                                                                 \n",
       "++8qqHNDQSyp1Yd45ROBZg5+2cvffV/mNepQVJd0smgtpBr...  [2003.076923076923, 2006.076923076923, 2011.07...   \n",
       "++P3GpkLINRrbYEiFplujg5+2cvffV/mNepQVJd0smgtpBr...  [2002.076923076923, 2004.076923076923, 2004.07...   \n",
       "++Upv8fhNd5eyDVjpW6xKA5+2cvffV/mNepQVJd0smgtpBr...  [2013.076923076923, 2013.076923076923, 2013.07...   \n",
       "\n",
       "                                                                     major_cluster  \\\n",
       "user_id                                                                              \n",
       "++8qqHNDQSyp1Yd45ROBZg5+2cvffV/mNepQVJd0smgtpBr...  [1, 1, 1, 1, 1, 1, 1, 1, 1, 1]   \n",
       "++P3GpkLINRrbYEiFplujg5+2cvffV/mNepQVJd0smgtpBr...  [2, 2, 2, 2, 2, 2, 2, 2, 2, 2]   \n",
       "++Upv8fhNd5eyDVjpW6xKA5+2cvffV/mNepQVJd0smgtpBr...  [2, 2, 2, 2, 2, 2, 2, 2, 2, 2]   \n",
       "\n",
       "                                                      label  \n",
       "user_id                                                      \n",
       "++8qqHNDQSyp1Yd45ROBZg5+2cvffV/mNepQVJd0smgtpBr...  1986.08  \n",
       "++P3GpkLINRrbYEiFplujg5+2cvffV/mNepQVJd0smgtpBr...  1982.08  \n",
       "++Upv8fhNd5eyDVjpW6xKA5+2cvffV/mNepQVJd0smgtpBr...  1990.08  "
      ]
     },
     "execution_count": 41,
     "metadata": {},
     "output_type": "execute_result"
    }
   ],
   "source": [
    "def to_fixed_size(df,cols,size):\n",
    "        for col in cols:\n",
    "            # pad array with last element, or cut array to fixed sixe\n",
    "            df[col] = df[col].apply(lambda x: x[0:size] if (len(x)>size) else  (x + (size-len(x)) * [x[-1]] ))\n",
    "\n",
    "        return df\n",
    "\n",
    "to_fixed_size(df,['enddate_y','startdate_y','seniority','enddate_x','startdate_x','major_cluster'],10).head(3)\n"
   ]
  },
  {
   "cell_type": "code",
   "execution_count": 42,
   "id": "ef2fbfee",
   "metadata": {},
   "outputs": [
    {
     "data": {
      "text/plain": [
       "(23751, 6, 10)"
      ]
     },
     "execution_count": 42,
     "metadata": {},
     "output_type": "execute_result"
    }
   ],
   "source": [
    "# n, cols_count, array size \n",
    "np.asarray(df[['enddate_y','startdate_y','seniority','enddate_x','startdate_x','major_cluster']].values.tolist()).shape"
   ]
  },
  {
   "cell_type": "markdown",
   "id": "1368184d",
   "metadata": {},
   "source": [
    "## 3.2 Putting it all together:"
   ]
  },
  {
   "cell_type": "markdown",
   "id": "087331d3",
   "metadata": {},
   "source": [
    "#### Here we put every processing steps explained above in a class, it's the same code but easier to  use"
   ]
  },
  {
   "cell_type": "code",
   "execution_count": 24,
   "id": "3c5001e9",
   "metadata": {},
   "outputs": [],
   "source": [
    "# for the jobtitles that are '_' seperated\n",
    "def tokenize(text):\n",
    "    return(text.split('_'))\n",
    "\n",
    "class DataTransformer:\n",
    "    # to preven data leakage we use Class constants\n",
    "    #class constants only changed when fit=True\n",
    "    \n",
    "    # different durations used for imputation, only changed with fit=True\n",
    "    avg_length_job= avg_length_edu = avg_end_job = avg_start_job= avg_end_edu = avg_start_edu =0\n",
    "    \n",
    "    # pipelines for text processing, only trained with fit=True\n",
    "    majors_pipe = jobs_pipe = None\n",
    "    \n",
    "    def __init__(self,df_positions,df_education,df_seniority):\n",
    "        self.df_positions = df_positions.copy()\n",
    "        self.df_education=df_education.copy()\n",
    "        self.df_seniority = df_seniority.copy()\n",
    "        \n",
    "    ### pad arrays to fixed sixe for the df to be converted into a matrix\n",
    "    def format_to_size(self,df,labels=False):\n",
    "        print('Formatting dataframe to final size \\n')\n",
    "        def to_fixed_size(df,cols,size):\n",
    "            for col in cols:\n",
    "                # pad array with last element, or cut array to fixed sixe\n",
    "                df[col] = df[col].apply(lambda x: x[0:size] if (len(x)>size) else  (x + (size-len(x)) * [x[-1]] ))\n",
    "            \n",
    "            return df\n",
    "        \n",
    "        return to_fixed_size(df,['enddate_y','startdate_y','seniority','enddate_x','startdate_x','major_cluster','job_cluster'],10)\n",
    "    \n",
    "    ### Get labels with the bachelor info\n",
    "    def get_labels(self,df,remove_info=False):\n",
    "        \n",
    "        print('generating labels \\n')\n",
    "        df['label']=None\n",
    "        \n",
    "        # get the index of first substring occurence, we want the first bachelor degree \n",
    "        def get_first_index(mylist, substring):\n",
    "            for i, s in enumerate(mylist):\n",
    "                if substring in s:\n",
    "                      return i\n",
    "            return -1\n",
    "        # iter through the df\n",
    "        for index, row in df.iterrows():\n",
    "            i=get_first_index(row['major'],'bachelor')\n",
    "            # people start bachelors at 18\n",
    "            birth=row['startdate_y'][i]-18\n",
    "            \n",
    "            if i!=-1:\n",
    "                df.loc[index,'label'] = birth \n",
    "                \n",
    "                 # remove bachelor info for training \n",
    "                if remove_info and len(row['enddate_y'])>1 and random.random()>0.3:\n",
    "                    df.at[index,'enddate_y'] = row['enddate_y'][:i]+row['enddate_y'][i+1:]\n",
    "                    df.at[index,'startdate_y'] = row['startdate_y'][:i]+row['startdate_y'][i+1:]\n",
    "                    df.at[index,'major'] =  row['major'][:i]+row['major'][i+1:]\n",
    "            else:\n",
    "                print('ERROR COULD NOT GET LABEL FOR USER:', row.index.name)\n",
    "        return df\n",
    "    ### merge the positions,education and seniority df\n",
    "    def merge_pd(self,df_positions, df_education,df_seniority,labels=False,remove_info=False):\n",
    "        \n",
    "        # sorting by startdate for later when using the bachelor info\n",
    "        df_positions.sort_values(by=['startdate'],inplace=True)\n",
    "        df_education.sort_values(by=['startdate'],inplace=True)\n",
    "        \n",
    "        # Right merge because positions does not have all users\n",
    "        df=df_positions.merge(df_seniority, how='right',left_on=['user_id','jobtitle'], right_on=['user_id','jobtitle'])\n",
    "        df=df.groupby('user_id').agg(lambda x: list(x))\n",
    "        df_education_temp=df_education.groupby('user_id').agg(lambda x: list(x))\n",
    "        df=df.merge(df_education_temp, how='inner', left_on='user_id', right_on='user_id')\n",
    "        \n",
    "        df['startdate_x']=df.apply(lambda row: [max(row['enddate_y']) if pd.isnull(date) else date for date in row['startdate_x'] ] ,axis=1)\n",
    "        now = datetime.now()\n",
    "        today=now.year+now.month/13\n",
    "        df['enddate_x']=df['enddate_x'].apply(lambda dates: [today if pd.isnull(date) else date for date in dates])\n",
    "        \n",
    "        if labels: # add labels\n",
    "            df=self.get_labels(df,remove_info)\n",
    "        return df\n",
    "    ###\n",
    "    def transform_pd(self,df_positions, df_education,df_seniority,fit=False):\n",
    "        \n",
    "        def to_lower_case(df,col):\n",
    "            df.loc[:,col] =  df[col].str.lower()\n",
    "            return df \n",
    "        def to_datetime(df,col):\n",
    "            df.loc[:,col] =  pd.to_datetime(df[col], format='%Y-%m-%d')\n",
    "            df.loc[:,col] =  df[col].dt.year+ df[col].dt.month/13\n",
    "            return df\n",
    "        print('changing dates and text format \\n')\n",
    "\n",
    "        df_education = df_education.pipe(to_lower_case, col='major').pipe(to_datetime,col='startdate').pipe(to_datetime,col='enddate')\n",
    "        df_positions = df_positions.pipe(to_lower_case, col='jobtitle').pipe(to_datetime,col='startdate').pipe(to_datetime,col='enddate')\n",
    "        df_seniority = df_seniority.pipe(to_lower_case, col='jobtitle')\n",
    "        \n",
    "        def fill_end_dates(df):\n",
    "            now = datetime.now()\n",
    "            today=now.year+now.month/13\n",
    "            #print('today',today)\n",
    "            before=df['enddate'].isna().sum()\n",
    "            df.loc[:,'enddate']=df.loc[:,:].apply(lambda row: today if pd.isnull(row['enddate']) and (not pd.isnull(row['startdate'])) else row['enddate'],axis=1)\n",
    "            print('added',before-df['enddate'].isna().sum(),'values \\n')\n",
    "            return df\n",
    "\n",
    "        print('completing position end dates...')\n",
    "\n",
    "        df_positions=fill_end_dates(df_positions)\n",
    "        print('completing education end dates...')\n",
    "        df_education=fill_end_dates(df_education)\n",
    "\n",
    "        def fill_startdate(df,typ):\n",
    "            df_nona=df[['startdate','enddate']].dropna(how='all',inplace=False)\n",
    "            df_nona['length']=df_nona['enddate']-df_nona['startdate']\n",
    "            avg_length=0\n",
    "            if fit:\n",
    "                if typ=='edu':\n",
    "                    DataTransformer.avg_length_edu=avg_length=df_nona[\"length\"].mean()\n",
    "                else:\n",
    "                    DataTransformer.avg_length_job=avg_length=df_nona[\"length\"].mean()\n",
    "            else:\n",
    "                if typ=='edu':\n",
    "                    avg_length=DataTransformer.avg_length_edu\n",
    "                else:\n",
    "                    avg_length= DataTransformer.avg_length_job\n",
    "                \n",
    "            print('average length: ',avg_length,'yrs')\n",
    "            before=df['startdate'].isna().sum()\n",
    "            df['startdate'].fillna(df['enddate']-avg_length, inplace=True)\n",
    "            print('added',before-df['startdate'].isna().sum(),'values \\n')\n",
    "            return df\n",
    "        print('completing education start dates...')\n",
    "        df_education=fill_startdate(df_education,'edu')\n",
    "        print('completing position end dates...')\n",
    "        df_positions=fill_startdate(df_positions,'job')\n",
    "        \n",
    "        def fill_dates_missingall(df,typ):\n",
    "            df_nona=df[['startdate','enddate']].dropna(how='all',inplace=False)\n",
    "            #df_nona['length']=df_nona['enddate']-df_nona['startdate']\n",
    "            \n",
    "            avg_start=avg_end=0\n",
    "            if fit:\n",
    "                if typ=='edu':\n",
    "                    DataTransformer.avg_start_edu=avg_start=df_nona[\"startdate\"].mean()\n",
    "                    DataTransformer.avg_end_edu=avg_end=df_nona[\"enddate\"].mean()\n",
    "                else:\n",
    "                    DataTransformer.avg_start_job=avg_start=df_nona[\"startdate\"].mean()\n",
    "                    DataTransformer.avg_end_job=avg_end=df_nona[\"enddate\"].mean()\n",
    "            else:\n",
    "                if typ=='edu':\n",
    "                    avg_start=DataTransformer.avg_start_edu\n",
    "                    avg_end=DataTransformer.avg_end_edu\n",
    "                else:\n",
    "                    avg_start=DataTransformer.avg_start_job\n",
    "                    avg_end=DataTransformer.avg_end_job\n",
    "            \n",
    "                \n",
    "            print('average start date: ',avg_start,'yrs')\n",
    "            print('average end date: ',avg_end,'yrs')\n",
    "            before=df['startdate'].isna().sum()\n",
    "            df['startdate'].fillna(avg_start, inplace=True)\n",
    "            df['enddate'].fillna(avg_end, inplace=True)\n",
    "            print('added',before-df['startdate'].isna().sum(),'values \\n')\n",
    "            return df  \n",
    "        print('completing education remaining dates...')\n",
    "        df_education=fill_dates_missingall(df_education,'edu')\n",
    "        print('completing position remaining dates...')\n",
    "        df_positions=fill_dates_missingall(df_positions,'job')\n",
    "        \n",
    "        # filling missing education and positions\n",
    "        df_positions['jobtitle'].fillna('positions', inplace=True)\n",
    "        df_seniority['jobtitle'].fillna('positions', inplace=True)\n",
    "        df_education['major'].fillna('education', inplace=True)\n",
    "        \n",
    "        #filling missing seniority information\n",
    "        df_seniority['seniority'].fillna((df_seniority['seniority'].mean()), inplace=True)\n",
    "            \n",
    "        \n",
    "        return df_positions,df_education,df_seniority\n",
    "    \n",
    "    ####\n",
    "    def get_edu_clusters(self,df,fit,remove_info):\n",
    "        if fit:\n",
    "            print('Fitting education clustering model')\n",
    "            processed_text=[]\n",
    "            for t in df['major'].tolist():\n",
    "                r=0\n",
    "                if remove_info:\n",
    "                    r=random.random() # if training or val data remove bachelor data to match the testing data bachelor ratio\n",
    "                if (not pd.isnull(t)) and (not 'bachelor' in t.lower() or r <0.33): # removing one third of bechelors to match the rest of the data set\n",
    "                    processed_text.append(t)\n",
    "            # clustering pipeline   \n",
    "\n",
    "            number_of_clusters = 10\n",
    "            DataTransformer.majors_pipe = Pipeline([('vectorizer', CountVectorizer(ngram_range=(1, 4))), ('majors_model', KMeans(n_clusters=number_of_clusters, init='k-means++', max_iter=50, n_init=2))])\n",
    "            DataTransformer.majors_pipe.fit(processed_text)\n",
    "            \n",
    "        # add cluster info to df\n",
    "        print('Adding education cluster information \\n')\n",
    "        majors=df['major'].astype(str).tolist()\n",
    "        major_clusters=DataTransformer.majors_pipe.predict(majors)\n",
    "        df['major_cluster']=major_clusters\n",
    "        \n",
    "        return df\n",
    "    ###\n",
    "    def get_position_clusters(self,df,fit):\n",
    "        if fit:\n",
    "            print('Fitting jobtitle clustering model')\n",
    "            processed_text=[]\n",
    "            for t in df['jobtitle'].tolist():\n",
    "           \n",
    "                if (not pd.isnull(t)): # removing one third of bechelors to match the rest of the data set\n",
    "                    processed_text.append(t)\n",
    "            # clustering pipeline   \n",
    "\n",
    "            number_of_clusters = 10\n",
    "            DataTransformer.jobs_pipe = Pipeline([('vectorizer', CountVectorizer(tokenizer=tokenize,ngram_range=(1, 4),stop_words=['|'])), ('jobs_model', KMeans(n_clusters=number_of_clusters, init='k-means++', max_iter=50, n_init=2))])\n",
    "            DataTransformer.jobs_pipe.fit(processed_text)\n",
    "            \n",
    "        # add cluster info to df\n",
    "        print('Adding job title cluster information \\n')\n",
    "        jobs=df['jobtitle'].astype(str).tolist()\n",
    "        jobs_clusters=DataTransformer.jobs_pipe.predict(jobs)\n",
    "        df['job_cluster']=jobs_clusters\n",
    "        \n",
    "        return df\n",
    "    ###\n",
    "    def transform(self,fit=False,labels=False,remove_info=False):\n",
    "        \n",
    "        self.df_education=self.get_edu_clusters(self.df_education,fit,remove_info)\n",
    "        self.df_seniority=self.get_position_clusters(self.df_seniority,fit)\n",
    "        \n",
    "        self.df_positions,self.df_education,self.df_seniority=self.transform_pd(self.df_positions, self.df_education,self.df_seniority,fit)\n",
    "        merged=self.merge_pd(self.df_positions,self.df_education,self.df_seniority,labels,remove_info)\n",
    "        \n",
    "        \n",
    "        return self.format_to_size(merged,labels)\n",
    "    \n",
    "\n"
   ]
  },
  {
   "cell_type": "markdown",
   "id": "5a4a10cd",
   "metadata": {},
   "source": [
    "## 3.3 Using the DataTransformer class to get our data.\n"
   ]
  },
  {
   "cell_type": "markdown",
   "id": "15d833e5",
   "metadata": {},
   "source": [
    "#### a. Processing the training data\n",
    "We remove the some bachelor info to match the testing data that we have to predict\n",
    "\n",
    "The removal of some bachelor info is to make the model perform better on the test data where this info is not always available."
   ]
  },
  {
   "cell_type": "code",
   "execution_count": 25,
   "id": "364be7d7",
   "metadata": {},
   "outputs": [
    {
     "name": "stdout",
     "output_type": "stream",
     "text": [
      "Fitting education clustering model\n",
      "Adding education cluster information \n",
      "\n",
      "Fitting jobtitle clustering model\n",
      "Adding job title cluster information \n",
      "\n",
      "changing dates and text format \n",
      "\n",
      "completing position end dates...\n",
      "added 24017 values \n",
      "\n",
      "completing education end dates...\n",
      "added 1815 values \n",
      "\n",
      "completing education start dates...\n",
      "average length:  3.608725981355846 yrs\n",
      "added 398 values \n",
      "\n",
      "completing position end dates...\n",
      "average length:  3.962133030775858 yrs\n",
      "added 21 values \n",
      "\n",
      "completing education remaining dates...\n",
      "average start date:  2003.2742277481523 yrs\n",
      "average end date:  2006.882953729532 yrs\n",
      "added 6235 values \n",
      "\n",
      "completing position remaining dates...\n",
      "average start date:  2010.1799402438633 yrs\n",
      "average end date:  2014.1420732741742 yrs\n",
      "added 1635 values \n",
      "\n",
      "generating labels \n",
      "\n",
      "Formatting dataframe to final size \n",
      "\n"
     ]
    }
   ],
   "source": [
    "dataTransformer = DataTransformer(df_positions_train,df_education_train,df_seniority_train)\n",
    "train_data =dataTransformer.transform(fit=True,labels=True,remove_info=True)"
   ]
  },
  {
   "cell_type": "markdown",
   "id": "33213d35",
   "metadata": {},
   "source": [
    "#### b. processing the validation data\n",
    "We remove the info in the same manner as the training data for comparison purposes.\n",
    "\n",
    "The removal of some bachelor info is to make the model perform better on the test data where this info is not always available."
   ]
  },
  {
   "cell_type": "code",
   "execution_count": 26,
   "id": "8e722a1b",
   "metadata": {},
   "outputs": [
    {
     "name": "stdout",
     "output_type": "stream",
     "text": [
      "Adding education cluster information \n",
      "\n",
      "Adding job title cluster information \n",
      "\n",
      "changing dates and text format \n",
      "\n",
      "completing position end dates...\n",
      "added 10174 values \n",
      "\n",
      "completing education end dates...\n",
      "added 780 values \n",
      "\n",
      "completing education start dates...\n",
      "average length:  3.608725981355846 yrs\n",
      "added 135 values \n",
      "\n",
      "completing position end dates...\n",
      "average length:  3.962133030775858 yrs\n",
      "added 4 values \n",
      "\n",
      "completing education remaining dates...\n",
      "average start date:  2003.2742277481523 yrs\n",
      "average end date:  2006.882953729532 yrs\n",
      "added 2837 values \n",
      "\n",
      "completing position remaining dates...\n",
      "average start date:  2010.1799402438633 yrs\n",
      "average end date:  2014.1420732741742 yrs\n",
      "added 679 values \n",
      "\n",
      "generating labels \n",
      "\n",
      "Formatting dataframe to final size \n",
      "\n"
     ]
    }
   ],
   "source": [
    "dataTransformer = DataTransformer(df_positions_val,df_education_val,df_seniority_val)\n",
    "val_data =dataTransformer.transform(fit=False,labels=True,remove_info=True) # val data has the same bachelor info as the training data"
   ]
  },
  {
   "cell_type": "markdown",
   "id": "3bfff00e",
   "metadata": {},
   "source": [
    "#### c. processing the testing data"
   ]
  },
  {
   "cell_type": "code",
   "execution_count": 27,
   "id": "0bb76cea",
   "metadata": {},
   "outputs": [
    {
     "name": "stdout",
     "output_type": "stream",
     "text": [
      "Adding education cluster information \n",
      "\n",
      "Adding job title cluster information \n",
      "\n",
      "changing dates and text format \n",
      "\n",
      "completing position end dates...\n",
      "added 64030 values \n",
      "\n",
      "completing education end dates...\n",
      "added 5715 values \n",
      "\n",
      "completing education start dates...\n",
      "average length:  3.608725981355846 yrs\n",
      "added 879 values \n",
      "\n",
      "completing position end dates...\n",
      "average length:  3.962133030775858 yrs\n",
      "added 24 values \n",
      "\n",
      "completing education remaining dates...\n",
      "average start date:  2003.2742277481523 yrs\n",
      "average end date:  2006.882953729532 yrs\n",
      "added 18144 values \n",
      "\n",
      "completing position remaining dates...\n",
      "average start date:  2010.1799402438633 yrs\n",
      "average end date:  2014.1420732741742 yrs\n",
      "added 6696 values \n",
      "\n",
      "Formatting dataframe to final size \n",
      "\n"
     ]
    }
   ],
   "source": [
    "dataTransformer = DataTransformer(df_positions_test,df_education_test,df_seniority_test)\n",
    "test_data =dataTransformer.transform(fit=False,labels=False,remove_info=False)"
   ]
  },
  {
   "cell_type": "markdown",
   "id": "ba11b30b",
   "metadata": {},
   "source": [
    "# 4. Model\n",
    "\n",
    "#### After testing multiple models from sklearn, ensemble methods such as random forest were the ones that worked the best\n",
    "\n",
    "#### We are going to investigate Neural networks later "
   ]
  },
  {
   "cell_type": "code",
   "execution_count": 28,
   "id": "9c0ca45d",
   "metadata": {},
   "outputs": [],
   "source": [
    "from sklearn.ensemble import RandomForestRegressor\n",
    "from sklearn.metrics import accuracy_score\n",
    "from sklearn.preprocessing import StandardScaler\n",
    "from sklearn.pipeline import Pipeline\n",
    "from sklearn.model_selection import RandomizedSearchCV\n",
    "from sklearn.metrics import mean_squared_error,mean_absolute_error,explained_variance_score,r2_score\n",
    "from sklearn.model_selection import cross_val_score,KFold"
   ]
  },
  {
   "cell_type": "markdown",
   "id": "24302bb3",
   "metadata": {},
   "source": [
    "## 4.1  Dealing with imbalanced label distribution"
   ]
  },
  {
   "cell_type": "code",
   "execution_count": 29,
   "id": "4f3d7521",
   "metadata": {},
   "outputs": [],
   "source": [
    "#We want to randomly remove rows with labels that appear too ofter\n",
    "\n",
    "#This returns a mask that will allow to smooth out the distribution of labels\n",
    "def smooth_distrib(df):\n",
    "    \n",
    "    num_bins=30\n",
    "    fig, (ax1, ax2) = plt.subplots(1, 2,figsize=(10,5))\n",
    "    fig.suptitle('before, after birth year distribution')\n",
    "    n, bins, patches=ax1.hist(df['label'], num_bins, facecolor='blue', alpha=0.5) \n",
    "    \n",
    "    years=df['label']\n",
    "    year_bins=[] # bin number array corresponding to the labels\n",
    "    \n",
    "    for year in years.tolist():\n",
    "        year_bin=len(n)-1\n",
    "        for i,b in enumerate(bins[1:]):\n",
    "            if year<b:\n",
    "                year_bin=i\n",
    "                break\n",
    "        year_bins.append(year_bin)\n",
    "    \n",
    "    # we will try to limit the number of labels per bin to the average bin size\n",
    "    max_bin_size=sum(n)/len(n)\n",
    "    smoothing_mask=[True if random.random()<max_bin_size/n[y] else False for y in year_bins]\n",
    "    \n",
    "    #plotting\n",
    "    x1,x2,y1,y2 = ax1.axis()  \n",
    "    ax2.hist(df[smoothing_mask]['label'], num_bins, facecolor='blue', alpha=0.5)\n",
    "    _,_,_,_=ax2.axis((x1,x2,y1,y2))\n",
    "    print(len(df[smoothing_mask]),'samples left')\n",
    "    return smoothing_mask"
   ]
  },
  {
   "cell_type": "code",
   "execution_count": 30,
   "id": "3dd78ad0",
   "metadata": {},
   "outputs": [
    {
     "name": "stdout",
     "output_type": "stream",
     "text": [
      "8329 samples left\n"
     ]
    },
    {
     "data": {
      "image/png": "[encoded data removed]",
      "text/plain": [
       "<Figure size 720x360 with 2 Axes>"
      ]
     },
     "metadata": {
      "needs_background": "light"
     },
     "output_type": "display_data"
    }
   ],
   "source": [
    "train_data_mask=smooth_distrib(train_data)"
   ]
  },
  {
   "cell_type": "code",
   "execution_count": 31,
   "id": "f40e318b",
   "metadata": {},
   "outputs": [
    {
     "name": "stdout",
     "output_type": "stream",
     "text": [
      "4917 samples left\n"
     ]
    },
    {
     "data": {
      "image/png": "[encoded data removed]",
      "text/plain": [
       "<Figure size 720x360 with 2 Axes>"
      ]
     },
     "metadata": {
      "needs_background": "light"
     },
     "output_type": "display_data"
    }
   ],
   "source": [
    "val_data_mask=smooth_distrib(val_data)"
   ]
  },
  {
   "cell_type": "markdown",
   "id": "d4c146ea",
   "metadata": {},
   "source": [
    "## 4.2 Feature selection"
   ]
  },
  {
   "cell_type": "markdown",
   "id": "413db093",
   "metadata": {},
   "source": [
    "#### Formatting the data fo the model"
   ]
  },
  {
   "cell_type": "code",
   "execution_count": 51,
   "id": "0d67dd08",
   "metadata": {},
   "outputs": [],
   "source": [
    "#All feature cols, selection is done after\n",
    "feature_cols=['enddate_y','startdate_y','seniority','enddate_x','startdate_x','major_cluster','job_cluster']\n",
    "\n",
    "# We need to convert into a 2D array for the random forest model\n",
    "def format_data_to_matrix(df,feature_cols):\n",
    "        # convert to np array\n",
    "        X=np.asarray(df[feature_cols].values.tolist())\n",
    "        #reshape to matrix\n",
    "        X=np.reshape(X, (len(X), X.shape[1]*X.shape[2]))\n",
    "        if 'label' in df:\n",
    "            y=np.asarray(df[['label']]).reshape(-1)\n",
    "            return X,y\n",
    "        # else, testing data with no labels\n",
    "        return X\n"
   ]
  },
  {
   "cell_type": "code",
   "execution_count": 52,
   "id": "c28e323b",
   "metadata": {},
   "outputs": [
    {
     "name": "stdout",
     "output_type": "stream",
     "text": [
      "(8430, 70) (8430,)\n",
      "(4904, 70) (4904,)\n",
      "(66069, 70)\n"
     ]
    }
   ],
   "source": [
    "X_train,y_train=format_data_to_matrix(train_data[train_data_mask],feature_cols)\n",
    "X_val,y_val=format_data_to_matrix(val_data[val_data_mask],feature_cols)\n",
    "X_test=format_data_to_matrix(test_data,feature_cols) # no labels\n",
    "\n",
    "print(X_train.shape,y_train.shape)\n",
    "print(X_val.shape,y_val.shape)\n",
    "print(X_test.shape)"
   ]
  },
  {
   "cell_type": "markdown",
   "id": "e10bdfcb",
   "metadata": {},
   "source": [
    "#### There are 70 features : 7 categories * 10 (size of the arrays)"
   ]
  },
  {
   "cell_type": "markdown",
   "id": "c97bd4d4",
   "metadata": {},
   "source": [
    "#### Feature selection based on importance"
   ]
  },
  {
   "cell_type": "code",
   "execution_count": 53,
   "id": "e377aff9",
   "metadata": {},
   "outputs": [
    {
     "name": "stdout",
     "output_type": "stream",
     "text": [
      "max_coef of  enddate_y 0.8177674893545562\n",
      "max_coef of  startdate_y 6.6696607487613395\n",
      "max_coef of  seniority 0.0338676097216935\n",
      "max_coef of  enddate_x 0.013498453504275972\n",
      "max_coef of  startdate_x 0.15474099444563144\n",
      "max_coef of  major_cluster 0.5816634313178588\n",
      "max_coef of  job_cluster 0.003871442180042022\n"
     ]
    }
   ],
   "source": [
    "# using random forest with all features to get the importance of each feature\n",
    "from sklearn.feature_selection import SelectFromModel\n",
    "clf = RandomForestRegressor(n_estimators=100,n_jobs=-1,min_samples_split=2,max_features='auto',min_samples_leaf=6,bootstrap=True,max_depth=60)\n",
    "clf = clf.fit(X_train, y_train)\n",
    "scores=[]\n",
    "coefs=clf.feature_importances_\n",
    "coefs=coefs.reshape(np.asarray(train_data[feature_cols].values.tolist()).shape[1:])\n",
    "for i,feature in enumerate(feature_cols):\n",
    "    print('max_coef of ',feature,10*np.max(coefs[i]))"
   ]
  },
  {
   "cell_type": "markdown",
   "id": "49d08fe8",
   "metadata": {},
   "source": [
    "#### With no surprise, the startdates of the education history gives the most information on the birthday of a user.\n",
    "#### The text clustering was useful, especially for the majors, as it is the third most important feature\n",
    "##### We also expect features importance to deacrease over time as later info don't reveal the age as much:"
   ]
  },
  {
   "cell_type": "code",
   "execution_count": 54,
   "id": "6f602d43",
   "metadata": {},
   "outputs": [
    {
     "data": {
      "image/png": "[encoded data removed]",
      "text/plain": [
       "<Figure size 432x288 with 1 Axes>"
      ]
     },
     "metadata": {
      "needs_background": "light"
     },
     "output_type": "display_data"
    }
   ],
   "source": [
    "for i,feature in enumerate(feature_cols):\n",
    "    line,=plt.plot(coefs[i]/np.linalg.norm(coefs[i]), label=feature)\n",
    "plt.title('feature_importances over time')\n",
    "plt.legend()\n",
    "plt.show()"
   ]
  },
  {
   "cell_type": "markdown",
   "id": "71857344",
   "metadata": {},
   "source": [
    "#### We will choose the most important features in category and time to get the best possible results"
   ]
  },
  {
   "cell_type": "code",
   "execution_count": 55,
   "id": "e87a4667",
   "metadata": {},
   "outputs": [
    {
     "name": "stdout",
     "output_type": "stream",
     "text": [
      "num of features: 1\n",
      "0.7368438875055523\n",
      "num of features: 6\n",
      "0.8526872865002343\n",
      "num of features: 11\n",
      "0.8697366278490539\n",
      "num of features: 16\n",
      "0.8807411626320368\n",
      "num of features: 21\n",
      "0.8835880606668697\n",
      "num of features: 26\n",
      "0.8829241955563629\n",
      "num of features: 31\n",
      "0.882681868231392\n",
      "num of features: 36\n",
      "0.8839691930119941\n",
      "num of features: 41\n",
      "0.8839121733482462\n",
      "num of features: 46\n",
      "0.883572623596218\n",
      "num of features: 51\n",
      "0.8833446493557036\n",
      "num of features: 56\n",
      "0.8833320439562815\n",
      "num of features: 61\n",
      "0.8832217482666938\n",
      "num of features: 66\n",
      "0.8832230345623054\n"
     ]
    },
    {
     "data": {
      "image/png": "[encoded data removed]",
      "text/plain": [
       "<Figure size 432x288 with 1 Axes>"
      ]
     },
     "metadata": {
      "needs_background": "light"
     },
     "output_type": "display_data"
    }
   ],
   "source": [
    "#for plotting\n",
    "scores=[]\n",
    "num_features=[]\n",
    "\n",
    "for i in range(1,71,5):\n",
    "    print('num of features:', i)\n",
    "    \n",
    "    features_model = SelectFromModel(clf, threshold=-np.inf,max_features=i,prefit=True)\n",
    "    X_new = features_model.transform(X_train)\n",
    "    \n",
    "   \n",
    "    clf_temp = RandomForestRegressor(n_estimators=100,n_jobs=-1,min_samples_split=2,max_features='auto',min_samples_leaf=2,bootstrap=True,max_depth=60)\n",
    "    \n",
    "    #kfolds reduces variability and allows comparisons\n",
    "    kf = KFold(n_splits=5, random_state=1,shuffle=True)\n",
    "    \n",
    "    score = np.mean(cross_val_score(clf_temp , X_new, y_train, cv = kf))\n",
    "    print(score)\n",
    "    #for plotting\n",
    "    num_features.append(i)\n",
    "    scores.append(score)\n",
    "\n",
    "plt.plot(num_features,scores)\n",
    "plt.show()\n"
   ]
  },
  {
   "cell_type": "markdown",
   "id": "f789a189",
   "metadata": {},
   "source": [
    "#### Reducing the number of features does not yield significant improvements. Around 30 features seems to give good results, it is a good compromise between good accuracy and run time performance."
   ]
  },
  {
   "cell_type": "code",
   "execution_count": 56,
   "id": "f160f120",
   "metadata": {},
   "outputs": [
    {
     "name": "stdout",
     "output_type": "stream",
     "text": [
      "(8430, 30) (8430,)\n",
      "(4904, 30) (4904,)\n",
      "(66069, 30)\n"
     ]
    }
   ],
   "source": [
    "# reduce features\n",
    "features_model = SelectFromModel(clf, threshold=-np.inf,max_features=30,prefit=True)\n",
    "X_train=features_model.transform(X_train)\n",
    "X_test=features_model.transform(X_test)\n",
    "X_val=features_model.transform(X_val)\n",
    "\n",
    "print(X_train.shape,y_train.shape)\n",
    "print(X_val.shape,y_val.shape)\n",
    "print(X_test.shape)"
   ]
  },
  {
   "cell_type": "markdown",
   "id": "fa42ba14",
   "metadata": {},
   "source": [
    "#### Tuning the hyperparameters with a random search\n",
    "##### Set run_randomsearch to true to run the random search"
   ]
  },
  {
   "cell_type": "code",
   "execution_count": 58,
   "id": "82c53d6f",
   "metadata": {},
   "outputs": [
    {
     "name": "stdout",
     "output_type": "stream",
     "text": [
      "Fitting 5 folds for each of 50 candidates, totalling 250 fits\n",
      "[CV] n_jobs=-1, n_estimators=100, min_samples_split=40, min_samples_leaf=2, max_features=auto, max_depth=5, bootstrap=True \n"
     ]
    },
    {
     "name": "stderr",
     "output_type": "stream",
     "text": [
      "[Parallel(n_jobs=1)]: Using backend SequentialBackend with 1 concurrent workers.\n"
     ]
    },
    {
     "name": "stdout",
     "output_type": "stream",
     "text": [
      "[CV]  n_jobs=-1, n_estimators=100, min_samples_split=40, min_samples_leaf=2, max_features=auto, max_depth=5, bootstrap=True, score=0.863, total=   0.7s\n",
      "[CV] n_jobs=-1, n_estimators=100, min_samples_split=40, min_samples_leaf=2, max_features=auto, max_depth=5, bootstrap=True \n"
     ]
    },
    {
     "name": "stderr",
     "output_type": "stream",
     "text": [
      "[Parallel(n_jobs=1)]: Done   1 out of   1 | elapsed:    0.6s remaining:    0.0s\n"
     ]
    },
    {
     "name": "stdout",
     "output_type": "stream",
     "text": [
      "[CV]  n_jobs=-1, n_estimators=100, min_samples_split=40, min_samples_leaf=2, max_features=auto, max_depth=5, bootstrap=True, score=0.863, total=   0.8s\n",
      "[CV] n_jobs=-1, n_estimators=100, min_samples_split=40, min_samples_leaf=2, max_features=auto, max_depth=5, bootstrap=True \n"
     ]
    },
    {
     "name": "stderr",
     "output_type": "stream",
     "text": [
      "[Parallel(n_jobs=1)]: Done   2 out of   2 | elapsed:    1.4s remaining:    0.0s\n"
     ]
    },
    {
     "name": "stdout",
     "output_type": "stream",
     "text": [
      "[CV]  n_jobs=-1, n_estimators=100, min_samples_split=40, min_samples_leaf=2, max_features=auto, max_depth=5, bootstrap=True, score=0.822, total=   0.6s\n",
      "[CV] n_jobs=-1, n_estimators=100, min_samples_split=40, min_samples_leaf=2, max_features=auto, max_depth=5, bootstrap=True \n"
     ]
    },
    {
     "name": "stderr",
     "output_type": "stream",
     "text": [
      "[Parallel(n_jobs=1)]: Done   3 out of   3 | elapsed:    2.0s remaining:    0.0s\n"
     ]
    },
    {
     "name": "stdout",
     "output_type": "stream",
     "text": [
      "[CV]  n_jobs=-1, n_estimators=100, min_samples_split=40, min_samples_leaf=2, max_features=auto, max_depth=5, bootstrap=True, score=0.848, total=   0.6s\n",
      "[CV] n_jobs=-1, n_estimators=100, min_samples_split=40, min_samples_leaf=2, max_features=auto, max_depth=5, bootstrap=True \n"
     ]
    },
    {
     "name": "stderr",
     "output_type": "stream",
     "text": [
      "[Parallel(n_jobs=1)]: Done   4 out of   4 | elapsed:    2.7s remaining:    0.0s\n"
     ]
    },
    {
     "name": "stdout",
     "output_type": "stream",
     "text": [
      "[CV]  n_jobs=-1, n_estimators=100, min_samples_split=40, min_samples_leaf=2, max_features=auto, max_depth=5, bootstrap=True, score=0.871, total=   0.5s\n",
      "[CV] n_jobs=-1, n_estimators=50, min_samples_split=2, min_samples_leaf=6, max_features=sqrt, max_depth=5, bootstrap=True \n"
     ]
    },
    {
     "name": "stderr",
     "output_type": "stream",
     "text": [
      "[Parallel(n_jobs=1)]: Done   5 out of   5 | elapsed:    3.2s remaining:    0.0s\n"
     ]
    },
    {
     "name": "stdout",
     "output_type": "stream",
     "text": [
      "[CV]  n_jobs=-1, n_estimators=50, min_samples_split=2, min_samples_leaf=6, max_features=sqrt, max_depth=5, bootstrap=True, score=0.828, total=   0.3s\n",
      "[CV] n_jobs=-1, n_estimators=50, min_samples_split=2, min_samples_leaf=6, max_features=sqrt, max_depth=5, bootstrap=True \n"
     ]
    },
    {
     "name": "stderr",
     "output_type": "stream",
     "text": [
      "[Parallel(n_jobs=1)]: Done   6 out of   6 | elapsed:    3.5s remaining:    0.0s\n"
     ]
    },
    {
     "name": "stdout",
     "output_type": "stream",
     "text": [
      "[CV]  n_jobs=-1, n_estimators=50, min_samples_split=2, min_samples_leaf=6, max_features=sqrt, max_depth=5, bootstrap=True, score=0.834, total=   0.3s\n",
      "[CV] n_jobs=-1, n_estimators=50, min_samples_split=2, min_samples_leaf=6, max_features=sqrt, max_depth=5, bootstrap=True \n"
     ]
    },
    {
     "name": "stderr",
     "output_type": "stream",
     "text": [
      "[Parallel(n_jobs=1)]: Done   7 out of   7 | elapsed:    3.8s remaining:    0.0s\n"
     ]
    },
    {
     "name": "stdout",
     "output_type": "stream",
     "text": [
      "[CV]  n_jobs=-1, n_estimators=50, min_samples_split=2, min_samples_leaf=6, max_features=sqrt, max_depth=5, bootstrap=True, score=0.804, total=   0.3s\n",
      "[CV] n_jobs=-1, n_estimators=50, min_samples_split=2, min_samples_leaf=6, max_features=sqrt, max_depth=5, bootstrap=True \n"
     ]
    },
    {
     "name": "stderr",
     "output_type": "stream",
     "text": [
      "[Parallel(n_jobs=1)]: Done   8 out of   8 | elapsed:    4.0s remaining:    0.0s\n"
     ]
    },
    {
     "name": "stdout",
     "output_type": "stream",
     "text": [
      "[CV]  n_jobs=-1, n_estimators=50, min_samples_split=2, min_samples_leaf=6, max_features=sqrt, max_depth=5, bootstrap=True, score=0.824, total=   0.3s\n",
      "[CV] n_jobs=-1, n_estimators=50, min_samples_split=2, min_samples_leaf=6, max_features=sqrt, max_depth=5, bootstrap=True \n"
     ]
    },
    {
     "name": "stderr",
     "output_type": "stream",
     "text": [
      "[Parallel(n_jobs=1)]: Done   9 out of   9 | elapsed:    4.3s remaining:    0.0s\n"
     ]
    },
    {
     "name": "stdout",
     "output_type": "stream",
     "text": [
      "[CV]  n_jobs=-1, n_estimators=50, min_samples_split=2, min_samples_leaf=6, max_features=sqrt, max_depth=5, bootstrap=True, score=0.830, total=   0.3s\n",
      "[CV] n_jobs=-1, n_estimators=50, min_samples_split=2, min_samples_leaf=4, max_features=sqrt, max_depth=10, bootstrap=False \n",
      "[CV]  n_jobs=-1, n_estimators=50, min_samples_split=2, min_samples_leaf=4, max_features=sqrt, max_depth=10, bootstrap=False, score=0.881, total=   0.3s\n",
      "[CV] n_jobs=-1, n_estimators=50, min_samples_split=2, min_samples_leaf=4, max_features=sqrt, max_depth=10, bootstrap=False \n",
      "[CV]  n_jobs=-1, n_estimators=50, min_samples_split=2, min_samples_leaf=4, max_features=sqrt, max_depth=10, bootstrap=False, score=0.887, total=   0.3s\n",
      "[CV] n_jobs=-1, n_estimators=50, min_samples_split=2, min_samples_leaf=4, max_features=sqrt, max_depth=10, bootstrap=False \n",
      "[CV]  n_jobs=-1, n_estimators=50, min_samples_split=2, min_samples_leaf=4, max_features=sqrt, max_depth=10, bootstrap=False, score=0.850, total=   0.3s\n",
      "[CV] n_jobs=-1, n_estimators=50, min_samples_split=2, min_samples_leaf=4, max_features=sqrt, max_depth=10, bootstrap=False \n",
      "[CV]  n_jobs=-1, n_estimators=50, min_samples_split=2, min_samples_leaf=4, max_features=sqrt, max_depth=10, bootstrap=False, score=0.872, total=   0.3s\n",
      "[CV] n_jobs=-1, n_estimators=50, min_samples_split=2, min_samples_leaf=4, max_features=sqrt, max_depth=10, bootstrap=False \n",
      "[CV]  n_jobs=-1, n_estimators=50, min_samples_split=2, min_samples_leaf=4, max_features=sqrt, max_depth=10, bootstrap=False, score=0.877, total=   0.3s\n",
      "[CV] n_jobs=-1, n_estimators=50, min_samples_split=40, min_samples_leaf=4, max_features=sqrt, max_depth=10, bootstrap=True \n",
      "[CV]  n_jobs=-1, n_estimators=50, min_samples_split=40, min_samples_leaf=4, max_features=sqrt, max_depth=10, bootstrap=True, score=0.870, total=   0.3s\n",
      "[CV] n_jobs=-1, n_estimators=50, min_samples_split=40, min_samples_leaf=4, max_features=sqrt, max_depth=10, bootstrap=True \n",
      "[CV]  n_jobs=-1, n_estimators=50, min_samples_split=40, min_samples_leaf=4, max_features=sqrt, max_depth=10, bootstrap=True, score=0.880, total=   0.3s\n",
      "[CV] n_jobs=-1, n_estimators=50, min_samples_split=40, min_samples_leaf=4, max_features=sqrt, max_depth=10, bootstrap=True \n",
      "[CV]  n_jobs=-1, n_estimators=50, min_samples_split=40, min_samples_leaf=4, max_features=sqrt, max_depth=10, bootstrap=True, score=0.843, total=   0.3s\n",
      "[CV] n_jobs=-1, n_estimators=50, min_samples_split=40, min_samples_leaf=4, max_features=sqrt, max_depth=10, bootstrap=True \n",
      "[CV]  n_jobs=-1, n_estimators=50, min_samples_split=40, min_samples_leaf=4, max_features=sqrt, max_depth=10, bootstrap=True, score=0.863, total=   0.3s\n",
      "[CV] n_jobs=-1, n_estimators=50, min_samples_split=40, min_samples_leaf=4, max_features=sqrt, max_depth=10, bootstrap=True \n",
      "[CV]  n_jobs=-1, n_estimators=50, min_samples_split=40, min_samples_leaf=4, max_features=sqrt, max_depth=10, bootstrap=True, score=0.869, total=   0.3s\n",
      "[CV] n_jobs=-1, n_estimators=100, min_samples_split=10, min_samples_leaf=2, max_features=sqrt, max_depth=30, bootstrap=False \n",
      "[CV]  n_jobs=-1, n_estimators=100, min_samples_split=10, min_samples_leaf=2, max_features=sqrt, max_depth=30, bootstrap=False, score=0.884, total=   0.5s\n",
      "[CV] n_jobs=-1, n_estimators=100, min_samples_split=10, min_samples_leaf=2, max_features=sqrt, max_depth=30, bootstrap=False \n",
      "[CV]  n_jobs=-1, n_estimators=100, min_samples_split=10, min_samples_leaf=2, max_features=sqrt, max_depth=30, bootstrap=False, score=0.895, total=   0.6s\n",
      "[CV] n_jobs=-1, n_estimators=100, min_samples_split=10, min_samples_leaf=2, max_features=sqrt, max_depth=30, bootstrap=False \n",
      "[CV]  n_jobs=-1, n_estimators=100, min_samples_split=10, min_samples_leaf=2, max_features=sqrt, max_depth=30, bootstrap=False, score=0.855, total=   0.5s\n",
      "[CV] n_jobs=-1, n_estimators=100, min_samples_split=10, min_samples_leaf=2, max_features=sqrt, max_depth=30, bootstrap=False \n",
      "[CV]  n_jobs=-1, n_estimators=100, min_samples_split=10, min_samples_leaf=2, max_features=sqrt, max_depth=30, bootstrap=False, score=0.878, total=   0.5s\n",
      "[CV] n_jobs=-1, n_estimators=100, min_samples_split=10, min_samples_leaf=2, max_features=sqrt, max_depth=30, bootstrap=False \n",
      "[CV]  n_jobs=-1, n_estimators=100, min_samples_split=10, min_samples_leaf=2, max_features=sqrt, max_depth=30, bootstrap=False, score=0.883, total=   0.4s\n",
      "[CV] n_jobs=-1, n_estimators=50, min_samples_split=40, min_samples_leaf=4, max_features=auto, max_depth=None, bootstrap=False \n",
      "[CV]  n_jobs=-1, n_estimators=50, min_samples_split=40, min_samples_leaf=4, max_features=auto, max_depth=None, bootstrap=False, score=0.852, total=   0.8s\n",
      "[CV] n_jobs=-1, n_estimators=50, min_samples_split=40, min_samples_leaf=4, max_features=auto, max_depth=None, bootstrap=False \n",
      "[CV]  n_jobs=-1, n_estimators=50, min_samples_split=40, min_samples_leaf=4, max_features=auto, max_depth=None, bootstrap=False, score=0.858, total=   0.8s\n",
      "[CV] n_jobs=-1, n_estimators=50, min_samples_split=40, min_samples_leaf=4, max_features=auto, max_depth=None, bootstrap=False \n",
      "[CV]  n_jobs=-1, n_estimators=50, min_samples_split=40, min_samples_leaf=4, max_features=auto, max_depth=None, bootstrap=False, score=0.815, total=   0.8s\n",
      "[CV] n_jobs=-1, n_estimators=50, min_samples_split=40, min_samples_leaf=4, max_features=auto, max_depth=None, bootstrap=False \n",
      "[CV]  n_jobs=-1, n_estimators=50, min_samples_split=40, min_samples_leaf=4, max_features=auto, max_depth=None, bootstrap=False, score=0.842, total=   0.9s\n",
      "[CV] n_jobs=-1, n_estimators=50, min_samples_split=40, min_samples_leaf=4, max_features=auto, max_depth=None, bootstrap=False \n",
      "[CV]  n_jobs=-1, n_estimators=50, min_samples_split=40, min_samples_leaf=4, max_features=auto, max_depth=None, bootstrap=False, score=0.864, total=   0.8s\n",
      "[CV] n_jobs=-1, n_estimators=100, min_samples_split=40, min_samples_leaf=4, max_features=auto, max_depth=5, bootstrap=True \n",
      "[CV]  n_jobs=-1, n_estimators=100, min_samples_split=40, min_samples_leaf=4, max_features=auto, max_depth=5, bootstrap=True, score=0.860, total=   0.7s\n",
      "[CV] n_jobs=-1, n_estimators=100, min_samples_split=40, min_samples_leaf=4, max_features=auto, max_depth=5, bootstrap=True \n",
      "[CV]  n_jobs=-1, n_estimators=100, min_samples_split=40, min_samples_leaf=4, max_features=auto, max_depth=5, bootstrap=True, score=0.863, total=   0.5s\n",
      "[CV] n_jobs=-1, n_estimators=100, min_samples_split=40, min_samples_leaf=4, max_features=auto, max_depth=5, bootstrap=True \n",
      "[CV]  n_jobs=-1, n_estimators=100, min_samples_split=40, min_samples_leaf=4, max_features=auto, max_depth=5, bootstrap=True, score=0.821, total=   0.6s\n",
      "[CV] n_jobs=-1, n_estimators=100, min_samples_split=40, min_samples_leaf=4, max_features=auto, max_depth=5, bootstrap=True \n",
      "[CV]  n_jobs=-1, n_estimators=100, min_samples_split=40, min_samples_leaf=4, max_features=auto, max_depth=5, bootstrap=True, score=0.852, total=   0.5s\n",
      "[CV] n_jobs=-1, n_estimators=100, min_samples_split=40, min_samples_leaf=4, max_features=auto, max_depth=5, bootstrap=True \n",
      "[CV]  n_jobs=-1, n_estimators=100, min_samples_split=40, min_samples_leaf=4, max_features=auto, max_depth=5, bootstrap=True, score=0.864, total=   0.7s\n",
      "[CV] n_jobs=-1, n_estimators=200, min_samples_split=2, min_samples_leaf=6, max_features=sqrt, max_depth=None, bootstrap=False \n",
      "[CV]  n_jobs=-1, n_estimators=200, min_samples_split=2, min_samples_leaf=6, max_features=sqrt, max_depth=None, bootstrap=False, score=0.880, total=   0.7s\n",
      "[CV] n_jobs=-1, n_estimators=200, min_samples_split=2, min_samples_leaf=6, max_features=sqrt, max_depth=None, bootstrap=False \n",
      "[CV]  n_jobs=-1, n_estimators=200, min_samples_split=2, min_samples_leaf=6, max_features=sqrt, max_depth=None, bootstrap=False, score=0.893, total=   0.7s\n",
      "[CV] n_jobs=-1, n_estimators=200, min_samples_split=2, min_samples_leaf=6, max_features=sqrt, max_depth=None, bootstrap=False \n",
      "[CV]  n_jobs=-1, n_estimators=200, min_samples_split=2, min_samples_leaf=6, max_features=sqrt, max_depth=None, bootstrap=False, score=0.854, total=   0.7s\n",
      "[CV] n_jobs=-1, n_estimators=200, min_samples_split=2, min_samples_leaf=6, max_features=sqrt, max_depth=None, bootstrap=False \n",
      "[CV]  n_jobs=-1, n_estimators=200, min_samples_split=2, min_samples_leaf=6, max_features=sqrt, max_depth=None, bootstrap=False, score=0.873, total=   0.7s\n",
      "[CV] n_jobs=-1, n_estimators=200, min_samples_split=2, min_samples_leaf=6, max_features=sqrt, max_depth=None, bootstrap=False \n"
     ]
    },
    {
     "name": "stdout",
     "output_type": "stream",
     "text": [
      "[CV]  n_jobs=-1, n_estimators=200, min_samples_split=2, min_samples_leaf=6, max_features=sqrt, max_depth=None, bootstrap=False, score=0.879, total=   0.8s\n",
      "[CV] n_jobs=-1, n_estimators=100, min_samples_split=10, min_samples_leaf=4, max_features=auto, max_depth=30, bootstrap=True \n",
      "[CV]  n_jobs=-1, n_estimators=100, min_samples_split=10, min_samples_leaf=4, max_features=auto, max_depth=30, bootstrap=True, score=0.888, total=   1.1s\n",
      "[CV] n_jobs=-1, n_estimators=100, min_samples_split=10, min_samples_leaf=4, max_features=auto, max_depth=30, bootstrap=True \n",
      "[CV]  n_jobs=-1, n_estimators=100, min_samples_split=10, min_samples_leaf=4, max_features=auto, max_depth=30, bootstrap=True, score=0.897, total=   0.8s\n",
      "[CV] n_jobs=-1, n_estimators=100, min_samples_split=10, min_samples_leaf=4, max_features=auto, max_depth=30, bootstrap=True \n",
      "[CV]  n_jobs=-1, n_estimators=100, min_samples_split=10, min_samples_leaf=4, max_features=auto, max_depth=30, bootstrap=True, score=0.854, total=   0.8s\n",
      "[CV] n_jobs=-1, n_estimators=100, min_samples_split=10, min_samples_leaf=4, max_features=auto, max_depth=30, bootstrap=True \n",
      "[CV]  n_jobs=-1, n_estimators=100, min_samples_split=10, min_samples_leaf=4, max_features=auto, max_depth=30, bootstrap=True, score=0.878, total=   0.8s\n",
      "[CV] n_jobs=-1, n_estimators=100, min_samples_split=10, min_samples_leaf=4, max_features=auto, max_depth=30, bootstrap=True \n",
      "[CV]  n_jobs=-1, n_estimators=100, min_samples_split=10, min_samples_leaf=4, max_features=auto, max_depth=30, bootstrap=True, score=0.894, total=   0.8s\n",
      "[CV] n_jobs=-1, n_estimators=50, min_samples_split=25, min_samples_leaf=4, max_features=sqrt, max_depth=None, bootstrap=False \n",
      "[CV]  n_jobs=-1, n_estimators=50, min_samples_split=25, min_samples_leaf=4, max_features=sqrt, max_depth=None, bootstrap=False, score=0.877, total=   0.3s\n",
      "[CV] n_jobs=-1, n_estimators=50, min_samples_split=25, min_samples_leaf=4, max_features=sqrt, max_depth=None, bootstrap=False \n",
      "[CV]  n_jobs=-1, n_estimators=50, min_samples_split=25, min_samples_leaf=4, max_features=sqrt, max_depth=None, bootstrap=False, score=0.892, total=   0.3s\n",
      "[CV] n_jobs=-1, n_estimators=50, min_samples_split=25, min_samples_leaf=4, max_features=sqrt, max_depth=None, bootstrap=False \n",
      "[CV]  n_jobs=-1, n_estimators=50, min_samples_split=25, min_samples_leaf=4, max_features=sqrt, max_depth=None, bootstrap=False, score=0.852, total=   0.3s\n",
      "[CV] n_jobs=-1, n_estimators=50, min_samples_split=25, min_samples_leaf=4, max_features=sqrt, max_depth=None, bootstrap=False \n",
      "[CV]  n_jobs=-1, n_estimators=50, min_samples_split=25, min_samples_leaf=4, max_features=sqrt, max_depth=None, bootstrap=False, score=0.875, total=   0.3s\n",
      "[CV] n_jobs=-1, n_estimators=50, min_samples_split=25, min_samples_leaf=4, max_features=sqrt, max_depth=None, bootstrap=False \n",
      "[CV]  n_jobs=-1, n_estimators=50, min_samples_split=25, min_samples_leaf=4, max_features=sqrt, max_depth=None, bootstrap=False, score=0.878, total=   0.3s\n",
      "[CV] n_jobs=-1, n_estimators=50, min_samples_split=2, min_samples_leaf=6, max_features=sqrt, max_depth=None, bootstrap=False \n",
      "[CV]  n_jobs=-1, n_estimators=50, min_samples_split=2, min_samples_leaf=6, max_features=sqrt, max_depth=None, bootstrap=False, score=0.879, total=   0.4s\n",
      "[CV] n_jobs=-1, n_estimators=50, min_samples_split=2, min_samples_leaf=6, max_features=sqrt, max_depth=None, bootstrap=False \n",
      "[CV]  n_jobs=-1, n_estimators=50, min_samples_split=2, min_samples_leaf=6, max_features=sqrt, max_depth=None, bootstrap=False, score=0.893, total=   0.3s\n",
      "[CV] n_jobs=-1, n_estimators=50, min_samples_split=2, min_samples_leaf=6, max_features=sqrt, max_depth=None, bootstrap=False \n",
      "[CV]  n_jobs=-1, n_estimators=50, min_samples_split=2, min_samples_leaf=6, max_features=sqrt, max_depth=None, bootstrap=False, score=0.852, total=   0.3s\n",
      "[CV] n_jobs=-1, n_estimators=50, min_samples_split=2, min_samples_leaf=6, max_features=sqrt, max_depth=None, bootstrap=False \n",
      "[CV]  n_jobs=-1, n_estimators=50, min_samples_split=2, min_samples_leaf=6, max_features=sqrt, max_depth=None, bootstrap=False, score=0.873, total=   0.3s\n",
      "[CV] n_jobs=-1, n_estimators=50, min_samples_split=2, min_samples_leaf=6, max_features=sqrt, max_depth=None, bootstrap=False \n",
      "[CV]  n_jobs=-1, n_estimators=50, min_samples_split=2, min_samples_leaf=6, max_features=sqrt, max_depth=None, bootstrap=False, score=0.877, total=   0.3s\n",
      "[CV] n_jobs=-1, n_estimators=50, min_samples_split=25, min_samples_leaf=4, max_features=auto, max_depth=None, bootstrap=False \n",
      "[CV]  n_jobs=-1, n_estimators=50, min_samples_split=25, min_samples_leaf=4, max_features=auto, max_depth=None, bootstrap=False, score=0.845, total=   0.7s\n",
      "[CV] n_jobs=-1, n_estimators=50, min_samples_split=25, min_samples_leaf=4, max_features=auto, max_depth=None, bootstrap=False \n",
      "[CV]  n_jobs=-1, n_estimators=50, min_samples_split=25, min_samples_leaf=4, max_features=auto, max_depth=None, bootstrap=False, score=0.854, total=   0.7s\n",
      "[CV] n_jobs=-1, n_estimators=50, min_samples_split=25, min_samples_leaf=4, max_features=auto, max_depth=None, bootstrap=False \n",
      "[CV]  n_jobs=-1, n_estimators=50, min_samples_split=25, min_samples_leaf=4, max_features=auto, max_depth=None, bootstrap=False, score=0.810, total=   0.7s\n",
      "[CV] n_jobs=-1, n_estimators=50, min_samples_split=25, min_samples_leaf=4, max_features=auto, max_depth=None, bootstrap=False \n",
      "[CV]  n_jobs=-1, n_estimators=50, min_samples_split=25, min_samples_leaf=4, max_features=auto, max_depth=None, bootstrap=False, score=0.831, total=   0.7s\n",
      "[CV] n_jobs=-1, n_estimators=50, min_samples_split=25, min_samples_leaf=4, max_features=auto, max_depth=None, bootstrap=False \n",
      "[CV]  n_jobs=-1, n_estimators=50, min_samples_split=25, min_samples_leaf=4, max_features=auto, max_depth=None, bootstrap=False, score=0.862, total=   0.7s\n",
      "[CV] n_jobs=-1, n_estimators=50, min_samples_split=10, min_samples_leaf=6, max_features=auto, max_depth=5, bootstrap=False \n",
      "[CV]  n_jobs=-1, n_estimators=50, min_samples_split=10, min_samples_leaf=6, max_features=auto, max_depth=5, bootstrap=False, score=0.821, total=   0.5s\n",
      "[CV] n_jobs=-1, n_estimators=50, min_samples_split=10, min_samples_leaf=6, max_features=auto, max_depth=5, bootstrap=False \n",
      "[CV]  n_jobs=-1, n_estimators=50, min_samples_split=10, min_samples_leaf=6, max_features=auto, max_depth=5, bootstrap=False, score=0.825, total=   0.4s\n",
      "[CV] n_jobs=-1, n_estimators=50, min_samples_split=10, min_samples_leaf=6, max_features=auto, max_depth=5, bootstrap=False \n",
      "[CV]  n_jobs=-1, n_estimators=50, min_samples_split=10, min_samples_leaf=6, max_features=auto, max_depth=5, bootstrap=False, score=0.781, total=   0.6s\n",
      "[CV] n_jobs=-1, n_estimators=50, min_samples_split=10, min_samples_leaf=6, max_features=auto, max_depth=5, bootstrap=False \n",
      "[CV]  n_jobs=-1, n_estimators=50, min_samples_split=10, min_samples_leaf=6, max_features=auto, max_depth=5, bootstrap=False, score=0.815, total=   0.4s\n",
      "[CV] n_jobs=-1, n_estimators=50, min_samples_split=10, min_samples_leaf=6, max_features=auto, max_depth=5, bootstrap=False \n",
      "[CV]  n_jobs=-1, n_estimators=50, min_samples_split=10, min_samples_leaf=6, max_features=auto, max_depth=5, bootstrap=False, score=0.831, total=   0.6s\n",
      "[CV] n_jobs=-1, n_estimators=200, min_samples_split=25, min_samples_leaf=2, max_features=sqrt, max_depth=5, bootstrap=True \n",
      "[CV]  n_jobs=-1, n_estimators=200, min_samples_split=25, min_samples_leaf=2, max_features=sqrt, max_depth=5, bootstrap=True, score=0.829, total=   0.5s\n",
      "[CV] n_jobs=-1, n_estimators=200, min_samples_split=25, min_samples_leaf=2, max_features=sqrt, max_depth=5, bootstrap=True \n",
      "[CV]  n_jobs=-1, n_estimators=200, min_samples_split=25, min_samples_leaf=2, max_features=sqrt, max_depth=5, bootstrap=True, score=0.838, total=   0.5s\n",
      "[CV] n_jobs=-1, n_estimators=200, min_samples_split=25, min_samples_leaf=2, max_features=sqrt, max_depth=5, bootstrap=True \n",
      "[CV]  n_jobs=-1, n_estimators=200, min_samples_split=25, min_samples_leaf=2, max_features=sqrt, max_depth=5, bootstrap=True, score=0.806, total=   0.6s\n",
      "[CV] n_jobs=-1, n_estimators=200, min_samples_split=25, min_samples_leaf=2, max_features=sqrt, max_depth=5, bootstrap=True \n",
      "[CV]  n_jobs=-1, n_estimators=200, min_samples_split=25, min_samples_leaf=2, max_features=sqrt, max_depth=5, bootstrap=True, score=0.823, total=   0.6s\n",
      "[CV] n_jobs=-1, n_estimators=200, min_samples_split=25, min_samples_leaf=2, max_features=sqrt, max_depth=5, bootstrap=True \n"
     ]
    },
    {
     "name": "stdout",
     "output_type": "stream",
     "text": [
      "[CV]  n_jobs=-1, n_estimators=200, min_samples_split=25, min_samples_leaf=2, max_features=sqrt, max_depth=5, bootstrap=True, score=0.830, total=   0.6s\n",
      "[CV] n_jobs=-1, n_estimators=200, min_samples_split=10, min_samples_leaf=6, max_features=sqrt, max_depth=5, bootstrap=False \n",
      "[CV]  n_jobs=-1, n_estimators=200, min_samples_split=10, min_samples_leaf=6, max_features=sqrt, max_depth=5, bootstrap=False, score=0.831, total=   0.6s\n",
      "[CV] n_jobs=-1, n_estimators=200, min_samples_split=10, min_samples_leaf=6, max_features=sqrt, max_depth=5, bootstrap=False \n",
      "[CV]  n_jobs=-1, n_estimators=200, min_samples_split=10, min_samples_leaf=6, max_features=sqrt, max_depth=5, bootstrap=False, score=0.839, total=   0.6s\n",
      "[CV] n_jobs=-1, n_estimators=200, min_samples_split=10, min_samples_leaf=6, max_features=sqrt, max_depth=5, bootstrap=False \n",
      "[CV]  n_jobs=-1, n_estimators=200, min_samples_split=10, min_samples_leaf=6, max_features=sqrt, max_depth=5, bootstrap=False, score=0.804, total=   0.7s\n",
      "[CV] n_jobs=-1, n_estimators=200, min_samples_split=10, min_samples_leaf=6, max_features=sqrt, max_depth=5, bootstrap=False \n",
      "[CV]  n_jobs=-1, n_estimators=200, min_samples_split=10, min_samples_leaf=6, max_features=sqrt, max_depth=5, bootstrap=False, score=0.828, total=   0.7s\n",
      "[CV] n_jobs=-1, n_estimators=200, min_samples_split=10, min_samples_leaf=6, max_features=sqrt, max_depth=5, bootstrap=False \n",
      "[CV]  n_jobs=-1, n_estimators=200, min_samples_split=10, min_samples_leaf=6, max_features=sqrt, max_depth=5, bootstrap=False, score=0.830, total=   0.5s\n",
      "[CV] n_jobs=-1, n_estimators=50, min_samples_split=2, min_samples_leaf=4, max_features=auto, max_depth=5, bootstrap=True \n",
      "[CV]  n_jobs=-1, n_estimators=50, min_samples_split=2, min_samples_leaf=4, max_features=auto, max_depth=5, bootstrap=True, score=0.861, total=   0.3s\n",
      "[CV] n_jobs=-1, n_estimators=50, min_samples_split=2, min_samples_leaf=4, max_features=auto, max_depth=5, bootstrap=True \n",
      "[CV]  n_jobs=-1, n_estimators=50, min_samples_split=2, min_samples_leaf=4, max_features=auto, max_depth=5, bootstrap=True, score=0.862, total=   0.4s\n",
      "[CV] n_jobs=-1, n_estimators=50, min_samples_split=2, min_samples_leaf=4, max_features=auto, max_depth=5, bootstrap=True \n",
      "[CV]  n_jobs=-1, n_estimators=50, min_samples_split=2, min_samples_leaf=4, max_features=auto, max_depth=5, bootstrap=True, score=0.819, total=   0.3s\n",
      "[CV] n_jobs=-1, n_estimators=50, min_samples_split=2, min_samples_leaf=4, max_features=auto, max_depth=5, bootstrap=True \n",
      "[CV]  n_jobs=-1, n_estimators=50, min_samples_split=2, min_samples_leaf=4, max_features=auto, max_depth=5, bootstrap=True, score=0.850, total=   0.5s\n",
      "[CV] n_jobs=-1, n_estimators=50, min_samples_split=2, min_samples_leaf=4, max_features=auto, max_depth=5, bootstrap=True \n",
      "[CV]  n_jobs=-1, n_estimators=50, min_samples_split=2, min_samples_leaf=4, max_features=auto, max_depth=5, bootstrap=True, score=0.866, total=   0.3s\n",
      "[CV] n_jobs=-1, n_estimators=100, min_samples_split=2, min_samples_leaf=4, max_features=sqrt, max_depth=None, bootstrap=True \n",
      "[CV]  n_jobs=-1, n_estimators=100, min_samples_split=2, min_samples_leaf=4, max_features=sqrt, max_depth=None, bootstrap=True, score=0.879, total=   0.4s\n",
      "[CV] n_jobs=-1, n_estimators=100, min_samples_split=2, min_samples_leaf=4, max_features=sqrt, max_depth=None, bootstrap=True \n",
      "[CV]  n_jobs=-1, n_estimators=100, min_samples_split=2, min_samples_leaf=4, max_features=sqrt, max_depth=None, bootstrap=True, score=0.892, total=   0.4s\n",
      "[CV] n_jobs=-1, n_estimators=100, min_samples_split=2, min_samples_leaf=4, max_features=sqrt, max_depth=None, bootstrap=True \n",
      "[CV]  n_jobs=-1, n_estimators=100, min_samples_split=2, min_samples_leaf=4, max_features=sqrt, max_depth=None, bootstrap=True, score=0.852, total=   0.4s\n",
      "[CV] n_jobs=-1, n_estimators=100, min_samples_split=2, min_samples_leaf=4, max_features=sqrt, max_depth=None, bootstrap=True \n",
      "[CV]  n_jobs=-1, n_estimators=100, min_samples_split=2, min_samples_leaf=4, max_features=sqrt, max_depth=None, bootstrap=True, score=0.871, total=   0.4s\n",
      "[CV] n_jobs=-1, n_estimators=100, min_samples_split=2, min_samples_leaf=4, max_features=sqrt, max_depth=None, bootstrap=True \n",
      "[CV]  n_jobs=-1, n_estimators=100, min_samples_split=2, min_samples_leaf=4, max_features=sqrt, max_depth=None, bootstrap=True, score=0.878, total=   0.4s\n",
      "[CV] n_jobs=-1, n_estimators=200, min_samples_split=10, min_samples_leaf=4, max_features=sqrt, max_depth=10, bootstrap=False \n",
      "[CV]  n_jobs=-1, n_estimators=200, min_samples_split=10, min_samples_leaf=4, max_features=sqrt, max_depth=10, bootstrap=False, score=0.880, total=   0.8s\n",
      "[CV] n_jobs=-1, n_estimators=200, min_samples_split=10, min_samples_leaf=4, max_features=sqrt, max_depth=10, bootstrap=False \n",
      "[CV]  n_jobs=-1, n_estimators=200, min_samples_split=10, min_samples_leaf=4, max_features=sqrt, max_depth=10, bootstrap=False, score=0.888, total=   0.7s\n",
      "[CV] n_jobs=-1, n_estimators=200, min_samples_split=10, min_samples_leaf=4, max_features=sqrt, max_depth=10, bootstrap=False \n",
      "[CV]  n_jobs=-1, n_estimators=200, min_samples_split=10, min_samples_leaf=4, max_features=sqrt, max_depth=10, bootstrap=False, score=0.851, total=   0.7s\n",
      "[CV] n_jobs=-1, n_estimators=200, min_samples_split=10, min_samples_leaf=4, max_features=sqrt, max_depth=10, bootstrap=False \n",
      "[CV]  n_jobs=-1, n_estimators=200, min_samples_split=10, min_samples_leaf=4, max_features=sqrt, max_depth=10, bootstrap=False, score=0.872, total=   0.8s\n",
      "[CV] n_jobs=-1, n_estimators=200, min_samples_split=10, min_samples_leaf=4, max_features=sqrt, max_depth=10, bootstrap=False \n",
      "[CV]  n_jobs=-1, n_estimators=200, min_samples_split=10, min_samples_leaf=4, max_features=sqrt, max_depth=10, bootstrap=False, score=0.879, total=   0.7s\n",
      "[CV] n_jobs=-1, n_estimators=100, min_samples_split=25, min_samples_leaf=6, max_features=auto, max_depth=None, bootstrap=False \n",
      "[CV]  n_jobs=-1, n_estimators=100, min_samples_split=25, min_samples_leaf=6, max_features=auto, max_depth=None, bootstrap=False, score=0.850, total=   1.3s\n",
      "[CV] n_jobs=-1, n_estimators=100, min_samples_split=25, min_samples_leaf=6, max_features=auto, max_depth=None, bootstrap=False \n",
      "[CV]  n_jobs=-1, n_estimators=100, min_samples_split=25, min_samples_leaf=6, max_features=auto, max_depth=None, bootstrap=False, score=0.850, total=   1.1s\n",
      "[CV] n_jobs=-1, n_estimators=100, min_samples_split=25, min_samples_leaf=6, max_features=auto, max_depth=None, bootstrap=False \n",
      "[CV]  n_jobs=-1, n_estimators=100, min_samples_split=25, min_samples_leaf=6, max_features=auto, max_depth=None, bootstrap=False, score=0.817, total=   1.1s\n",
      "[CV] n_jobs=-1, n_estimators=100, min_samples_split=25, min_samples_leaf=6, max_features=auto, max_depth=None, bootstrap=False \n",
      "[CV]  n_jobs=-1, n_estimators=100, min_samples_split=25, min_samples_leaf=6, max_features=auto, max_depth=None, bootstrap=False, score=0.832, total=   1.1s\n",
      "[CV] n_jobs=-1, n_estimators=100, min_samples_split=25, min_samples_leaf=6, max_features=auto, max_depth=None, bootstrap=False \n",
      "[CV]  n_jobs=-1, n_estimators=100, min_samples_split=25, min_samples_leaf=6, max_features=auto, max_depth=None, bootstrap=False, score=0.857, total=   1.1s\n",
      "[CV] n_jobs=-1, n_estimators=100, min_samples_split=40, min_samples_leaf=4, max_features=sqrt, max_depth=30, bootstrap=False \n",
      "[CV]  n_jobs=-1, n_estimators=100, min_samples_split=40, min_samples_leaf=4, max_features=sqrt, max_depth=30, bootstrap=False, score=0.877, total=   0.4s\n",
      "[CV] n_jobs=-1, n_estimators=100, min_samples_split=40, min_samples_leaf=4, max_features=sqrt, max_depth=30, bootstrap=False \n",
      "[CV]  n_jobs=-1, n_estimators=100, min_samples_split=40, min_samples_leaf=4, max_features=sqrt, max_depth=30, bootstrap=False, score=0.890, total=   0.6s\n",
      "[CV] n_jobs=-1, n_estimators=100, min_samples_split=40, min_samples_leaf=4, max_features=sqrt, max_depth=30, bootstrap=False \n",
      "[CV]  n_jobs=-1, n_estimators=100, min_samples_split=40, min_samples_leaf=4, max_features=sqrt, max_depth=30, bootstrap=False, score=0.850, total=   0.4s\n",
      "[CV] n_jobs=-1, n_estimators=100, min_samples_split=40, min_samples_leaf=4, max_features=sqrt, max_depth=30, bootstrap=False \n",
      "[CV]  n_jobs=-1, n_estimators=100, min_samples_split=40, min_samples_leaf=4, max_features=sqrt, max_depth=30, bootstrap=False, score=0.872, total=   0.4s\n",
      "[CV] n_jobs=-1, n_estimators=100, min_samples_split=40, min_samples_leaf=4, max_features=sqrt, max_depth=30, bootstrap=False \n"
     ]
    },
    {
     "name": "stdout",
     "output_type": "stream",
     "text": [
      "[CV]  n_jobs=-1, n_estimators=100, min_samples_split=40, min_samples_leaf=4, max_features=sqrt, max_depth=30, bootstrap=False, score=0.878, total=   0.4s\n",
      "[CV] n_jobs=-1, n_estimators=200, min_samples_split=2, min_samples_leaf=4, max_features=sqrt, max_depth=None, bootstrap=False \n",
      "[CV]  n_jobs=-1, n_estimators=200, min_samples_split=2, min_samples_leaf=4, max_features=sqrt, max_depth=None, bootstrap=False, score=0.881, total=   0.9s\n",
      "[CV] n_jobs=-1, n_estimators=200, min_samples_split=2, min_samples_leaf=4, max_features=sqrt, max_depth=None, bootstrap=False \n",
      "[CV]  n_jobs=-1, n_estimators=200, min_samples_split=2, min_samples_leaf=4, max_features=sqrt, max_depth=None, bootstrap=False, score=0.894, total=   0.9s\n",
      "[CV] n_jobs=-1, n_estimators=200, min_samples_split=2, min_samples_leaf=4, max_features=sqrt, max_depth=None, bootstrap=False \n",
      "[CV]  n_jobs=-1, n_estimators=200, min_samples_split=2, min_samples_leaf=4, max_features=sqrt, max_depth=None, bootstrap=False, score=0.854, total=   0.8s\n",
      "[CV] n_jobs=-1, n_estimators=200, min_samples_split=2, min_samples_leaf=4, max_features=sqrt, max_depth=None, bootstrap=False \n",
      "[CV]  n_jobs=-1, n_estimators=200, min_samples_split=2, min_samples_leaf=4, max_features=sqrt, max_depth=None, bootstrap=False, score=0.876, total=   0.8s\n",
      "[CV] n_jobs=-1, n_estimators=200, min_samples_split=2, min_samples_leaf=4, max_features=sqrt, max_depth=None, bootstrap=False \n",
      "[CV]  n_jobs=-1, n_estimators=200, min_samples_split=2, min_samples_leaf=4, max_features=sqrt, max_depth=None, bootstrap=False, score=0.883, total=   0.9s\n",
      "[CV] n_jobs=-1, n_estimators=200, min_samples_split=25, min_samples_leaf=6, max_features=auto, max_depth=10, bootstrap=False \n",
      "[CV]  n_jobs=-1, n_estimators=200, min_samples_split=25, min_samples_leaf=6, max_features=auto, max_depth=10, bootstrap=False, score=0.852, total=   2.0s\n",
      "[CV] n_jobs=-1, n_estimators=200, min_samples_split=25, min_samples_leaf=6, max_features=auto, max_depth=10, bootstrap=False \n",
      "[CV]  n_jobs=-1, n_estimators=200, min_samples_split=25, min_samples_leaf=6, max_features=auto, max_depth=10, bootstrap=False, score=0.857, total=   1.9s\n",
      "[CV] n_jobs=-1, n_estimators=200, min_samples_split=25, min_samples_leaf=6, max_features=auto, max_depth=10, bootstrap=False \n",
      "[CV]  n_jobs=-1, n_estimators=200, min_samples_split=25, min_samples_leaf=6, max_features=auto, max_depth=10, bootstrap=False, score=0.823, total=   1.9s\n",
      "[CV] n_jobs=-1, n_estimators=200, min_samples_split=25, min_samples_leaf=6, max_features=auto, max_depth=10, bootstrap=False \n",
      "[CV]  n_jobs=-1, n_estimators=200, min_samples_split=25, min_samples_leaf=6, max_features=auto, max_depth=10, bootstrap=False, score=0.843, total=   1.5s\n",
      "[CV] n_jobs=-1, n_estimators=200, min_samples_split=25, min_samples_leaf=6, max_features=auto, max_depth=10, bootstrap=False \n",
      "[CV]  n_jobs=-1, n_estimators=200, min_samples_split=25, min_samples_leaf=6, max_features=auto, max_depth=10, bootstrap=False, score=0.858, total=   1.5s\n",
      "[CV] n_jobs=-1, n_estimators=100, min_samples_split=10, min_samples_leaf=4, max_features=sqrt, max_depth=5, bootstrap=False \n",
      "[CV]  n_jobs=-1, n_estimators=100, min_samples_split=10, min_samples_leaf=4, max_features=sqrt, max_depth=5, bootstrap=False, score=0.828, total=   0.3s\n",
      "[CV] n_jobs=-1, n_estimators=100, min_samples_split=10, min_samples_leaf=4, max_features=sqrt, max_depth=5, bootstrap=False \n",
      "[CV]  n_jobs=-1, n_estimators=100, min_samples_split=10, min_samples_leaf=4, max_features=sqrt, max_depth=5, bootstrap=False, score=0.839, total=   0.3s\n",
      "[CV] n_jobs=-1, n_estimators=100, min_samples_split=10, min_samples_leaf=4, max_features=sqrt, max_depth=5, bootstrap=False \n",
      "[CV]  n_jobs=-1, n_estimators=100, min_samples_split=10, min_samples_leaf=4, max_features=sqrt, max_depth=5, bootstrap=False, score=0.804, total=   0.3s\n",
      "[CV] n_jobs=-1, n_estimators=100, min_samples_split=10, min_samples_leaf=4, max_features=sqrt, max_depth=5, bootstrap=False \n",
      "[CV]  n_jobs=-1, n_estimators=100, min_samples_split=10, min_samples_leaf=4, max_features=sqrt, max_depth=5, bootstrap=False, score=0.824, total=   0.4s\n",
      "[CV] n_jobs=-1, n_estimators=100, min_samples_split=10, min_samples_leaf=4, max_features=sqrt, max_depth=5, bootstrap=False \n",
      "[CV]  n_jobs=-1, n_estimators=100, min_samples_split=10, min_samples_leaf=4, max_features=sqrt, max_depth=5, bootstrap=False, score=0.831, total=   0.4s\n",
      "[CV] n_jobs=-1, n_estimators=200, min_samples_split=10, min_samples_leaf=2, max_features=sqrt, max_depth=10, bootstrap=False \n",
      "[CV]  n_jobs=-1, n_estimators=200, min_samples_split=10, min_samples_leaf=2, max_features=sqrt, max_depth=10, bootstrap=False, score=0.882, total=   0.6s\n",
      "[CV] n_jobs=-1, n_estimators=200, min_samples_split=10, min_samples_leaf=2, max_features=sqrt, max_depth=10, bootstrap=False \n",
      "[CV]  n_jobs=-1, n_estimators=200, min_samples_split=10, min_samples_leaf=2, max_features=sqrt, max_depth=10, bootstrap=False, score=0.887, total=   0.8s\n",
      "[CV] n_jobs=-1, n_estimators=200, min_samples_split=10, min_samples_leaf=2, max_features=sqrt, max_depth=10, bootstrap=False \n",
      "[CV]  n_jobs=-1, n_estimators=200, min_samples_split=10, min_samples_leaf=2, max_features=sqrt, max_depth=10, bootstrap=False, score=0.851, total=   0.6s\n",
      "[CV] n_jobs=-1, n_estimators=200, min_samples_split=10, min_samples_leaf=2, max_features=sqrt, max_depth=10, bootstrap=False \n",
      "[CV]  n_jobs=-1, n_estimators=200, min_samples_split=10, min_samples_leaf=2, max_features=sqrt, max_depth=10, bootstrap=False, score=0.872, total=   0.8s\n",
      "[CV] n_jobs=-1, n_estimators=200, min_samples_split=10, min_samples_leaf=2, max_features=sqrt, max_depth=10, bootstrap=False \n",
      "[CV]  n_jobs=-1, n_estimators=200, min_samples_split=10, min_samples_leaf=2, max_features=sqrt, max_depth=10, bootstrap=False, score=0.881, total=   0.6s\n",
      "[CV] n_jobs=-1, n_estimators=50, min_samples_split=40, min_samples_leaf=2, max_features=sqrt, max_depth=10, bootstrap=True \n",
      "[CV]  n_jobs=-1, n_estimators=50, min_samples_split=40, min_samples_leaf=2, max_features=sqrt, max_depth=10, bootstrap=True, score=0.870, total=   0.3s\n",
      "[CV] n_jobs=-1, n_estimators=50, min_samples_split=40, min_samples_leaf=2, max_features=sqrt, max_depth=10, bootstrap=True \n",
      "[CV]  n_jobs=-1, n_estimators=50, min_samples_split=40, min_samples_leaf=2, max_features=sqrt, max_depth=10, bootstrap=True, score=0.882, total=   0.3s\n",
      "[CV] n_jobs=-1, n_estimators=50, min_samples_split=40, min_samples_leaf=2, max_features=sqrt, max_depth=10, bootstrap=True \n",
      "[CV]  n_jobs=-1, n_estimators=50, min_samples_split=40, min_samples_leaf=2, max_features=sqrt, max_depth=10, bootstrap=True, score=0.846, total=   0.3s\n",
      "[CV] n_jobs=-1, n_estimators=50, min_samples_split=40, min_samples_leaf=2, max_features=sqrt, max_depth=10, bootstrap=True \n",
      "[CV]  n_jobs=-1, n_estimators=50, min_samples_split=40, min_samples_leaf=2, max_features=sqrt, max_depth=10, bootstrap=True, score=0.865, total=   0.3s\n",
      "[CV] n_jobs=-1, n_estimators=50, min_samples_split=40, min_samples_leaf=2, max_features=sqrt, max_depth=10, bootstrap=True \n",
      "[CV]  n_jobs=-1, n_estimators=50, min_samples_split=40, min_samples_leaf=2, max_features=sqrt, max_depth=10, bootstrap=True, score=0.871, total=   0.3s\n",
      "[CV] n_jobs=-1, n_estimators=50, min_samples_split=10, min_samples_leaf=2, max_features=sqrt, max_depth=30, bootstrap=False \n",
      "[CV]  n_jobs=-1, n_estimators=50, min_samples_split=10, min_samples_leaf=2, max_features=sqrt, max_depth=30, bootstrap=False, score=0.884, total=   0.3s\n",
      "[CV] n_jobs=-1, n_estimators=50, min_samples_split=10, min_samples_leaf=2, max_features=sqrt, max_depth=30, bootstrap=False \n",
      "[CV]  n_jobs=-1, n_estimators=50, min_samples_split=10, min_samples_leaf=2, max_features=sqrt, max_depth=30, bootstrap=False, score=0.892, total=   0.3s\n",
      "[CV] n_jobs=-1, n_estimators=50, min_samples_split=10, min_samples_leaf=2, max_features=sqrt, max_depth=30, bootstrap=False \n",
      "[CV]  n_jobs=-1, n_estimators=50, min_samples_split=10, min_samples_leaf=2, max_features=sqrt, max_depth=30, bootstrap=False, score=0.854, total=   0.3s\n",
      "[CV] n_jobs=-1, n_estimators=50, min_samples_split=10, min_samples_leaf=2, max_features=sqrt, max_depth=30, bootstrap=False \n",
      "[CV]  n_jobs=-1, n_estimators=50, min_samples_split=10, min_samples_leaf=2, max_features=sqrt, max_depth=30, bootstrap=False, score=0.875, total=   0.3s\n",
      "[CV] n_jobs=-1, n_estimators=50, min_samples_split=10, min_samples_leaf=2, max_features=sqrt, max_depth=30, bootstrap=False \n"
     ]
    },
    {
     "name": "stdout",
     "output_type": "stream",
     "text": [
      "[CV]  n_jobs=-1, n_estimators=50, min_samples_split=10, min_samples_leaf=2, max_features=sqrt, max_depth=30, bootstrap=False, score=0.883, total=   0.3s\n",
      "[CV] n_jobs=-1, n_estimators=200, min_samples_split=40, min_samples_leaf=4, max_features=sqrt, max_depth=10, bootstrap=False \n",
      "[CV]  n_jobs=-1, n_estimators=200, min_samples_split=40, min_samples_leaf=4, max_features=sqrt, max_depth=10, bootstrap=False, score=0.875, total=   0.8s\n",
      "[CV] n_jobs=-1, n_estimators=200, min_samples_split=40, min_samples_leaf=4, max_features=sqrt, max_depth=10, bootstrap=False \n",
      "[CV]  n_jobs=-1, n_estimators=200, min_samples_split=40, min_samples_leaf=4, max_features=sqrt, max_depth=10, bootstrap=False, score=0.885, total=   0.6s\n",
      "[CV] n_jobs=-1, n_estimators=200, min_samples_split=40, min_samples_leaf=4, max_features=sqrt, max_depth=10, bootstrap=False \n",
      "[CV]  n_jobs=-1, n_estimators=200, min_samples_split=40, min_samples_leaf=4, max_features=sqrt, max_depth=10, bootstrap=False, score=0.849, total=   0.8s\n",
      "[CV] n_jobs=-1, n_estimators=200, min_samples_split=40, min_samples_leaf=4, max_features=sqrt, max_depth=10, bootstrap=False \n",
      "[CV]  n_jobs=-1, n_estimators=200, min_samples_split=40, min_samples_leaf=4, max_features=sqrt, max_depth=10, bootstrap=False, score=0.869, total=   0.6s\n",
      "[CV] n_jobs=-1, n_estimators=200, min_samples_split=40, min_samples_leaf=4, max_features=sqrt, max_depth=10, bootstrap=False \n",
      "[CV]  n_jobs=-1, n_estimators=200, min_samples_split=40, min_samples_leaf=4, max_features=sqrt, max_depth=10, bootstrap=False, score=0.874, total=   0.6s\n",
      "[CV] n_jobs=-1, n_estimators=100, min_samples_split=10, min_samples_leaf=2, max_features=auto, max_depth=30, bootstrap=True \n",
      "[CV]  n_jobs=-1, n_estimators=100, min_samples_split=10, min_samples_leaf=2, max_features=auto, max_depth=30, bootstrap=True, score=0.890, total=   1.0s\n",
      "[CV] n_jobs=-1, n_estimators=100, min_samples_split=10, min_samples_leaf=2, max_features=auto, max_depth=30, bootstrap=True \n",
      "[CV]  n_jobs=-1, n_estimators=100, min_samples_split=10, min_samples_leaf=2, max_features=auto, max_depth=30, bootstrap=True, score=0.897, total=   0.9s\n",
      "[CV] n_jobs=-1, n_estimators=100, min_samples_split=10, min_samples_leaf=2, max_features=auto, max_depth=30, bootstrap=True \n",
      "[CV]  n_jobs=-1, n_estimators=100, min_samples_split=10, min_samples_leaf=2, max_features=auto, max_depth=30, bootstrap=True, score=0.853, total=   0.9s\n",
      "[CV] n_jobs=-1, n_estimators=100, min_samples_split=10, min_samples_leaf=2, max_features=auto, max_depth=30, bootstrap=True \n",
      "[CV]  n_jobs=-1, n_estimators=100, min_samples_split=10, min_samples_leaf=2, max_features=auto, max_depth=30, bootstrap=True, score=0.880, total=   0.9s\n",
      "[CV] n_jobs=-1, n_estimators=100, min_samples_split=10, min_samples_leaf=2, max_features=auto, max_depth=30, bootstrap=True \n",
      "[CV]  n_jobs=-1, n_estimators=100, min_samples_split=10, min_samples_leaf=2, max_features=auto, max_depth=30, bootstrap=True, score=0.896, total=   0.9s\n",
      "[CV] n_jobs=-1, n_estimators=200, min_samples_split=40, min_samples_leaf=4, max_features=auto, max_depth=5, bootstrap=False \n",
      "[CV]  n_jobs=-1, n_estimators=200, min_samples_split=40, min_samples_leaf=4, max_features=auto, max_depth=5, bootstrap=False, score=0.823, total=   1.2s\n",
      "[CV] n_jobs=-1, n_estimators=200, min_samples_split=40, min_samples_leaf=4, max_features=auto, max_depth=5, bootstrap=False \n",
      "[CV]  n_jobs=-1, n_estimators=200, min_samples_split=40, min_samples_leaf=4, max_features=auto, max_depth=5, bootstrap=False, score=0.829, total=   1.2s\n",
      "[CV] n_jobs=-1, n_estimators=200, min_samples_split=40, min_samples_leaf=4, max_features=auto, max_depth=5, bootstrap=False \n",
      "[CV]  n_jobs=-1, n_estimators=200, min_samples_split=40, min_samples_leaf=4, max_features=auto, max_depth=5, bootstrap=False, score=0.780, total=   1.3s\n",
      "[CV] n_jobs=-1, n_estimators=200, min_samples_split=40, min_samples_leaf=4, max_features=auto, max_depth=5, bootstrap=False \n",
      "[CV]  n_jobs=-1, n_estimators=200, min_samples_split=40, min_samples_leaf=4, max_features=auto, max_depth=5, bootstrap=False, score=0.818, total=   1.1s\n",
      "[CV] n_jobs=-1, n_estimators=200, min_samples_split=40, min_samples_leaf=4, max_features=auto, max_depth=5, bootstrap=False \n",
      "[CV]  n_jobs=-1, n_estimators=200, min_samples_split=40, min_samples_leaf=4, max_features=auto, max_depth=5, bootstrap=False, score=0.831, total=   1.0s\n",
      "[CV] n_jobs=-1, n_estimators=50, min_samples_split=40, min_samples_leaf=2, max_features=auto, max_depth=None, bootstrap=True \n",
      "[CV]  n_jobs=-1, n_estimators=50, min_samples_split=40, min_samples_leaf=2, max_features=auto, max_depth=None, bootstrap=True, score=0.890, total=   0.5s\n",
      "[CV] n_jobs=-1, n_estimators=50, min_samples_split=40, min_samples_leaf=2, max_features=auto, max_depth=None, bootstrap=True \n",
      "[CV]  n_jobs=-1, n_estimators=50, min_samples_split=40, min_samples_leaf=2, max_features=auto, max_depth=None, bootstrap=True, score=0.892, total=   0.4s\n",
      "[CV] n_jobs=-1, n_estimators=50, min_samples_split=40, min_samples_leaf=2, max_features=auto, max_depth=None, bootstrap=True \n",
      "[CV]  n_jobs=-1, n_estimators=50, min_samples_split=40, min_samples_leaf=2, max_features=auto, max_depth=None, bootstrap=True, score=0.847, total=   0.5s\n",
      "[CV] n_jobs=-1, n_estimators=50, min_samples_split=40, min_samples_leaf=2, max_features=auto, max_depth=None, bootstrap=True \n",
      "[CV]  n_jobs=-1, n_estimators=50, min_samples_split=40, min_samples_leaf=2, max_features=auto, max_depth=None, bootstrap=True, score=0.877, total=   0.5s\n",
      "[CV] n_jobs=-1, n_estimators=50, min_samples_split=40, min_samples_leaf=2, max_features=auto, max_depth=None, bootstrap=True \n",
      "[CV]  n_jobs=-1, n_estimators=50, min_samples_split=40, min_samples_leaf=2, max_features=auto, max_depth=None, bootstrap=True, score=0.895, total=   0.5s\n",
      "[CV] n_jobs=-1, n_estimators=100, min_samples_split=25, min_samples_leaf=4, max_features=auto, max_depth=None, bootstrap=False \n",
      "[CV]  n_jobs=-1, n_estimators=100, min_samples_split=25, min_samples_leaf=4, max_features=auto, max_depth=None, bootstrap=False, score=0.845, total=   1.3s\n",
      "[CV] n_jobs=-1, n_estimators=100, min_samples_split=25, min_samples_leaf=4, max_features=auto, max_depth=None, bootstrap=False \n",
      "[CV]  n_jobs=-1, n_estimators=100, min_samples_split=25, min_samples_leaf=4, max_features=auto, max_depth=None, bootstrap=False, score=0.854, total=   1.2s\n",
      "[CV] n_jobs=-1, n_estimators=100, min_samples_split=25, min_samples_leaf=4, max_features=auto, max_depth=None, bootstrap=False \n",
      "[CV]  n_jobs=-1, n_estimators=100, min_samples_split=25, min_samples_leaf=4, max_features=auto, max_depth=None, bootstrap=False, score=0.810, total=   1.2s\n",
      "[CV] n_jobs=-1, n_estimators=100, min_samples_split=25, min_samples_leaf=4, max_features=auto, max_depth=None, bootstrap=False \n",
      "[CV]  n_jobs=-1, n_estimators=100, min_samples_split=25, min_samples_leaf=4, max_features=auto, max_depth=None, bootstrap=False, score=0.831, total=   1.2s\n",
      "[CV] n_jobs=-1, n_estimators=100, min_samples_split=25, min_samples_leaf=4, max_features=auto, max_depth=None, bootstrap=False \n",
      "[CV]  n_jobs=-1, n_estimators=100, min_samples_split=25, min_samples_leaf=4, max_features=auto, max_depth=None, bootstrap=False, score=0.862, total=   1.2s\n",
      "[CV] n_jobs=-1, n_estimators=50, min_samples_split=40, min_samples_leaf=2, max_features=sqrt, max_depth=5, bootstrap=False \n",
      "[CV]  n_jobs=-1, n_estimators=50, min_samples_split=40, min_samples_leaf=2, max_features=sqrt, max_depth=5, bootstrap=False, score=0.829, total=   0.3s\n",
      "[CV] n_jobs=-1, n_estimators=50, min_samples_split=40, min_samples_leaf=2, max_features=sqrt, max_depth=5, bootstrap=False \n",
      "[CV]  n_jobs=-1, n_estimators=50, min_samples_split=40, min_samples_leaf=2, max_features=sqrt, max_depth=5, bootstrap=False, score=0.839, total=   0.3s\n",
      "[CV] n_jobs=-1, n_estimators=50, min_samples_split=40, min_samples_leaf=2, max_features=sqrt, max_depth=5, bootstrap=False \n",
      "[CV]  n_jobs=-1, n_estimators=50, min_samples_split=40, min_samples_leaf=2, max_features=sqrt, max_depth=5, bootstrap=False, score=0.806, total=   0.3s\n",
      "[CV] n_jobs=-1, n_estimators=50, min_samples_split=40, min_samples_leaf=2, max_features=sqrt, max_depth=5, bootstrap=False \n",
      "[CV]  n_jobs=-1, n_estimators=50, min_samples_split=40, min_samples_leaf=2, max_features=sqrt, max_depth=5, bootstrap=False, score=0.826, total=   0.3s\n",
      "[CV] n_jobs=-1, n_estimators=50, min_samples_split=40, min_samples_leaf=2, max_features=sqrt, max_depth=5, bootstrap=False \n"
     ]
    },
    {
     "name": "stdout",
     "output_type": "stream",
     "text": [
      "[CV]  n_jobs=-1, n_estimators=50, min_samples_split=40, min_samples_leaf=2, max_features=sqrt, max_depth=5, bootstrap=False, score=0.829, total=   0.3s\n",
      "[CV] n_jobs=-1, n_estimators=200, min_samples_split=40, min_samples_leaf=4, max_features=auto, max_depth=None, bootstrap=False \n",
      "[CV]  n_jobs=-1, n_estimators=200, min_samples_split=40, min_samples_leaf=4, max_features=auto, max_depth=None, bootstrap=False, score=0.851, total=   2.2s\n",
      "[CV] n_jobs=-1, n_estimators=200, min_samples_split=40, min_samples_leaf=4, max_features=auto, max_depth=None, bootstrap=False \n",
      "[CV]  n_jobs=-1, n_estimators=200, min_samples_split=40, min_samples_leaf=4, max_features=auto, max_depth=None, bootstrap=False, score=0.858, total=   2.1s\n",
      "[CV] n_jobs=-1, n_estimators=200, min_samples_split=40, min_samples_leaf=4, max_features=auto, max_depth=None, bootstrap=False \n",
      "[CV]  n_jobs=-1, n_estimators=200, min_samples_split=40, min_samples_leaf=4, max_features=auto, max_depth=None, bootstrap=False, score=0.815, total=   1.8s\n",
      "[CV] n_jobs=-1, n_estimators=200, min_samples_split=40, min_samples_leaf=4, max_features=auto, max_depth=None, bootstrap=False \n",
      "[CV]  n_jobs=-1, n_estimators=200, min_samples_split=40, min_samples_leaf=4, max_features=auto, max_depth=None, bootstrap=False, score=0.842, total=   1.6s\n",
      "[CV] n_jobs=-1, n_estimators=200, min_samples_split=40, min_samples_leaf=4, max_features=auto, max_depth=None, bootstrap=False \n",
      "[CV]  n_jobs=-1, n_estimators=200, min_samples_split=40, min_samples_leaf=4, max_features=auto, max_depth=None, bootstrap=False, score=0.864, total=   1.6s\n",
      "[CV] n_jobs=-1, n_estimators=200, min_samples_split=10, min_samples_leaf=4, max_features=auto, max_depth=None, bootstrap=False \n",
      "[CV]  n_jobs=-1, n_estimators=200, min_samples_split=10, min_samples_leaf=4, max_features=auto, max_depth=None, bootstrap=False, score=0.823, total=   1.7s\n",
      "[CV] n_jobs=-1, n_estimators=200, min_samples_split=10, min_samples_leaf=4, max_features=auto, max_depth=None, bootstrap=False \n",
      "[CV]  n_jobs=-1, n_estimators=200, min_samples_split=10, min_samples_leaf=4, max_features=auto, max_depth=None, bootstrap=False, score=0.834, total=   1.8s\n",
      "[CV] n_jobs=-1, n_estimators=200, min_samples_split=10, min_samples_leaf=4, max_features=auto, max_depth=None, bootstrap=False \n",
      "[CV]  n_jobs=-1, n_estimators=200, min_samples_split=10, min_samples_leaf=4, max_features=auto, max_depth=None, bootstrap=False, score=0.793, total=   1.8s\n",
      "[CV] n_jobs=-1, n_estimators=200, min_samples_split=10, min_samples_leaf=4, max_features=auto, max_depth=None, bootstrap=False \n",
      "[CV]  n_jobs=-1, n_estimators=200, min_samples_split=10, min_samples_leaf=4, max_features=auto, max_depth=None, bootstrap=False, score=0.810, total=   1.8s\n",
      "[CV] n_jobs=-1, n_estimators=200, min_samples_split=10, min_samples_leaf=4, max_features=auto, max_depth=None, bootstrap=False \n",
      "[CV]  n_jobs=-1, n_estimators=200, min_samples_split=10, min_samples_leaf=4, max_features=auto, max_depth=None, bootstrap=False, score=0.830, total=   1.8s\n",
      "[CV] n_jobs=-1, n_estimators=100, min_samples_split=2, min_samples_leaf=2, max_features=auto, max_depth=None, bootstrap=False \n",
      "[CV]  n_jobs=-1, n_estimators=100, min_samples_split=2, min_samples_leaf=2, max_features=auto, max_depth=None, bootstrap=False, score=0.810, total=   1.1s\n",
      "[CV] n_jobs=-1, n_estimators=100, min_samples_split=2, min_samples_leaf=2, max_features=auto, max_depth=None, bootstrap=False \n",
      "[CV]  n_jobs=-1, n_estimators=100, min_samples_split=2, min_samples_leaf=2, max_features=auto, max_depth=None, bootstrap=False, score=0.794, total=   1.1s\n",
      "[CV] n_jobs=-1, n_estimators=100, min_samples_split=2, min_samples_leaf=2, max_features=auto, max_depth=None, bootstrap=False \n",
      "[CV]  n_jobs=-1, n_estimators=100, min_samples_split=2, min_samples_leaf=2, max_features=auto, max_depth=None, bootstrap=False, score=0.768, total=   1.1s\n",
      "[CV] n_jobs=-1, n_estimators=100, min_samples_split=2, min_samples_leaf=2, max_features=auto, max_depth=None, bootstrap=False \n",
      "[CV]  n_jobs=-1, n_estimators=100, min_samples_split=2, min_samples_leaf=2, max_features=auto, max_depth=None, bootstrap=False, score=0.795, total=   1.1s\n",
      "[CV] n_jobs=-1, n_estimators=100, min_samples_split=2, min_samples_leaf=2, max_features=auto, max_depth=None, bootstrap=False \n",
      "[CV]  n_jobs=-1, n_estimators=100, min_samples_split=2, min_samples_leaf=2, max_features=auto, max_depth=None, bootstrap=False, score=0.786, total=   1.1s\n",
      "[CV] n_jobs=-1, n_estimators=50, min_samples_split=40, min_samples_leaf=6, max_features=sqrt, max_depth=30, bootstrap=False \n",
      "[CV]  n_jobs=-1, n_estimators=50, min_samples_split=40, min_samples_leaf=6, max_features=sqrt, max_depth=30, bootstrap=False, score=0.875, total=   0.3s\n",
      "[CV] n_jobs=-1, n_estimators=50, min_samples_split=40, min_samples_leaf=6, max_features=sqrt, max_depth=30, bootstrap=False \n",
      "[CV]  n_jobs=-1, n_estimators=50, min_samples_split=40, min_samples_leaf=6, max_features=sqrt, max_depth=30, bootstrap=False, score=0.889, total=   0.6s\n",
      "[CV] n_jobs=-1, n_estimators=50, min_samples_split=40, min_samples_leaf=6, max_features=sqrt, max_depth=30, bootstrap=False \n",
      "[CV]  n_jobs=-1, n_estimators=50, min_samples_split=40, min_samples_leaf=6, max_features=sqrt, max_depth=30, bootstrap=False, score=0.848, total=   0.4s\n",
      "[CV] n_jobs=-1, n_estimators=50, min_samples_split=40, min_samples_leaf=6, max_features=sqrt, max_depth=30, bootstrap=False \n",
      "[CV]  n_jobs=-1, n_estimators=50, min_samples_split=40, min_samples_leaf=6, max_features=sqrt, max_depth=30, bootstrap=False, score=0.870, total=   0.3s\n",
      "[CV] n_jobs=-1, n_estimators=50, min_samples_split=40, min_samples_leaf=6, max_features=sqrt, max_depth=30, bootstrap=False \n",
      "[CV]  n_jobs=-1, n_estimators=50, min_samples_split=40, min_samples_leaf=6, max_features=sqrt, max_depth=30, bootstrap=False, score=0.876, total=   0.4s\n",
      "[CV] n_jobs=-1, n_estimators=50, min_samples_split=10, min_samples_leaf=2, max_features=sqrt, max_depth=None, bootstrap=True \n",
      "[CV]  n_jobs=-1, n_estimators=50, min_samples_split=10, min_samples_leaf=2, max_features=sqrt, max_depth=None, bootstrap=True, score=0.875, total=   0.3s\n",
      "[CV] n_jobs=-1, n_estimators=50, min_samples_split=10, min_samples_leaf=2, max_features=sqrt, max_depth=None, bootstrap=True \n",
      "[CV]  n_jobs=-1, n_estimators=50, min_samples_split=10, min_samples_leaf=2, max_features=sqrt, max_depth=None, bootstrap=True, score=0.890, total=   0.3s\n",
      "[CV] n_jobs=-1, n_estimators=50, min_samples_split=10, min_samples_leaf=2, max_features=sqrt, max_depth=None, bootstrap=True \n",
      "[CV]  n_jobs=-1, n_estimators=50, min_samples_split=10, min_samples_leaf=2, max_features=sqrt, max_depth=None, bootstrap=True, score=0.852, total=   0.3s\n",
      "[CV] n_jobs=-1, n_estimators=50, min_samples_split=10, min_samples_leaf=2, max_features=sqrt, max_depth=None, bootstrap=True \n",
      "[CV]  n_jobs=-1, n_estimators=50, min_samples_split=10, min_samples_leaf=2, max_features=sqrt, max_depth=None, bootstrap=True, score=0.870, total=   0.3s\n",
      "[CV] n_jobs=-1, n_estimators=50, min_samples_split=10, min_samples_leaf=2, max_features=sqrt, max_depth=None, bootstrap=True \n",
      "[CV]  n_jobs=-1, n_estimators=50, min_samples_split=10, min_samples_leaf=2, max_features=sqrt, max_depth=None, bootstrap=True, score=0.878, total=   0.3s\n",
      "[CV] n_jobs=-1, n_estimators=50, min_samples_split=25, min_samples_leaf=6, max_features=auto, max_depth=30, bootstrap=True \n",
      "[CV]  n_jobs=-1, n_estimators=50, min_samples_split=25, min_samples_leaf=6, max_features=auto, max_depth=30, bootstrap=True, score=0.883, total=   0.5s\n",
      "[CV] n_jobs=-1, n_estimators=50, min_samples_split=25, min_samples_leaf=6, max_features=auto, max_depth=30, bootstrap=True \n",
      "[CV]  n_jobs=-1, n_estimators=50, min_samples_split=25, min_samples_leaf=6, max_features=auto, max_depth=30, bootstrap=True, score=0.892, total=   0.6s\n",
      "[CV] n_jobs=-1, n_estimators=50, min_samples_split=25, min_samples_leaf=6, max_features=auto, max_depth=30, bootstrap=True \n",
      "[CV]  n_jobs=-1, n_estimators=50, min_samples_split=25, min_samples_leaf=6, max_features=auto, max_depth=30, bootstrap=True, score=0.854, total=   0.5s\n",
      "[CV] n_jobs=-1, n_estimators=50, min_samples_split=25, min_samples_leaf=6, max_features=auto, max_depth=30, bootstrap=True \n",
      "[CV]  n_jobs=-1, n_estimators=50, min_samples_split=25, min_samples_leaf=6, max_features=auto, max_depth=30, bootstrap=True, score=0.876, total=   0.5s\n",
      "[CV] n_jobs=-1, n_estimators=50, min_samples_split=25, min_samples_leaf=6, max_features=auto, max_depth=30, bootstrap=True \n"
     ]
    },
    {
     "name": "stdout",
     "output_type": "stream",
     "text": [
      "[CV]  n_jobs=-1, n_estimators=50, min_samples_split=25, min_samples_leaf=6, max_features=auto, max_depth=30, bootstrap=True, score=0.890, total=   0.6s\n",
      "[CV] n_jobs=-1, n_estimators=100, min_samples_split=10, min_samples_leaf=6, max_features=auto, max_depth=30, bootstrap=True \n",
      "[CV]  n_jobs=-1, n_estimators=100, min_samples_split=10, min_samples_leaf=6, max_features=auto, max_depth=30, bootstrap=True, score=0.887, total=   0.8s\n",
      "[CV] n_jobs=-1, n_estimators=100, min_samples_split=10, min_samples_leaf=6, max_features=auto, max_depth=30, bootstrap=True \n",
      "[CV]  n_jobs=-1, n_estimators=100, min_samples_split=10, min_samples_leaf=6, max_features=auto, max_depth=30, bootstrap=True, score=0.895, total=   0.8s\n",
      "[CV] n_jobs=-1, n_estimators=100, min_samples_split=10, min_samples_leaf=6, max_features=auto, max_depth=30, bootstrap=True \n",
      "[CV]  n_jobs=-1, n_estimators=100, min_samples_split=10, min_samples_leaf=6, max_features=auto, max_depth=30, bootstrap=True, score=0.856, total=   0.8s\n",
      "[CV] n_jobs=-1, n_estimators=100, min_samples_split=10, min_samples_leaf=6, max_features=auto, max_depth=30, bootstrap=True \n",
      "[CV]  n_jobs=-1, n_estimators=100, min_samples_split=10, min_samples_leaf=6, max_features=auto, max_depth=30, bootstrap=True, score=0.878, total=   0.8s\n",
      "[CV] n_jobs=-1, n_estimators=100, min_samples_split=10, min_samples_leaf=6, max_features=auto, max_depth=30, bootstrap=True \n",
      "[CV]  n_jobs=-1, n_estimators=100, min_samples_split=10, min_samples_leaf=6, max_features=auto, max_depth=30, bootstrap=True, score=0.892, total=   0.8s\n",
      "[CV] n_jobs=-1, n_estimators=50, min_samples_split=40, min_samples_leaf=4, max_features=sqrt, max_depth=None, bootstrap=True \n",
      "[CV]  n_jobs=-1, n_estimators=50, min_samples_split=40, min_samples_leaf=4, max_features=sqrt, max_depth=None, bootstrap=True, score=0.871, total=   0.3s\n",
      "[CV] n_jobs=-1, n_estimators=50, min_samples_split=40, min_samples_leaf=4, max_features=sqrt, max_depth=None, bootstrap=True \n",
      "[CV]  n_jobs=-1, n_estimators=50, min_samples_split=40, min_samples_leaf=4, max_features=sqrt, max_depth=None, bootstrap=True, score=0.883, total=   0.3s\n",
      "[CV] n_jobs=-1, n_estimators=50, min_samples_split=40, min_samples_leaf=4, max_features=sqrt, max_depth=None, bootstrap=True \n",
      "[CV]  n_jobs=-1, n_estimators=50, min_samples_split=40, min_samples_leaf=4, max_features=sqrt, max_depth=None, bootstrap=True, score=0.848, total=   0.3s\n",
      "[CV] n_jobs=-1, n_estimators=50, min_samples_split=40, min_samples_leaf=4, max_features=sqrt, max_depth=None, bootstrap=True \n",
      "[CV]  n_jobs=-1, n_estimators=50, min_samples_split=40, min_samples_leaf=4, max_features=sqrt, max_depth=None, bootstrap=True, score=0.866, total=   0.3s\n",
      "[CV] n_jobs=-1, n_estimators=50, min_samples_split=40, min_samples_leaf=4, max_features=sqrt, max_depth=None, bootstrap=True \n",
      "[CV]  n_jobs=-1, n_estimators=50, min_samples_split=40, min_samples_leaf=4, max_features=sqrt, max_depth=None, bootstrap=True, score=0.872, total=   0.3s\n",
      "[CV] n_jobs=-1, n_estimators=200, min_samples_split=2, min_samples_leaf=2, max_features=sqrt, max_depth=5, bootstrap=False \n",
      "[CV]  n_jobs=-1, n_estimators=200, min_samples_split=2, min_samples_leaf=2, max_features=sqrt, max_depth=5, bootstrap=False, score=0.829, total=   0.6s\n",
      "[CV] n_jobs=-1, n_estimators=200, min_samples_split=2, min_samples_leaf=2, max_features=sqrt, max_depth=5, bootstrap=False \n",
      "[CV]  n_jobs=-1, n_estimators=200, min_samples_split=2, min_samples_leaf=2, max_features=sqrt, max_depth=5, bootstrap=False, score=0.837, total=   0.7s\n",
      "[CV] n_jobs=-1, n_estimators=200, min_samples_split=2, min_samples_leaf=2, max_features=sqrt, max_depth=5, bootstrap=False \n",
      "[CV]  n_jobs=-1, n_estimators=200, min_samples_split=2, min_samples_leaf=2, max_features=sqrt, max_depth=5, bootstrap=False, score=0.804, total=   0.6s\n",
      "[CV] n_jobs=-1, n_estimators=200, min_samples_split=2, min_samples_leaf=2, max_features=sqrt, max_depth=5, bootstrap=False \n",
      "[CV]  n_jobs=-1, n_estimators=200, min_samples_split=2, min_samples_leaf=2, max_features=sqrt, max_depth=5, bootstrap=False, score=0.824, total=   0.7s\n",
      "[CV] n_jobs=-1, n_estimators=200, min_samples_split=2, min_samples_leaf=2, max_features=sqrt, max_depth=5, bootstrap=False \n",
      "[CV]  n_jobs=-1, n_estimators=200, min_samples_split=2, min_samples_leaf=2, max_features=sqrt, max_depth=5, bootstrap=False, score=0.831, total=   0.6s\n",
      "[CV] n_jobs=-1, n_estimators=200, min_samples_split=2, min_samples_leaf=2, max_features=sqrt, max_depth=5, bootstrap=True \n",
      "[CV]  n_jobs=-1, n_estimators=200, min_samples_split=2, min_samples_leaf=2, max_features=sqrt, max_depth=5, bootstrap=True, score=0.828, total=   0.7s\n",
      "[CV] n_jobs=-1, n_estimators=200, min_samples_split=2, min_samples_leaf=2, max_features=sqrt, max_depth=5, bootstrap=True \n",
      "[CV]  n_jobs=-1, n_estimators=200, min_samples_split=2, min_samples_leaf=2, max_features=sqrt, max_depth=5, bootstrap=True, score=0.839, total=   0.6s\n",
      "[CV] n_jobs=-1, n_estimators=200, min_samples_split=2, min_samples_leaf=2, max_features=sqrt, max_depth=5, bootstrap=True \n",
      "[CV]  n_jobs=-1, n_estimators=200, min_samples_split=2, min_samples_leaf=2, max_features=sqrt, max_depth=5, bootstrap=True, score=0.803, total=   0.6s\n",
      "[CV] n_jobs=-1, n_estimators=200, min_samples_split=2, min_samples_leaf=2, max_features=sqrt, max_depth=5, bootstrap=True \n",
      "[CV]  n_jobs=-1, n_estimators=200, min_samples_split=2, min_samples_leaf=2, max_features=sqrt, max_depth=5, bootstrap=True, score=0.824, total=   0.7s\n",
      "[CV] n_jobs=-1, n_estimators=200, min_samples_split=2, min_samples_leaf=2, max_features=sqrt, max_depth=5, bootstrap=True \n",
      "[CV]  n_jobs=-1, n_estimators=200, min_samples_split=2, min_samples_leaf=2, max_features=sqrt, max_depth=5, bootstrap=True, score=0.830, total=   0.6s\n",
      "[CV] n_jobs=-1, n_estimators=100, min_samples_split=40, min_samples_leaf=6, max_features=sqrt, max_depth=10, bootstrap=True \n",
      "[CV]  n_jobs=-1, n_estimators=100, min_samples_split=40, min_samples_leaf=6, max_features=sqrt, max_depth=10, bootstrap=True, score=0.868, total=   0.5s\n",
      "[CV] n_jobs=-1, n_estimators=100, min_samples_split=40, min_samples_leaf=6, max_features=sqrt, max_depth=10, bootstrap=True \n",
      "[CV]  n_jobs=-1, n_estimators=100, min_samples_split=40, min_samples_leaf=6, max_features=sqrt, max_depth=10, bootstrap=True, score=0.881, total=   0.4s\n",
      "[CV] n_jobs=-1, n_estimators=100, min_samples_split=40, min_samples_leaf=6, max_features=sqrt, max_depth=10, bootstrap=True \n",
      "[CV]  n_jobs=-1, n_estimators=100, min_samples_split=40, min_samples_leaf=6, max_features=sqrt, max_depth=10, bootstrap=True, score=0.844, total=   0.5s\n",
      "[CV] n_jobs=-1, n_estimators=100, min_samples_split=40, min_samples_leaf=6, max_features=sqrt, max_depth=10, bootstrap=True \n",
      "[CV]  n_jobs=-1, n_estimators=100, min_samples_split=40, min_samples_leaf=6, max_features=sqrt, max_depth=10, bootstrap=True, score=0.865, total=   0.4s\n",
      "[CV] n_jobs=-1, n_estimators=100, min_samples_split=40, min_samples_leaf=6, max_features=sqrt, max_depth=10, bootstrap=True \n",
      "[CV]  n_jobs=-1, n_estimators=100, min_samples_split=40, min_samples_leaf=6, max_features=sqrt, max_depth=10, bootstrap=True, score=0.868, total=   0.4s\n",
      "[CV] n_jobs=-1, n_estimators=100, min_samples_split=2, min_samples_leaf=4, max_features=auto, max_depth=None, bootstrap=False \n",
      "[CV]  n_jobs=-1, n_estimators=100, min_samples_split=2, min_samples_leaf=4, max_features=auto, max_depth=None, bootstrap=False, score=0.819, total=   1.2s\n",
      "[CV] n_jobs=-1, n_estimators=100, min_samples_split=2, min_samples_leaf=4, max_features=auto, max_depth=None, bootstrap=False \n",
      "[CV]  n_jobs=-1, n_estimators=100, min_samples_split=2, min_samples_leaf=4, max_features=auto, max_depth=None, bootstrap=False, score=0.828, total=   1.3s\n",
      "[CV] n_jobs=-1, n_estimators=100, min_samples_split=2, min_samples_leaf=4, max_features=auto, max_depth=None, bootstrap=False \n",
      "[CV]  n_jobs=-1, n_estimators=100, min_samples_split=2, min_samples_leaf=4, max_features=auto, max_depth=None, bootstrap=False, score=0.785, total=   1.3s\n",
      "[CV] n_jobs=-1, n_estimators=100, min_samples_split=2, min_samples_leaf=4, max_features=auto, max_depth=None, bootstrap=False \n",
      "[CV]  n_jobs=-1, n_estimators=100, min_samples_split=2, min_samples_leaf=4, max_features=auto, max_depth=None, bootstrap=False, score=0.808, total=   1.3s\n",
      "[CV] n_jobs=-1, n_estimators=100, min_samples_split=2, min_samples_leaf=4, max_features=auto, max_depth=None, bootstrap=False \n"
     ]
    },
    {
     "name": "stdout",
     "output_type": "stream",
     "text": [
      "[CV]  n_jobs=-1, n_estimators=100, min_samples_split=2, min_samples_leaf=4, max_features=auto, max_depth=None, bootstrap=False, score=0.826, total=   1.2s\n",
      "[CV] n_jobs=-1, n_estimators=100, min_samples_split=10, min_samples_leaf=4, max_features=sqrt, max_depth=5, bootstrap=True \n",
      "[CV]  n_jobs=-1, n_estimators=100, min_samples_split=10, min_samples_leaf=4, max_features=sqrt, max_depth=5, bootstrap=True, score=0.830, total=   0.4s\n",
      "[CV] n_jobs=-1, n_estimators=100, min_samples_split=10, min_samples_leaf=4, max_features=sqrt, max_depth=5, bootstrap=True \n",
      "[CV]  n_jobs=-1, n_estimators=100, min_samples_split=10, min_samples_leaf=4, max_features=sqrt, max_depth=5, bootstrap=True, score=0.839, total=   0.4s\n",
      "[CV] n_jobs=-1, n_estimators=100, min_samples_split=10, min_samples_leaf=4, max_features=sqrt, max_depth=5, bootstrap=True \n",
      "[CV]  n_jobs=-1, n_estimators=100, min_samples_split=10, min_samples_leaf=4, max_features=sqrt, max_depth=5, bootstrap=True, score=0.802, total=   0.4s\n",
      "[CV] n_jobs=-1, n_estimators=100, min_samples_split=10, min_samples_leaf=4, max_features=sqrt, max_depth=5, bootstrap=True \n",
      "[CV]  n_jobs=-1, n_estimators=100, min_samples_split=10, min_samples_leaf=4, max_features=sqrt, max_depth=5, bootstrap=True, score=0.824, total=   0.4s\n",
      "[CV] n_jobs=-1, n_estimators=100, min_samples_split=10, min_samples_leaf=4, max_features=sqrt, max_depth=5, bootstrap=True \n",
      "[CV]  n_jobs=-1, n_estimators=100, min_samples_split=10, min_samples_leaf=4, max_features=sqrt, max_depth=5, bootstrap=True, score=0.832, total=   0.4s\n",
      "[CV] n_jobs=-1, n_estimators=100, min_samples_split=2, min_samples_leaf=6, max_features=auto, max_depth=5, bootstrap=True \n",
      "[CV]  n_jobs=-1, n_estimators=100, min_samples_split=2, min_samples_leaf=6, max_features=auto, max_depth=5, bootstrap=True, score=0.858, total=   0.6s\n",
      "[CV] n_jobs=-1, n_estimators=100, min_samples_split=2, min_samples_leaf=6, max_features=auto, max_depth=5, bootstrap=True \n",
      "[CV]  n_jobs=-1, n_estimators=100, min_samples_split=2, min_samples_leaf=6, max_features=auto, max_depth=5, bootstrap=True, score=0.862, total=   0.7s\n",
      "[CV] n_jobs=-1, n_estimators=100, min_samples_split=2, min_samples_leaf=6, max_features=auto, max_depth=5, bootstrap=True \n",
      "[CV]  n_jobs=-1, n_estimators=100, min_samples_split=2, min_samples_leaf=6, max_features=auto, max_depth=5, bootstrap=True, score=0.822, total=   0.5s\n",
      "[CV] n_jobs=-1, n_estimators=100, min_samples_split=2, min_samples_leaf=6, max_features=auto, max_depth=5, bootstrap=True \n",
      "[CV]  n_jobs=-1, n_estimators=100, min_samples_split=2, min_samples_leaf=6, max_features=auto, max_depth=5, bootstrap=True, score=0.850, total=   0.5s\n",
      "[CV] n_jobs=-1, n_estimators=100, min_samples_split=2, min_samples_leaf=6, max_features=auto, max_depth=5, bootstrap=True \n",
      "[CV]  n_jobs=-1, n_estimators=100, min_samples_split=2, min_samples_leaf=6, max_features=auto, max_depth=5, bootstrap=True, score=0.865, total=   0.7s\n",
      "[CV] n_jobs=-1, n_estimators=200, min_samples_split=25, min_samples_leaf=6, max_features=auto, max_depth=10, bootstrap=True \n",
      "[CV]  n_jobs=-1, n_estimators=200, min_samples_split=25, min_samples_leaf=6, max_features=auto, max_depth=10, bootstrap=True, score=0.886, total=   1.5s\n",
      "[CV] n_jobs=-1, n_estimators=200, min_samples_split=25, min_samples_leaf=6, max_features=auto, max_depth=10, bootstrap=True \n",
      "[CV]  n_jobs=-1, n_estimators=200, min_samples_split=25, min_samples_leaf=6, max_features=auto, max_depth=10, bootstrap=True, score=0.894, total=   1.3s\n",
      "[CV] n_jobs=-1, n_estimators=200, min_samples_split=25, min_samples_leaf=6, max_features=auto, max_depth=10, bootstrap=True \n",
      "[CV]  n_jobs=-1, n_estimators=200, min_samples_split=25, min_samples_leaf=6, max_features=auto, max_depth=10, bootstrap=True, score=0.854, total=   1.3s\n",
      "[CV] n_jobs=-1, n_estimators=200, min_samples_split=25, min_samples_leaf=6, max_features=auto, max_depth=10, bootstrap=True \n",
      "[CV]  n_jobs=-1, n_estimators=200, min_samples_split=25, min_samples_leaf=6, max_features=auto, max_depth=10, bootstrap=True, score=0.878, total=   1.3s\n",
      "[CV] n_jobs=-1, n_estimators=200, min_samples_split=25, min_samples_leaf=6, max_features=auto, max_depth=10, bootstrap=True \n",
      "[CV]  n_jobs=-1, n_estimators=200, min_samples_split=25, min_samples_leaf=6, max_features=auto, max_depth=10, bootstrap=True, score=0.890, total=   1.1s\n",
      "[CV] n_jobs=-1, n_estimators=100, min_samples_split=40, min_samples_leaf=6, max_features=sqrt, max_depth=10, bootstrap=False \n",
      "[CV]  n_jobs=-1, n_estimators=100, min_samples_split=40, min_samples_leaf=6, max_features=sqrt, max_depth=10, bootstrap=False, score=0.874, total=   0.5s\n",
      "[CV] n_jobs=-1, n_estimators=100, min_samples_split=40, min_samples_leaf=6, max_features=sqrt, max_depth=10, bootstrap=False \n",
      "[CV]  n_jobs=-1, n_estimators=100, min_samples_split=40, min_samples_leaf=6, max_features=sqrt, max_depth=10, bootstrap=False, score=0.885, total=   0.4s\n",
      "[CV] n_jobs=-1, n_estimators=100, min_samples_split=40, min_samples_leaf=6, max_features=sqrt, max_depth=10, bootstrap=False \n",
      "[CV]  n_jobs=-1, n_estimators=100, min_samples_split=40, min_samples_leaf=6, max_features=sqrt, max_depth=10, bootstrap=False, score=0.848, total=   0.4s\n",
      "[CV] n_jobs=-1, n_estimators=100, min_samples_split=40, min_samples_leaf=6, max_features=sqrt, max_depth=10, bootstrap=False \n",
      "[CV]  n_jobs=-1, n_estimators=100, min_samples_split=40, min_samples_leaf=6, max_features=sqrt, max_depth=10, bootstrap=False, score=0.869, total=   0.4s\n",
      "[CV] n_jobs=-1, n_estimators=100, min_samples_split=40, min_samples_leaf=6, max_features=sqrt, max_depth=10, bootstrap=False \n",
      "[CV]  n_jobs=-1, n_estimators=100, min_samples_split=40, min_samples_leaf=6, max_features=sqrt, max_depth=10, bootstrap=False, score=0.873, total=   0.4s\n",
      "[CV] n_jobs=-1, n_estimators=50, min_samples_split=2, min_samples_leaf=2, max_features=sqrt, max_depth=10, bootstrap=False \n",
      "[CV]  n_jobs=-1, n_estimators=50, min_samples_split=2, min_samples_leaf=2, max_features=sqrt, max_depth=10, bootstrap=False, score=0.881, total=   0.3s\n",
      "[CV] n_jobs=-1, n_estimators=50, min_samples_split=2, min_samples_leaf=2, max_features=sqrt, max_depth=10, bootstrap=False \n",
      "[CV]  n_jobs=-1, n_estimators=50, min_samples_split=2, min_samples_leaf=2, max_features=sqrt, max_depth=10, bootstrap=False, score=0.887, total=   0.3s\n",
      "[CV] n_jobs=-1, n_estimators=50, min_samples_split=2, min_samples_leaf=2, max_features=sqrt, max_depth=10, bootstrap=False \n",
      "[CV]  n_jobs=-1, n_estimators=50, min_samples_split=2, min_samples_leaf=2, max_features=sqrt, max_depth=10, bootstrap=False, score=0.853, total=   0.3s\n",
      "[CV] n_jobs=-1, n_estimators=50, min_samples_split=2, min_samples_leaf=2, max_features=sqrt, max_depth=10, bootstrap=False \n",
      "[CV]  n_jobs=-1, n_estimators=50, min_samples_split=2, min_samples_leaf=2, max_features=sqrt, max_depth=10, bootstrap=False, score=0.873, total=   0.3s\n",
      "[CV] n_jobs=-1, n_estimators=50, min_samples_split=2, min_samples_leaf=2, max_features=sqrt, max_depth=10, bootstrap=False \n",
      "[CV]  n_jobs=-1, n_estimators=50, min_samples_split=2, min_samples_leaf=2, max_features=sqrt, max_depth=10, bootstrap=False, score=0.881, total=   0.3s\n",
      "[CV] n_jobs=-1, n_estimators=50, min_samples_split=10, min_samples_leaf=6, max_features=sqrt, max_depth=5, bootstrap=True \n",
      "[CV]  n_jobs=-1, n_estimators=50, min_samples_split=10, min_samples_leaf=6, max_features=sqrt, max_depth=5, bootstrap=True, score=0.830, total=   0.3s\n",
      "[CV] n_jobs=-1, n_estimators=50, min_samples_split=10, min_samples_leaf=6, max_features=sqrt, max_depth=5, bootstrap=True \n",
      "[CV]  n_jobs=-1, n_estimators=50, min_samples_split=10, min_samples_leaf=6, max_features=sqrt, max_depth=5, bootstrap=True, score=0.838, total=   0.3s\n",
      "[CV] n_jobs=-1, n_estimators=50, min_samples_split=10, min_samples_leaf=6, max_features=sqrt, max_depth=5, bootstrap=True \n",
      "[CV]  n_jobs=-1, n_estimators=50, min_samples_split=10, min_samples_leaf=6, max_features=sqrt, max_depth=5, bootstrap=True, score=0.802, total=   0.3s\n",
      "[CV] n_jobs=-1, n_estimators=50, min_samples_split=10, min_samples_leaf=6, max_features=sqrt, max_depth=5, bootstrap=True \n",
      "[CV]  n_jobs=-1, n_estimators=50, min_samples_split=10, min_samples_leaf=6, max_features=sqrt, max_depth=5, bootstrap=True, score=0.823, total=   0.3s\n",
      "[CV] n_jobs=-1, n_estimators=50, min_samples_split=10, min_samples_leaf=6, max_features=sqrt, max_depth=5, bootstrap=True \n"
     ]
    },
    {
     "name": "stdout",
     "output_type": "stream",
     "text": [
      "[CV]  n_jobs=-1, n_estimators=50, min_samples_split=10, min_samples_leaf=6, max_features=sqrt, max_depth=5, bootstrap=True, score=0.825, total=   0.3s\n"
     ]
    },
    {
     "name": "stderr",
     "output_type": "stream",
     "text": [
      "[Parallel(n_jobs=1)]: Done 250 out of 250 | elapsed:  2.8min finished\n"
     ]
    },
    {
     "name": "stdout",
     "output_type": "stream",
     "text": [
      "{'n_jobs': -1, 'n_estimators': 100, 'min_samples_split': 10, 'min_samples_leaf': 2, 'max_features': 'auto', 'max_depth': 30, 'bootstrap': True}\n",
      "r2 score 0.8871519395479955\n",
      "explained_variance_score 0.887475566225732\n",
      "validation mean abs error 2.446412957436994\n",
      "validation RMSE 4.297965394509672\n"
     ]
    }
   ],
   "source": [
    "#Params for search CV\n",
    "n_estimators = [200,50,100]\n",
    "max_features = ['auto', 'sqrt']\n",
    "max_depth = [5,10,30]\n",
    "max_depth.append(None)\n",
    "min_samples_split = [2, 10, 25, 40]\n",
    "min_samples_leaf = [2, 4, 6]\n",
    "bootstrap = [True, False]\n",
    "njobs=[-1] # multiprocessing is a lot faster\n",
    "\n",
    "params = {'n_estimators': n_estimators,\n",
    "               'max_features': max_features,\n",
    "               'max_depth': max_depth,\n",
    "               'min_samples_split': min_samples_split,\n",
    "               'min_samples_leaf': min_samples_leaf,\n",
    "               'bootstrap': bootstrap,\n",
    "              'n_jobs' : njobs\n",
    "                }\n",
    "\n",
    "run_randomsearch=False # bypass, saving time when runnign all the cells\n",
    "\n",
    "if run_randomsearch:\n",
    "    # Randomized search is faster \n",
    "    search = RandomizedSearchCV(RandomForestRegressor(), params, n_iter=50,refit = True,cv=5, verbose = 10) \n",
    "\n",
    "    search.fit(X_train, y_train) \n",
    "\n",
    "    # print best parameter after tuning \n",
    "    print(search.best_params_) \n",
    "    #scores\n",
    "    y_pred = search.predict(X_val)\n",
    "    print('r2 score', search.score(X_val,y_val))\n",
    "    print('explained_variance_score',explained_variance_score(y_val, y_pred))\n",
    "    print('validation mean abs error',mean_absolute_error(y_val, y_pred))\n",
    "    print('validation RMSE',mean_squared_error(y_val, y_pred,squared=False))"
   ]
  },
  {
   "cell_type": "markdown",
   "id": "a208e6ca",
   "metadata": {},
   "source": [
    "## 4.3 Training the tuned model"
   ]
  },
  {
   "cell_type": "markdown",
   "id": "6f1ae5ac",
   "metadata": {},
   "source": [
    "#### Training and evaluation with the right hyperparameters"
   ]
  },
  {
   "cell_type": "code",
   "execution_count": 59,
   "id": "52750814",
   "metadata": {},
   "outputs": [
    {
     "name": "stdout",
     "output_type": "stream",
     "text": [
      "r2 score 0.8881772298879758\n",
      "explained_variance_score 0.8885298315671347\n",
      "validation mean abs error 2.4354441345750635\n",
      "validation RMSE 4.278396084296305\n"
     ]
    }
   ],
   "source": [
    "tuned_model = RandomForestRegressor(n_estimators=100,n_jobs=-1,min_samples_split=10,max_features='auto',min_samples_leaf=2,bootstrap=True,max_depth=30)\n",
    "tuned_model.fit(X_train,y_train)\n",
    "y_pred = tuned_model.predict(X_val)\n",
    "print('r2 score', tuned_model.score(X_val,y_val))\n",
    "print('explained_variance_score',explained_variance_score(y_val, y_pred))\n",
    "print('validation mean abs error',mean_absolute_error(y_val, y_pred))\n",
    "print('validation RMSE',mean_squared_error(y_val, y_pred,squared=False))"
   ]
  },
  {
   "cell_type": "markdown",
   "id": "7d06b00a",
   "metadata": {},
   "source": [
    "#### Saving the model"
   ]
  },
  {
   "cell_type": "code",
   "execution_count": 60,
   "id": "e1e1cc7b",
   "metadata": {},
   "outputs": [
    {
     "data": {
      "text/plain": [
       "['models/random_forest.joblib']"
      ]
     },
     "execution_count": 60,
     "metadata": {},
     "output_type": "execute_result"
    }
   ],
   "source": [
    "from joblib import dump, load\n",
    "\n",
    "# data folder, create if it does not exists\n",
    "os.makedirs('./models/', exist_ok=True) \n",
    "\n",
    "dump(tuned_model, 'models/random_forest.joblib') \n",
    "\n",
    "#Uncomment to load \n",
    "#random_forest = load('models/random_forest.joblib') "
   ]
  },
  {
   "cell_type": "markdown",
   "id": "3b6bb048",
   "metadata": {},
   "source": [
    "# 5 Final results and conclusion"
   ]
  },
  {
   "cell_type": "markdown",
   "id": "61908eb6",
   "metadata": {},
   "source": [
    "#### Formatting the final result to the desired format"
   ]
  },
  {
   "cell_type": "code",
   "execution_count": 61,
   "id": "d20d1b9e",
   "metadata": {},
   "outputs": [
    {
     "data": {
      "text/html": [
       "<div>\n",
       "<style scoped>\n",
       "    .dataframe tbody tr th:only-of-type {\n",
       "        vertical-align: middle;\n",
       "    }\n",
       "\n",
       "    .dataframe tbody tr th {\n",
       "        vertical-align: top;\n",
       "    }\n",
       "\n",
       "    .dataframe thead th {\n",
       "        text-align: right;\n",
       "    }\n",
       "</style>\n",
       "<table border=\"1\" class=\"dataframe\">\n",
       "  <thead>\n",
       "    <tr style=\"text-align: right;\">\n",
       "      <th></th>\n",
       "      <th>user_id</th>\n",
       "      <th>age</th>\n",
       "      <th>true_or_predicted</th>\n",
       "    </tr>\n",
       "  </thead>\n",
       "  <tbody>\n",
       "    <tr>\n",
       "      <th>0</th>\n",
       "      <td>++8qqHNDQSyp1Yd45ROBZg5+2cvffV/mNepQVJd0smgtpB...</td>\n",
       "      <td>36</td>\n",
       "      <td>True</td>\n",
       "    </tr>\n",
       "    <tr>\n",
       "      <th>1</th>\n",
       "      <td>++P3GpkLINRrbYEiFplujg5+2cvffV/mNepQVJd0smgtpB...</td>\n",
       "      <td>40</td>\n",
       "      <td>True</td>\n",
       "    </tr>\n",
       "    <tr>\n",
       "      <th>2</th>\n",
       "      <td>++Upv8fhNd5eyDVjpW6xKA5+2cvffV/mNepQVJd0smgtpB...</td>\n",
       "      <td>32</td>\n",
       "      <td>True</td>\n",
       "    </tr>\n",
       "    <tr>\n",
       "      <th>3</th>\n",
       "      <td>++rH2ZxLmNrpCF9UEcWcAmEWBgzjpZvPNepQVJd0smgtpB...</td>\n",
       "      <td>33</td>\n",
       "      <td>True</td>\n",
       "    </tr>\n",
       "    <tr>\n",
       "      <th>4</th>\n",
       "      <td>+/1ZQ3gBdWzYLeCLG54vvg5+2cvffV/mNepQVJd0smgtpB...</td>\n",
       "      <td>51</td>\n",
       "      <td>True</td>\n",
       "    </tr>\n",
       "    <tr>\n",
       "      <th>...</th>\n",
       "      <td>...</td>\n",
       "      <td>...</td>\n",
       "      <td>...</td>\n",
       "    </tr>\n",
       "    <tr>\n",
       "      <th>99995</th>\n",
       "      <td>zzZdW3VGODRxRl2025ZR2w5+2cvffV/mNepQVJd0smgtpB...</td>\n",
       "      <td>33</td>\n",
       "      <td>False</td>\n",
       "    </tr>\n",
       "    <tr>\n",
       "      <th>99996</th>\n",
       "      <td>zzrNxfUzwZXNkSs15haLyA4ZM3TcQvn1bQ/jHgHWG0kf/b...</td>\n",
       "      <td>58</td>\n",
       "      <td>False</td>\n",
       "    </tr>\n",
       "    <tr>\n",
       "      <th>99997</th>\n",
       "      <td>zzrbQXjc2yHwbWjtQ9F3mg5+2cvffV/mNepQVJd0smgtpB...</td>\n",
       "      <td>34</td>\n",
       "      <td>False</td>\n",
       "    </tr>\n",
       "    <tr>\n",
       "      <th>99998</th>\n",
       "      <td>zzuZVPanBvW09lNk1C3h+Q5+2cvffV/mNepQVJd0smgtpB...</td>\n",
       "      <td>30</td>\n",
       "      <td>False</td>\n",
       "    </tr>\n",
       "    <tr>\n",
       "      <th>99999</th>\n",
       "      <td>zzvZxBSf81furoFl3PcSuHAG1BvSkUYANepQVJd0smgtpB...</td>\n",
       "      <td>24</td>\n",
       "      <td>False</td>\n",
       "    </tr>\n",
       "  </tbody>\n",
       "</table>\n",
       "<p>100000 rows × 3 columns</p>\n",
       "</div>"
      ],
      "text/plain": [
       "                                                 user_id  age  \\\n",
       "0      ++8qqHNDQSyp1Yd45ROBZg5+2cvffV/mNepQVJd0smgtpB...   36   \n",
       "1      ++P3GpkLINRrbYEiFplujg5+2cvffV/mNepQVJd0smgtpB...   40   \n",
       "2      ++Upv8fhNd5eyDVjpW6xKA5+2cvffV/mNepQVJd0smgtpB...   32   \n",
       "3      ++rH2ZxLmNrpCF9UEcWcAmEWBgzjpZvPNepQVJd0smgtpB...   33   \n",
       "4      +/1ZQ3gBdWzYLeCLG54vvg5+2cvffV/mNepQVJd0smgtpB...   51   \n",
       "...                                                  ...  ...   \n",
       "99995  zzZdW3VGODRxRl2025ZR2w5+2cvffV/mNepQVJd0smgtpB...   33   \n",
       "99996  zzrNxfUzwZXNkSs15haLyA4ZM3TcQvn1bQ/jHgHWG0kf/b...   58   \n",
       "99997  zzrbQXjc2yHwbWjtQ9F3mg5+2cvffV/mNepQVJd0smgtpB...   34   \n",
       "99998  zzuZVPanBvW09lNk1C3h+Q5+2cvffV/mNepQVJd0smgtpB...   30   \n",
       "99999  zzvZxBSf81furoFl3PcSuHAG1BvSkUYANepQVJd0smgtpB...   24   \n",
       "\n",
       "       true_or_predicted  \n",
       "0                   True  \n",
       "1                   True  \n",
       "2                   True  \n",
       "3                   True  \n",
       "4                   True  \n",
       "...                  ...  \n",
       "99995              False  \n",
       "99996              False  \n",
       "99997              False  \n",
       "99998              False  \n",
       "99999              False  \n",
       "\n",
       "[100000 rows x 3 columns]"
      ]
     },
     "execution_count": 61,
     "metadata": {},
     "output_type": "execute_result"
    }
   ],
   "source": [
    "#prediction on test data\n",
    "y_pred = tuned_model.predict(X_test)\n",
    "\n",
    "# copy to prevent bug if above cells are reran\n",
    "df_all=test_data.copy()\n",
    "\n",
    "# adding label and label origin informations\n",
    "df_all['label'] = y_pred\n",
    "df_all['true_or_predicted']=False\n",
    "train_data['true_or_predicted']=True\n",
    "val_data['true_or_predicted']=True\n",
    "\n",
    "#merging everything\n",
    "df_all=pd.concat([train_data,val_data, df_all], axis=0)\n",
    "\n",
    "#convert brithdays to age\n",
    "now = datetime.now()\n",
    "today=now.year+now.month/13\n",
    "df_all['age']=(today-df_all['label']).astype(int)\n",
    "\n",
    "#keep the desired cols\n",
    "df_all=df_all[['age','true_or_predicted']]\n",
    "df_all.reset_index(inplace=True)\n",
    "df_all.to_csv('ages_prediction.csv', sep='\\t', encoding='utf-8')\n",
    "df_all"
   ]
  },
  {
   "cell_type": "markdown",
   "id": "26e385f1",
   "metadata": {},
   "source": [
    "#### Illustrating the results on the test data"
   ]
  },
  {
   "cell_type": "code",
   "execution_count": 62,
   "id": "41dcec22",
   "metadata": {},
   "outputs": [
    {
     "data": {
      "text/html": [
       "<div>\n",
       "<style scoped>\n",
       "    .dataframe tbody tr th:only-of-type {\n",
       "        vertical-align: middle;\n",
       "    }\n",
       "\n",
       "    .dataframe tbody tr th {\n",
       "        vertical-align: top;\n",
       "    }\n",
       "\n",
       "    .dataframe thead th {\n",
       "        text-align: right;\n",
       "    }\n",
       "</style>\n",
       "<table border=\"1\" class=\"dataframe\">\n",
       "  <thead>\n",
       "    <tr style=\"text-align: right;\">\n",
       "      <th></th>\n",
       "      <th>user_id</th>\n",
       "      <th>age</th>\n",
       "      <th>true_or_predicted</th>\n",
       "    </tr>\n",
       "  </thead>\n",
       "  <tbody>\n",
       "    <tr>\n",
       "      <th>33931</th>\n",
       "      <td>++5SW5MI5/h8X1hMA3QnmQ4ZM3TcQvn1bQ/jHgHWG0kf/b...</td>\n",
       "      <td>87</td>\n",
       "      <td>False</td>\n",
       "    </tr>\n",
       "    <tr>\n",
       "      <th>33932</th>\n",
       "      <td>++5qk2+uEmkI/3Z4FrBwDw4ZM3TcQvn1bQ/jHgHWG0kf/b...</td>\n",
       "      <td>60</td>\n",
       "      <td>False</td>\n",
       "    </tr>\n",
       "    <tr>\n",
       "      <th>33933</th>\n",
       "      <td>++6+hv3i5RAVsrWO8q5JEQ5+2cvffV/mNepQVJd0smgtpB...</td>\n",
       "      <td>26</td>\n",
       "      <td>False</td>\n",
       "    </tr>\n",
       "    <tr>\n",
       "      <th>33934</th>\n",
       "      <td>++7kB6m0hI1TgAPmyY1X6A5+2cvffV/mNepQVJd0smgtpB...</td>\n",
       "      <td>42</td>\n",
       "      <td>False</td>\n",
       "    </tr>\n",
       "    <tr>\n",
       "      <th>33935</th>\n",
       "      <td>++9DtAOTiRRvECoMIpKbmg4ZM3TcQvn1bQ/jHgHWG0kf/b...</td>\n",
       "      <td>36</td>\n",
       "      <td>False</td>\n",
       "    </tr>\n",
       "  </tbody>\n",
       "</table>\n",
       "</div>"
      ],
      "text/plain": [
       "                                                 user_id  age  \\\n",
       "33931  ++5SW5MI5/h8X1hMA3QnmQ4ZM3TcQvn1bQ/jHgHWG0kf/b...   87   \n",
       "33932  ++5qk2+uEmkI/3Z4FrBwDw4ZM3TcQvn1bQ/jHgHWG0kf/b...   60   \n",
       "33933  ++6+hv3i5RAVsrWO8q5JEQ5+2cvffV/mNepQVJd0smgtpB...   26   \n",
       "33934  ++7kB6m0hI1TgAPmyY1X6A5+2cvffV/mNepQVJd0smgtpB...   42   \n",
       "33935  ++9DtAOTiRRvECoMIpKbmg4ZM3TcQvn1bQ/jHgHWG0kf/b...   36   \n",
       "\n",
       "       true_or_predicted  \n",
       "33931              False  \n",
       "33932              False  \n",
       "33933              False  \n",
       "33934              False  \n",
       "33935              False  "
      ]
     },
     "execution_count": 62,
     "metadata": {},
     "output_type": "execute_result"
    }
   ],
   "source": [
    "# taking only predicted ages\n",
    "test_ages=df_all[~df_all['true_or_predicted']]\n",
    "test_ages.reset_index(drop=True)\n",
    "test_ages.head(5)"
   ]
  },
  {
   "cell_type": "code",
   "execution_count": 64,
   "id": "75d794c6",
   "metadata": {},
   "outputs": [
    {
     "name": "stdout",
     "output_type": "stream",
     "text": [
      "Predictied Age: 87\n",
      "      major   startdate     enddate\n",
      "99508    BS  1949-01-01  1953-01-01\n",
      "                                jobtitle   startdate enddate\n",
      "41525  former_owner_presently_consultant  1953-01-01     NaN\n",
      "                                jobtitle  seniority\n",
      "90141  former_owner_presently_consultant   7.064817\n",
      "=================\n",
      "Predictied Age: 60\n",
      "                   major   startdate     enddate\n",
      "92083  BS in Electronics  1973-01-01  1978-01-01\n",
      "92505                NaN  1984-01-01  1987-01-01\n",
      "                                                 jobtitle   startdate  \\\n",
      "9781                    owner_|_computer_network_security  1993-06-01   \n",
      "106525  design_engineer_|_mechanical_industrial_engine...  1984-10-01   \n",
      "\n",
      "           enddate  \n",
      "9781           NaN  \n",
      "106525  1989-05-01  \n",
      "                                                 jobtitle  seniority\n",
      "71129   design_engineer_|_mechanical_industrial_engine...   3.331507\n",
      "222292                  owner_|_computer_network_security   7.334247\n",
      "=================\n",
      "Predictied Age: 26\n",
      "                      major   startdate     enddate\n",
      "133238  Master Grande Ecole  2013-01-01  2016-01-01\n",
      "                                                 jobtitle   startdate  \\\n",
      "23563          freelance_author_lucifer_manga_books_serie  2016-12-01   \n",
      "30076                     event_promoter_public_relations  2015-07-01   \n",
      "176460  trainee_digital_brand_commerce_crm_implementat...  2018-04-01   \n",
      "200727  sales_business_development_executive_|_events_...  2017-06-01   \n",
      "213101  digital_communication_social_medias_activation...  2016-11-01   \n",
      "220136  trainee_digital_brand_commerce_membership_prog...  2018-09-01   \n",
      "228215             assistant_business_development_manager  2014-06-01   \n",
      "228241  digital_communication_press_relations_|_cosmetics  2016-07-01   \n",
      "237149  trainee_digital_brand_commerce_digital_plannin...  2017-09-01   \n",
      "\n",
      "           enddate  \n",
      "23563   2017-08-01  \n",
      "30076   2015-08-01  \n",
      "176460         NaN  \n",
      "200727  2017-08-01  \n",
      "213101  2017-05-01  \n",
      "220136         NaN  \n",
      "228215  2014-08-01  \n",
      "228241  2016-10-01  \n",
      "237149  2018-03-01  \n",
      "                                                 jobtitle  seniority\n",
      "24521              assistant_business_development_manager   3.787412\n",
      "44321          freelance_author_lucifer_manga_books_serie   4.020771\n",
      "111281  sales_business_development_executive_|_events_...   3.439384\n",
      "220871                    event_promoter_public_relations   1.908356\n",
      "333670  digital_communication_press_relations_|_cosmetics   4.307247\n",
      "351436  trainee_digital_brand_commerce_membership_prog...   4.307247\n",
      "354892  trainee_digital_brand_commerce_digital_plannin...   4.307247\n",
      "372408  trainee_digital_brand_commerce_crm_implementat...   4.307247\n",
      "399946  digital_communication_social_medias_activation...   4.307247\n",
      "=================\n",
      "Predictied Age: 42\n",
      "                  major   startdate     enddate\n",
      "106134  Master's Degree  2008-01-01         NaN\n",
      "106190               BS  1996-01-01  1997-01-01\n",
      "106774              NaN  2012-01-01  2013-01-01\n",
      "                                                 jobtitle   startdate  \\\n",
      "72818                           clinical_data_coordinator  2004-09-01   \n",
      "245906   computational_chemistry_intern_|_pharmaceuticals  1997-12-01   \n",
      "280513            sr_research_associate_|_pharmaceuticals  1999-09-01   \n",
      "288582  validation_scientist_bristol_myers_squibb_co_|...  2005-05-01   \n",
      "311981                                           director  2012-08-01   \n",
      "320187           validation_scientist_|_computer_software  2014-09-01   \n",
      "324558                                  preschool_teacher  2011-06-01   \n",
      "330491                                 substitute_teacher  2011-01-01   \n",
      "351507           validation_scientist_|_computer_software  2008-03-01   \n",
      "\n",
      "           enddate  \n",
      "72818   2005-05-01  \n",
      "245906  1998-12-01  \n",
      "280513  2003-12-01  \n",
      "288582  2007-09-01  \n",
      "311981  2014-02-01  \n",
      "320187         NaN  \n",
      "324558  2012-08-01  \n",
      "330491  2011-05-01  \n",
      "351507  2012-12-01  \n",
      "                                                 jobtitle  seniority\n",
      "11467                                  substitute_teacher   2.039746\n",
      "20790                           clinical_data_coordinator   3.610914\n",
      "231173            sr_research_associate_|_pharmaceuticals   5.046575\n",
      "248331                                           director   7.421538\n",
      "343355                                  preschool_teacher   2.855363\n",
      "343977  validation_scientist_bristol_myers_squibb_co_|...   2.750685\n",
      "375097           validation_scientist_|_computer_software   4.713699\n",
      "385257   computational_chemistry_intern_|_pharmaceuticals   4.142466\n",
      "=================\n",
      "Predictied Age: 36\n",
      "         major   startdate     enddate\n",
      "29395  B. Tech  2002-01-01  2006-01-01\n",
      "29488      MSc  2009-01-01  2010-01-01\n",
      "                                                jobtitle   startdate  \\\n",
      "136336          post_graduate_student_|_higher_education  2009-01-01   \n",
      "149353                      business_development_manager  2007-01-01   \n",
      "163857  business_development_manager_|_computer_software  2007-07-01   \n",
      "\n",
      "           enddate  \n",
      "136336         NaN  \n",
      "149353  2007-07-01  \n",
      "163857  2008-12-01  \n",
      "                                                jobtitle  seniority\n",
      "25815           post_graduate_student_|_higher_education   3.793151\n",
      "251617  business_development_manager_|_computer_software   5.002740\n",
      "411244                      business_development_manager   5.325018\n",
      "=================\n"
     ]
    }
   ],
   "source": [
    "# Checking the history to see if it matches\n",
    "df_positions = pd.read_csv(\"./data/positions.csv\")\n",
    "df_education = pd.read_csv(\"./data/education.csv\")\n",
    "df_seniority = pd.read_csv(\"./data/jobtitle_seniority.csv\")\n",
    "\n",
    "for i in range (33931,33931+5):\n",
    "    user=test_ages.loc[i,'user_id']\n",
    "    print('Predictied Age:',test_ages.loc[i,'age'])\n",
    "    get_user_history(user)\n",
    "    print('=================')"
   ]
  },
  {
   "cell_type": "markdown",
   "metadata": {},
   "source": [
    "The results seem logical, for instance starting a bs in 1949 would mean that the user is about 2022-1949+18= 91 years old\n",
    "\n",
    "Starting a bs in 1996 would give the user an age of about 44 years old instead of 42"
   ]
  },
  {
   "cell_type": "code",
   "execution_count": 103,
   "metadata": {},
   "outputs": [
    {
     "data": {
      "text/plain": [
       "44"
      ]
     },
     "execution_count": 103,
     "metadata": {},
     "output_type": "execute_result"
    }
   ],
   "source": [
    "2022-1996+18"
   ]
  },
  {
   "cell_type": "markdown",
   "id": "0895848f",
   "metadata": {},
   "source": [
    "# Potential improvements and future work"
   ]
  },
  {
   "cell_type": "markdown",
   "id": "e1ccef67",
   "metadata": {},
   "source": [
    "There is a fair share of foreign languages, taking into account the bachelor equivalents around the word could be beneficial for non english profiles\n",
    "\n",
    "Taking into account the profiles connected to a user could also give a lot of information and more confidence on the predictions"
   ]
  },
  {
   "cell_type": "markdown",
   "id": "85cacd46",
   "metadata": {},
   "source": [
    "## bonus RNN with Tensorflow\n",
    "\n",
    "A GPU may be needed"
   ]
  },
  {
   "cell_type": "code",
   "execution_count": 35,
   "metadata": {},
   "outputs": [
    {
     "name": "stdout",
     "output_type": "stream",
     "text": [
      "The autoreload extension is already loaded. To reload it, use:\n",
      "  %reload_ext autoreload\n",
      "2.6.0\n"
     ]
    }
   ],
   "source": [
    "# Import modules\n",
    "from __future__ import print_function\n",
    "import tensorflow as tf\n",
    "\n",
    "physical_devices = tf.config.list_physical_devices('GPU')\n",
    "# GPU memory\n",
    "tf.config.experimental.set_memory_growth(physical_devices[0], enable=True)\n",
    "\n",
    "from numpy.random import shuffle\n",
    "%matplotlib inline\n",
    "%load_ext autoreload\n",
    "%autoreload 2\n",
    "print(tf.__version__)"
   ]
  },
  {
   "cell_type": "code",
   "execution_count": 32,
   "id": "4cb0b6e8",
   "metadata": {},
   "outputs": [
    {
     "name": "stdout",
     "output_type": "stream",
     "text": [
      "(8329, 70) (8329,)\n",
      "(4917, 70) (4917,)\n",
      "(66069, 70)\n"
     ]
    }
   ],
   "source": [
    "feature_cols=['enddate_y','startdate_y','seniority','enddate_x','startdate_x','major_cluster','job_cluster']\n",
    "def format_data_to_matrix(df,feature_cols):\n",
    "        # convert to np array\n",
    "        X=np.asarray(df[feature_cols].values.tolist())\n",
    "        #reshape to matrix\n",
    "        X=np.reshape(X, (len(X), X.shape[1]*X.shape[2]))\n",
    "        if 'label' in df:\n",
    "            y=np.asarray(df[['label']]).reshape(-1)\n",
    "            return X,y\n",
    "        # else, testing data with no labels\n",
    "        return X\n",
    "    \n",
    "X_train,y_train=format_data_to_matrix(train_data[train_data_mask],feature_cols)\n",
    "X_val,y_val=format_data_to_matrix(val_data[val_data_mask],feature_cols)\n",
    "X_test=format_data_to_matrix(test_data,feature_cols) # no labels\n",
    "\n",
    "print(X_train.shape,y_train.shape)\n",
    "print(X_val.shape,y_val.shape)\n",
    "print(X_test.shape)"
   ]
  },
  {
   "cell_type": "markdown",
   "metadata": {},
   "source": [
    "Standardazing the data"
   ]
  },
  {
   "cell_type": "code",
   "execution_count": 84,
   "id": "fe0ad475",
   "metadata": {},
   "outputs": [
    {
     "name": "stdout",
     "output_type": "stream",
     "text": [
      "(8329, 10, 7) (8329,)\n",
      "(4917, 10, 7) (4917,)\n",
      "(66069, 10, 7)\n"
     ]
    }
   ],
   "source": [
    "scalers = {}\n",
    "# we need to scale along each category\n",
    "def format_data_for_RNN(df,feature_cols,fit=False):\n",
    "    X=np.asarray(df[feature_cols].values.tolist())\n",
    "    for i in range(X.shape[1]):\n",
    "        if (fit):\n",
    "            scalers[i] = StandardScaler()\n",
    "            X[:, i, :] = scalers[i].fit_transform(X[:, i, :]) \n",
    "        else:\n",
    "            X[:, i, :] = scalers[i].transform(X[:, i, :]) \n",
    "        # convert to np array\n",
    "    #reshape to matrix\n",
    "    X=np.swapaxes(X,1,2) # time axis is the axis 1 for RNN!\n",
    "    if 'label' in df:\n",
    "        y=np.asarray(df[['label']]).reshape(-1)\n",
    "        if fit:\n",
    "            scalers[-1] = StandardScaler()\n",
    "            y=scalers[-1].fit_transform(y.reshape(-1, 1)).reshape(-1)\n",
    "        else:\n",
    "            y=scalers[-1].fit_transform(y.reshape(-1, 1)).reshape(-1)\n",
    "        return X,y\n",
    "    # else, testing data with no labels\n",
    "    X=np.flip(X, axis=1) # REVERSE the time axis as the latest dates are less important\n",
    "    return X\n",
    "    \n",
    "X_train,y_train=format_data_for_RNN(train_data[train_data_mask],feature_cols,fit=True)\n",
    "X_val,y_val=format_data_for_RNN(val_data[val_data_mask],feature_cols)\n",
    "X_test=format_data_for_RNN(test_data,feature_cols) # no labels\n",
    "\n",
    "print(X_train.shape,y_train.shape)\n",
    "print(X_val.shape,y_val.shape)\n",
    "print(X_test.shape)"
   ]
  },
  {
   "cell_type": "markdown",
   "metadata": {},
   "source": [
    "##### For maximum accuracy we use SGD with momentum and lr reduction\n",
    "\n",
    "The Adam optimizer may be faster to converge but usually gives a worse final accuracy"
   ]
  },
  {
   "cell_type": "markdown",
   "metadata": {},
   "source": [
    "We use GRU cells, LSTM also give similar results"
   ]
  },
  {
   "cell_type": "code",
   "execution_count": 96,
   "id": "76a3fa8c",
   "metadata": {},
   "outputs": [
    {
     "name": "stdout",
     "output_type": "stream",
     "text": [
      "WARNING:tensorflow:Please add `keras.layers.InputLayer` instead of `keras.Input` to Sequential model. `keras.Input` is intended to be used by Functional model.\n",
      "Model: \"sequential_27\"\n",
      "_________________________________________________________________\n",
      "Layer (type)                 Output Shape              Param #   \n",
      "=================================================================\n",
      "bidirectional_26 (Bidirectio (None, 40)                3480      \n",
      "_________________________________________________________________\n",
      "dense_97 (Dense)             (None, 50)                2050      \n",
      "_________________________________________________________________\n",
      "dropout_37 (Dropout)         (None, 50)                0         \n",
      "_________________________________________________________________\n",
      "dense_98 (Dense)             (None, 50)                2550      \n",
      "_________________________________________________________________\n",
      "dropout_38 (Dropout)         (None, 50)                0         \n",
      "_________________________________________________________________\n",
      "dense_99 (Dense)             (None, 10)                510       \n",
      "_________________________________________________________________\n",
      "dense_100 (Dense)            (None, 1)                 11        \n",
      "=================================================================\n",
      "Total params: 8,601\n",
      "Trainable params: 8,601\n",
      "Non-trainable params: 0\n",
      "_________________________________________________________________\n",
      "None\n",
      "Epoch 1/100\n",
      "\n",
      "Epoch 00001: LearningRateScheduler setting learning rate to 0.10000000149011612.\n",
      "16/16 [==============================] - 9s 93ms/step - loss: 1.0691 - mean_absolute_error: 0.4922 - val_loss: 0.8383 - val_mean_absolute_error: 0.3332\n",
      "Epoch 2/100\n",
      "\n",
      "Epoch 00002: LearningRateScheduler setting learning rate to 0.10000000149011612.\n",
      "16/16 [==============================] - 0s 20ms/step - loss: 0.8130 - mean_absolute_error: 0.3335 - val_loss: 0.7690 - val_mean_absolute_error: 0.3375\n",
      "Epoch 3/100\n",
      "\n",
      "Epoch 00003: LearningRateScheduler setting learning rate to 0.10000000149011612.\n",
      "16/16 [==============================] - 0s 21ms/step - loss: 0.7036 - mean_absolute_error: 0.2908 - val_loss: 0.6400 - val_mean_absolute_error: 0.2661\n",
      "Epoch 4/100\n",
      "\n",
      "Epoch 00004: LearningRateScheduler setting learning rate to 0.10000000149011612.\n",
      "16/16 [==============================] - 0s 21ms/step - loss: 0.6310 - mean_absolute_error: 0.2812 - val_loss: 0.5802 - val_mean_absolute_error: 0.2780\n",
      "Epoch 5/100\n",
      "\n",
      "Epoch 00005: LearningRateScheduler setting learning rate to 0.10000000149011612.\n",
      "16/16 [==============================] - 0s 21ms/step - loss: 0.5633 - mean_absolute_error: 0.2760 - val_loss: 0.5376 - val_mean_absolute_error: 0.2943\n",
      "Epoch 6/100\n",
      "\n",
      "Epoch 00006: LearningRateScheduler setting learning rate to 0.10000000149011612.\n",
      "16/16 [==============================] - 0s 20ms/step - loss: 0.5055 - mean_absolute_error: 0.2711 - val_loss: 0.4798 - val_mean_absolute_error: 0.2921\n",
      "Epoch 7/100\n",
      "\n",
      "Epoch 00007: LearningRateScheduler setting learning rate to 0.10000000149011612.\n",
      "16/16 [==============================] - 0s 20ms/step - loss: 0.4552 - mean_absolute_error: 0.2686 - val_loss: 0.4269 - val_mean_absolute_error: 0.2832\n",
      "Epoch 8/100\n",
      "\n",
      "Epoch 00008: LearningRateScheduler setting learning rate to 0.10000000149011612.\n",
      "16/16 [==============================] - 0s 22ms/step - loss: 0.4083 - mean_absolute_error: 0.2680 - val_loss: 0.4052 - val_mean_absolute_error: 0.3055\n",
      "Epoch 9/100\n",
      "\n",
      "Epoch 00009: LearningRateScheduler setting learning rate to 0.10000000149011612.\n",
      "16/16 [==============================] - 0s 20ms/step - loss: 0.3718 - mean_absolute_error: 0.2714 - val_loss: 0.3413 - val_mean_absolute_error: 0.2702\n",
      "Epoch 10/100\n",
      "\n",
      "Epoch 00010: LearningRateScheduler setting learning rate to 0.10000000149011612.\n",
      "16/16 [==============================] - 0s 18ms/step - loss: 0.3392 - mean_absolute_error: 0.2712 - val_loss: 0.3685 - val_mean_absolute_error: 0.3451\n",
      "Epoch 11/100\n",
      "\n",
      "Epoch 00011: LearningRateScheduler setting learning rate to 0.10000000149011612.\n",
      "16/16 [==============================] - 0s 18ms/step - loss: 0.3095 - mean_absolute_error: 0.2663 - val_loss: 0.2931 - val_mean_absolute_error: 0.2776\n",
      "Epoch 12/100\n",
      "\n",
      "Epoch 00012: LearningRateScheduler setting learning rate to 0.10000000149011612.\n",
      "16/16 [==============================] - 0s 20ms/step - loss: 0.2854 - mean_absolute_error: 0.2655 - val_loss: 0.2841 - val_mean_absolute_error: 0.2938\n",
      "Epoch 13/100\n",
      "\n",
      "Epoch 00013: LearningRateScheduler setting learning rate to 0.10000000149011612.\n",
      "16/16 [==============================] - 0s 19ms/step - loss: 0.2727 - mean_absolute_error: 0.2721 - val_loss: 0.2567 - val_mean_absolute_error: 0.2758\n",
      "Epoch 14/100\n",
      "\n",
      "Epoch 00014: LearningRateScheduler setting learning rate to 0.10000000149011612.\n",
      "16/16 [==============================] - 0s 19ms/step - loss: 0.2590 - mean_absolute_error: 0.2702 - val_loss: 0.2660 - val_mean_absolute_error: 0.3027\n",
      "Epoch 15/100\n",
      "\n",
      "Epoch 00015: LearningRateScheduler setting learning rate to 0.10000000149011612.\n",
      "16/16 [==============================] - 0s 19ms/step - loss: 0.2477 - mean_absolute_error: 0.2693 - val_loss: 0.2272 - val_mean_absolute_error: 0.2638\n",
      "Epoch 16/100\n",
      "\n",
      "Epoch 00016: LearningRateScheduler setting learning rate to 0.10000000149011612.\n",
      "16/16 [==============================] - 0s 19ms/step - loss: 0.2355 - mean_absolute_error: 0.2641 - val_loss: 0.3187 - val_mean_absolute_error: 0.3813\n",
      "Epoch 17/100\n",
      "\n",
      "Epoch 00017: LearningRateScheduler setting learning rate to 0.10000000149011612.\n",
      "16/16 [==============================] - 0s 18ms/step - loss: 0.2490 - mean_absolute_error: 0.2888 - val_loss: 0.2200 - val_mean_absolute_error: 0.2631\n",
      "Epoch 18/100\n",
      "\n",
      "Epoch 00018: LearningRateScheduler setting learning rate to 0.10000000149011612.\n",
      "16/16 [==============================] - 0s 19ms/step - loss: 0.2367 - mean_absolute_error: 0.2757 - val_loss: 0.2055 - val_mean_absolute_error: 0.2507\n",
      "Epoch 19/100\n",
      "\n",
      "Epoch 00019: LearningRateScheduler setting learning rate to 0.10000000149011612.\n",
      "16/16 [==============================] - 0s 18ms/step - loss: 0.2270 - mean_absolute_error: 0.2667 - val_loss: 0.2529 - val_mean_absolute_error: 0.3210\n",
      "Epoch 20/100\n",
      "\n",
      "Epoch 00020: LearningRateScheduler setting learning rate to 0.10000000149011612.\n",
      "16/16 [==============================] - 0s 19ms/step - loss: 0.2217 - mean_absolute_error: 0.2639 - val_loss: 0.2074 - val_mean_absolute_error: 0.2615\n",
      "Epoch 21/100\n",
      "\n",
      "Epoch 00021: LearningRateScheduler setting learning rate to 0.10000000149011612.\n",
      "16/16 [==============================] - 0s 20ms/step - loss: 0.2203 - mean_absolute_error: 0.2638 - val_loss: 0.2504 - val_mean_absolute_error: 0.3216\n",
      "Epoch 22/100\n",
      "\n",
      "Epoch 00022: LearningRateScheduler setting learning rate to 0.10000000149011612.\n",
      "16/16 [==============================] - 0s 19ms/step - loss: 0.2229 - mean_absolute_error: 0.2705 - val_loss: 0.2032 - val_mean_absolute_error: 0.2558\n",
      "Epoch 23/100\n",
      "\n",
      "Epoch 00023: LearningRateScheduler setting learning rate to 0.10000000149011612.\n",
      "16/16 [==============================] - 0s 19ms/step - loss: 0.2181 - mean_absolute_error: 0.2667 - val_loss: 0.2025 - val_mean_absolute_error: 0.2661\n",
      "Epoch 24/100\n",
      "\n",
      "Epoch 00024: LearningRateScheduler setting learning rate to 0.10000000149011612.\n",
      "16/16 [==============================] - 0s 20ms/step - loss: 0.2111 - mean_absolute_error: 0.2605 - val_loss: 0.1976 - val_mean_absolute_error: 0.2573\n",
      "Epoch 25/100\n",
      "\n",
      "Epoch 00025: LearningRateScheduler setting learning rate to 0.10000000149011612.\n",
      "16/16 [==============================] - 0s 19ms/step - loss: 0.2214 - mean_absolute_error: 0.2760 - val_loss: 0.1889 - val_mean_absolute_error: 0.2424\n",
      "Epoch 26/100\n",
      "\n",
      "Epoch 00026: LearningRateScheduler setting learning rate to 0.10000000149011612.\n",
      "16/16 [==============================] - 0s 20ms/step - loss: 0.2195 - mean_absolute_error: 0.2698 - val_loss: 0.2303 - val_mean_absolute_error: 0.3061\n",
      "Epoch 27/100\n",
      "\n",
      "Epoch 00027: LearningRateScheduler setting learning rate to 0.10000000149011612.\n",
      "16/16 [==============================] - 0s 20ms/step - loss: 0.2137 - mean_absolute_error: 0.2677 - val_loss: 0.1832 - val_mean_absolute_error: 0.2355\n",
      "Epoch 28/100\n",
      "\n",
      "Epoch 00028: LearningRateScheduler setting learning rate to 0.10000000149011612.\n"
     ]
    },
    {
     "name": "stdout",
     "output_type": "stream",
     "text": [
      "16/16 [==============================] - 0s 20ms/step - loss: 0.2273 - mean_absolute_error: 0.2837 - val_loss: 0.2499 - val_mean_absolute_error: 0.3254\n",
      "Epoch 29/100\n",
      "\n",
      "Epoch 00029: LearningRateScheduler setting learning rate to 0.10000000149011612.\n",
      "16/16 [==============================] - 0s 18ms/step - loss: 0.2133 - mean_absolute_error: 0.2663 - val_loss: 0.1857 - val_mean_absolute_error: 0.2492\n",
      "Epoch 30/100\n",
      "\n",
      "Epoch 00030: LearningRateScheduler setting learning rate to 0.10000000149011612.\n",
      "16/16 [==============================] - 0s 18ms/step - loss: 0.2084 - mean_absolute_error: 0.2626 - val_loss: 0.1884 - val_mean_absolute_error: 0.2523\n",
      "Epoch 31/100\n",
      "\n",
      "Epoch 00031: LearningRateScheduler setting learning rate to 0.10000000149011612.\n",
      "16/16 [==============================] - 0s 20ms/step - loss: 0.2079 - mean_absolute_error: 0.2683 - val_loss: 0.2050 - val_mean_absolute_error: 0.2765\n",
      "Epoch 32/100\n",
      "\n",
      "Epoch 00032: LearningRateScheduler setting learning rate to 0.10000000149011612.\n",
      "16/16 [==============================] - 0s 19ms/step - loss: 0.2085 - mean_absolute_error: 0.2671 - val_loss: 0.2693 - val_mean_absolute_error: 0.3606\n",
      "Epoch 33/100\n",
      "\n",
      "Epoch 00033: LearningRateScheduler setting learning rate to 0.10000000149011612.\n",
      "16/16 [==============================] - 0s 20ms/step - loss: 0.2177 - mean_absolute_error: 0.2814 - val_loss: 0.1846 - val_mean_absolute_error: 0.2369\n",
      "Epoch 34/100\n",
      "\n",
      "Epoch 00034: LearningRateScheduler setting learning rate to 0.10000000149011612.\n",
      "16/16 [==============================] - 0s 20ms/step - loss: 0.2189 - mean_absolute_error: 0.2790 - val_loss: 0.2327 - val_mean_absolute_error: 0.3115\n",
      "Epoch 35/100\n",
      "\n",
      "Epoch 00035: LearningRateScheduler setting learning rate to 0.10000000149011612.\n",
      "16/16 [==============================] - 0s 18ms/step - loss: 0.2118 - mean_absolute_error: 0.2709 - val_loss: 0.2186 - val_mean_absolute_error: 0.2919\n",
      "Epoch 36/100\n",
      "\n",
      "Epoch 00036: LearningRateScheduler setting learning rate to 0.10000000149011612.\n",
      "16/16 [==============================] - 0s 19ms/step - loss: 0.2075 - mean_absolute_error: 0.2682 - val_loss: 0.2137 - val_mean_absolute_error: 0.2932\n",
      "Epoch 37/100\n",
      "\n",
      "Epoch 00037: LearningRateScheduler setting learning rate to 0.10000000149011612.\n",
      "16/16 [==============================] - 0s 19ms/step - loss: 0.2029 - mean_absolute_error: 0.2640 - val_loss: 0.2013 - val_mean_absolute_error: 0.2736\n",
      "Epoch 38/100\n",
      "\n",
      "Epoch 00038: LearningRateScheduler setting learning rate to 0.10000000149011612.\n",
      "16/16 [==============================] - 0s 19ms/step - loss: 0.1992 - mean_absolute_error: 0.2578 - val_loss: 0.2016 - val_mean_absolute_error: 0.2770\n",
      "Epoch 39/100\n",
      "\n",
      "Epoch 00039: LearningRateScheduler setting learning rate to 0.10000000149011612.\n",
      "16/16 [==============================] - 0s 20ms/step - loss: 0.2056 - mean_absolute_error: 0.2713 - val_loss: 0.1767 - val_mean_absolute_error: 0.2356\n",
      "Epoch 40/100\n",
      "\n",
      "Epoch 00040: LearningRateScheduler setting learning rate to 0.10000000149011612.\n",
      "16/16 [==============================] - 0s 19ms/step - loss: 0.2080 - mean_absolute_error: 0.2697 - val_loss: 0.1813 - val_mean_absolute_error: 0.2509\n",
      "Epoch 41/100\n",
      "\n",
      "Epoch 00041: LearningRateScheduler setting learning rate to 0.010000000149011612.\n",
      "16/16 [==============================] - 0s 21ms/step - loss: 0.2944 - mean_absolute_error: 0.3730 - val_loss: 0.1848 - val_mean_absolute_error: 0.2459\n",
      "Epoch 42/100\n",
      "\n",
      "Epoch 00042: LearningRateScheduler setting learning rate to 0.009999999776482582.\n",
      "16/16 [==============================] - 0s 19ms/step - loss: 0.2236 - mean_absolute_error: 0.2854 - val_loss: 0.1843 - val_mean_absolute_error: 0.2442\n",
      "Epoch 43/100\n",
      "\n",
      "Epoch 00043: LearningRateScheduler setting learning rate to 0.009999999776482582.\n",
      "16/16 [==============================] - 0s 20ms/step - loss: 0.2025 - mean_absolute_error: 0.2592 - val_loss: 0.1873 - val_mean_absolute_error: 0.2548\n",
      "Epoch 44/100\n",
      "\n",
      "Epoch 00044: LearningRateScheduler setting learning rate to 0.009999999776482582.\n",
      "16/16 [==============================] - 0s 19ms/step - loss: 0.1960 - mean_absolute_error: 0.2505 - val_loss: 0.1904 - val_mean_absolute_error: 0.2615\n",
      "Epoch 45/100\n",
      "\n",
      "Epoch 00045: LearningRateScheduler setting learning rate to 0.009999999776482582.\n",
      "16/16 [==============================] - 0s 21ms/step - loss: 0.1936 - mean_absolute_error: 0.2504 - val_loss: 0.1933 - val_mean_absolute_error: 0.2664\n",
      "Epoch 46/100\n",
      "\n",
      "Epoch 00046: LearningRateScheduler setting learning rate to 0.009999999776482582.\n",
      "16/16 [==============================] - 0s 19ms/step - loss: 0.1919 - mean_absolute_error: 0.2474 - val_loss: 0.1875 - val_mean_absolute_error: 0.2597\n",
      "Epoch 47/100\n",
      "\n",
      "Epoch 00047: LearningRateScheduler setting learning rate to 0.009999999776482582.\n",
      "16/16 [==============================] - 0s 22ms/step - loss: 0.1907 - mean_absolute_error: 0.2488 - val_loss: 0.1888 - val_mean_absolute_error: 0.2611\n",
      "Epoch 48/100\n",
      "\n",
      "Epoch 00048: LearningRateScheduler setting learning rate to 0.009999999776482582.\n",
      "16/16 [==============================] - 0s 20ms/step - loss: 0.1878 - mean_absolute_error: 0.2446 - val_loss: 0.1919 - val_mean_absolute_error: 0.2672\n",
      "Epoch 49/100\n",
      "\n",
      "Epoch 00049: LearningRateScheduler setting learning rate to 0.009999999776482582.\n",
      "16/16 [==============================] - 0s 19ms/step - loss: 0.1872 - mean_absolute_error: 0.2464 - val_loss: 0.1955 - val_mean_absolute_error: 0.2734\n",
      "Epoch 50/100\n",
      "\n",
      "Epoch 00050: LearningRateScheduler setting learning rate to 0.009999999776482582.\n",
      "16/16 [==============================] - 0s 19ms/step - loss: 0.1887 - mean_absolute_error: 0.2455 - val_loss: 0.1977 - val_mean_absolute_error: 0.2760\n",
      "Epoch 51/100\n",
      "\n",
      "Epoch 00051: LearningRateScheduler setting learning rate to 0.009999999776482582.\n",
      "16/16 [==============================] - 0s 19ms/step - loss: 0.1894 - mean_absolute_error: 0.2472 - val_loss: 0.1882 - val_mean_absolute_error: 0.2625\n",
      "Epoch 52/100\n",
      "\n",
      "Epoch 00052: LearningRateScheduler setting learning rate to 0.009999999776482582.\n",
      "16/16 [==============================] - 0s 21ms/step - loss: 0.1907 - mean_absolute_error: 0.2484 - val_loss: 0.1934 - val_mean_absolute_error: 0.2704\n",
      "Epoch 53/100\n",
      "\n",
      "Epoch 00053: LearningRateScheduler setting learning rate to 0.009999999776482582.\n",
      "16/16 [==============================] - 0s 21ms/step - loss: 0.1863 - mean_absolute_error: 0.2473 - val_loss: 0.1934 - val_mean_absolute_error: 0.2709\n",
      "Epoch 54/100\n",
      "\n",
      "Epoch 00054: LearningRateScheduler setting learning rate to 0.009999999776482582.\n",
      "16/16 [==============================] - 0s 19ms/step - loss: 0.1884 - mean_absolute_error: 0.2470 - val_loss: 0.1952 - val_mean_absolute_error: 0.2738\n",
      "Epoch 55/100\n",
      "\n",
      "Epoch 00055: LearningRateScheduler setting learning rate to 0.009999999776482582.\n",
      "16/16 [==============================] - 0s 20ms/step - loss: 0.1890 - mean_absolute_error: 0.2471 - val_loss: 0.1966 - val_mean_absolute_error: 0.2763\n",
      "Epoch 56/100\n",
      "\n",
      "Epoch 00056: LearningRateScheduler setting learning rate to 0.009999999776482582.\n",
      "16/16 [==============================] - 0s 20ms/step - loss: 0.1851 - mean_absolute_error: 0.2448 - val_loss: 0.1908 - val_mean_absolute_error: 0.2674\n",
      "Epoch 57/100\n",
      "\n",
      "Epoch 00057: LearningRateScheduler setting learning rate to 0.009999999776482582.\n",
      "16/16 [==============================] - 0s 18ms/step - loss: 0.1873 - mean_absolute_error: 0.2483 - val_loss: 0.1903 - val_mean_absolute_error: 0.2674\n",
      "Epoch 58/100\n",
      "\n",
      "Epoch 00058: LearningRateScheduler setting learning rate to 0.009999999776482582.\n",
      "16/16 [==============================] - 0s 20ms/step - loss: 0.1863 - mean_absolute_error: 0.2464 - val_loss: 0.1878 - val_mean_absolute_error: 0.2648\n",
      "Epoch 59/100\n",
      "\n",
      "Epoch 00059: LearningRateScheduler setting learning rate to 0.009999999776482582.\n",
      "16/16 [==============================] - 0s 20ms/step - loss: 0.1868 - mean_absolute_error: 0.2455 - val_loss: 0.1990 - val_mean_absolute_error: 0.2807\n",
      "Epoch 60/100\n",
      "\n",
      "Epoch 00060: LearningRateScheduler setting learning rate to 0.009999999776482582.\n",
      "16/16 [==============================] - 0s 19ms/step - loss: 0.1865 - mean_absolute_error: 0.2468 - val_loss: 0.1819 - val_mean_absolute_error: 0.2538\n",
      "Epoch 61/100\n",
      "\n",
      "Epoch 00061: LearningRateScheduler setting learning rate to 0.009999999776482582.\n",
      "16/16 [==============================] - 0s 20ms/step - loss: 0.1870 - mean_absolute_error: 0.2455 - val_loss: 0.1952 - val_mean_absolute_error: 0.2743\n",
      "Epoch 62/100\n",
      "\n",
      "Epoch 00062: LearningRateScheduler setting learning rate to 0.009999999776482582.\n",
      "16/16 [==============================] - 0s 20ms/step - loss: 0.1859 - mean_absolute_error: 0.2465 - val_loss: 0.1864 - val_mean_absolute_error: 0.2619\n",
      "Epoch 63/100\n",
      "\n",
      "Epoch 00063: LearningRateScheduler setting learning rate to 0.009999999776482582.\n",
      "16/16 [==============================] - 0s 19ms/step - loss: 0.1843 - mean_absolute_error: 0.2441 - val_loss: 0.1852 - val_mean_absolute_error: 0.2608\n",
      "Epoch 64/100\n",
      "\n",
      "Epoch 00064: LearningRateScheduler setting learning rate to 0.009999999776482582.\n",
      "16/16 [==============================] - 0s 20ms/step - loss: 0.1868 - mean_absolute_error: 0.2465 - val_loss: 0.1913 - val_mean_absolute_error: 0.2696\n",
      "Epoch 65/100\n",
      "\n",
      "Epoch 00065: LearningRateScheduler setting learning rate to 0.009999999776482582.\n",
      "16/16 [==============================] - 0s 19ms/step - loss: 0.1852 - mean_absolute_error: 0.2449 - val_loss: 0.1865 - val_mean_absolute_error: 0.2644\n",
      "Epoch 66/100\n",
      "\n",
      "Epoch 00066: LearningRateScheduler setting learning rate to 0.009999999776482582.\n",
      "16/16 [==============================] - 0s 20ms/step - loss: 0.1859 - mean_absolute_error: 0.2465 - val_loss: 0.1873 - val_mean_absolute_error: 0.2642\n",
      "Epoch 67/100\n",
      "\n",
      "Epoch 00067: LearningRateScheduler setting learning rate to 0.009999999776482582.\n",
      "16/16 [==============================] - 0s 18ms/step - loss: 0.1848 - mean_absolute_error: 0.2463 - val_loss: 0.1913 - val_mean_absolute_error: 0.2703\n",
      "Epoch 68/100\n",
      "\n",
      "Epoch 00068: LearningRateScheduler setting learning rate to 0.009999999776482582.\n",
      "16/16 [==============================] - 0s 19ms/step - loss: 0.1851 - mean_absolute_error: 0.2455 - val_loss: 0.1914 - val_mean_absolute_error: 0.2716\n",
      "Epoch 69/100\n",
      "\n",
      "Epoch 00069: LearningRateScheduler setting learning rate to 0.009999999776482582.\n",
      "16/16 [==============================] - 0s 18ms/step - loss: 0.1854 - mean_absolute_error: 0.2455 - val_loss: 0.1867 - val_mean_absolute_error: 0.2629\n",
      "Epoch 70/100\n",
      "\n",
      "Epoch 00070: LearningRateScheduler setting learning rate to 0.009999999776482582.\n",
      "16/16 [==============================] - 0s 20ms/step - loss: 0.1841 - mean_absolute_error: 0.2456 - val_loss: 0.1939 - val_mean_absolute_error: 0.2739\n",
      "Epoch 71/100\n",
      "\n",
      "Epoch 00071: LearningRateScheduler setting learning rate to 0.009999999776482582.\n",
      "16/16 [==============================] - 0s 19ms/step - loss: 0.1856 - mean_absolute_error: 0.2464 - val_loss: 0.1891 - val_mean_absolute_error: 0.2673\n",
      "Epoch 72/100\n",
      "\n",
      "Epoch 00072: LearningRateScheduler setting learning rate to 0.009999999776482582.\n",
      "16/16 [==============================] - 0s 19ms/step - loss: 0.1868 - mean_absolute_error: 0.2473 - val_loss: 0.1901 - val_mean_absolute_error: 0.2697\n",
      "Epoch 73/100\n",
      "\n",
      "Epoch 00073: LearningRateScheduler setting learning rate to 0.009999999776482582.\n",
      "16/16 [==============================] - 0s 18ms/step - loss: 0.1868 - mean_absolute_error: 0.2455 - val_loss: 0.1814 - val_mean_absolute_error: 0.2572\n",
      "Epoch 74/100\n",
      "\n",
      "Epoch 00074: LearningRateScheduler setting learning rate to 0.009999999776482582.\n",
      "16/16 [==============================] - 0s 19ms/step - loss: 0.1845 - mean_absolute_error: 0.2466 - val_loss: 0.1838 - val_mean_absolute_error: 0.2593\n",
      "Epoch 75/100\n",
      "\n",
      "Epoch 00075: LearningRateScheduler setting learning rate to 0.009999999776482582.\n",
      "16/16 [==============================] - 0s 19ms/step - loss: 0.1834 - mean_absolute_error: 0.2455 - val_loss: 0.1989 - val_mean_absolute_error: 0.2822\n",
      "Epoch 76/100\n",
      "\n",
      "Epoch 00076: LearningRateScheduler setting learning rate to 0.009999999776482582.\n",
      "16/16 [==============================] - 0s 20ms/step - loss: 0.1861 - mean_absolute_error: 0.2452 - val_loss: 0.1830 - val_mean_absolute_error: 0.2587\n",
      "Epoch 77/100\n",
      "\n",
      "Epoch 00077: LearningRateScheduler setting learning rate to 0.009999999776482582.\n",
      "16/16 [==============================] - 0s 19ms/step - loss: 0.1859 - mean_absolute_error: 0.2484 - val_loss: 0.2027 - val_mean_absolute_error: 0.2878\n",
      "Epoch 78/100\n",
      "\n",
      "Epoch 00078: LearningRateScheduler setting learning rate to 0.009999999776482582.\n",
      "16/16 [==============================] - 0s 19ms/step - loss: 0.1838 - mean_absolute_error: 0.2454 - val_loss: 0.1827 - val_mean_absolute_error: 0.2580\n",
      "Epoch 79/100\n",
      "\n",
      "Epoch 00079: LearningRateScheduler setting learning rate to 0.009999999776482582.\n",
      "16/16 [==============================] - 0s 18ms/step - loss: 0.1845 - mean_absolute_error: 0.2451 - val_loss: 0.1962 - val_mean_absolute_error: 0.2774\n",
      "Epoch 80/100\n",
      "\n",
      "Epoch 00080: LearningRateScheduler setting learning rate to 0.009999999776482582.\n",
      "16/16 [==============================] - 0s 20ms/step - loss: 0.1866 - mean_absolute_error: 0.2467 - val_loss: 0.1991 - val_mean_absolute_error: 0.2830\n",
      "Epoch 81/100\n",
      "\n",
      "Epoch 00081: LearningRateScheduler setting learning rate to 0.0009999999776482583.\n",
      "16/16 [==============================] - 0s 20ms/step - loss: 0.1837 - mean_absolute_error: 0.2430 - val_loss: 0.1871 - val_mean_absolute_error: 0.2624\n",
      "Epoch 82/100\n",
      "\n",
      "Epoch 00082: LearningRateScheduler setting learning rate to 0.0009999999310821295.\n",
      "16/16 [==============================] - 0s 18ms/step - loss: 0.1842 - mean_absolute_error: 0.2456 - val_loss: 0.1863 - val_mean_absolute_error: 0.2622\n",
      "Epoch 83/100\n",
      "\n",
      "Epoch 00083: LearningRateScheduler setting learning rate to 0.0009999999310821295.\n",
      "16/16 [==============================] - 0s 19ms/step - loss: 0.1830 - mean_absolute_error: 0.2444 - val_loss: 0.1884 - val_mean_absolute_error: 0.2663\n",
      "Epoch 84/100\n",
      "\n",
      "Epoch 00084: LearningRateScheduler setting learning rate to 0.0009999999310821295.\n",
      "16/16 [==============================] - 0s 19ms/step - loss: 0.1824 - mean_absolute_error: 0.2445 - val_loss: 0.1849 - val_mean_absolute_error: 0.2618\n",
      "Epoch 85/100\n",
      "\n",
      "Epoch 00085: LearningRateScheduler setting learning rate to 0.0009999999310821295.\n",
      "16/16 [==============================] - 0s 19ms/step - loss: 0.1827 - mean_absolute_error: 0.2430 - val_loss: 0.1884 - val_mean_absolute_error: 0.2671\n",
      "Epoch 86/100\n",
      "\n",
      "Epoch 00086: LearningRateScheduler setting learning rate to 0.0009999999310821295.\n",
      "16/16 [==============================] - 0s 19ms/step - loss: 0.1825 - mean_absolute_error: 0.2434 - val_loss: 0.1867 - val_mean_absolute_error: 0.2650\n",
      "Epoch 87/100\n",
      "\n",
      "Epoch 00087: LearningRateScheduler setting learning rate to 0.0009999999310821295.\n",
      "16/16 [==============================] - 0s 19ms/step - loss: 0.1858 - mean_absolute_error: 0.2462 - val_loss: 0.1875 - val_mean_absolute_error: 0.2664\n",
      "Epoch 88/100\n",
      "\n",
      "Epoch 00088: LearningRateScheduler setting learning rate to 0.0009999999310821295.\n",
      "16/16 [==============================] - 0s 19ms/step - loss: 0.1822 - mean_absolute_error: 0.2450 - val_loss: 0.1878 - val_mean_absolute_error: 0.2669\n",
      "Epoch 89/100\n",
      "\n",
      "Epoch 00089: LearningRateScheduler setting learning rate to 0.0009999999310821295.\n",
      "16/16 [==============================] - 0s 19ms/step - loss: 0.1835 - mean_absolute_error: 0.2436 - val_loss: 0.1856 - val_mean_absolute_error: 0.2637\n",
      "Epoch 90/100\n",
      "\n",
      "Epoch 00090: LearningRateScheduler setting learning rate to 0.0009999999310821295.\n",
      "16/16 [==============================] - 0s 19ms/step - loss: 0.1853 - mean_absolute_error: 0.2465 - val_loss: 0.1881 - val_mean_absolute_error: 0.2672\n",
      "Epoch 91/100\n",
      "\n",
      "Epoch 00091: LearningRateScheduler setting learning rate to 0.0009999999310821295.\n",
      "16/16 [==============================] - 0s 20ms/step - loss: 0.1838 - mean_absolute_error: 0.2445 - val_loss: 0.1861 - val_mean_absolute_error: 0.2643\n",
      "Epoch 92/100\n",
      "\n",
      "Epoch 00092: LearningRateScheduler setting learning rate to 0.0009999999310821295.\n",
      "16/16 [==============================] - 0s 19ms/step - loss: 0.1838 - mean_absolute_error: 0.2450 - val_loss: 0.1869 - val_mean_absolute_error: 0.2657\n",
      "Epoch 93/100\n",
      "\n",
      "Epoch 00093: LearningRateScheduler setting learning rate to 0.0009999999310821295.\n",
      "16/16 [==============================] - 0s 19ms/step - loss: 0.1835 - mean_absolute_error: 0.2439 - val_loss: 0.1875 - val_mean_absolute_error: 0.2665\n",
      "Epoch 94/100\n",
      "\n",
      "Epoch 00094: LearningRateScheduler setting learning rate to 0.0009999999310821295.\n"
     ]
    },
    {
     "name": "stdout",
     "output_type": "stream",
     "text": [
      "16/16 [==============================] - 0s 18ms/step - loss: 0.1847 - mean_absolute_error: 0.2456 - val_loss: 0.1867 - val_mean_absolute_error: 0.2654\n",
      "Epoch 95/100\n",
      "\n",
      "Epoch 00095: LearningRateScheduler setting learning rate to 0.0009999999310821295.\n",
      "16/16 [==============================] - 0s 19ms/step - loss: 0.1831 - mean_absolute_error: 0.2438 - val_loss: 0.1870 - val_mean_absolute_error: 0.2655\n",
      "Epoch 96/100\n",
      "\n",
      "Epoch 00096: LearningRateScheduler setting learning rate to 0.0009999999310821295.\n",
      "16/16 [==============================] - 0s 21ms/step - loss: 0.1825 - mean_absolute_error: 0.2425 - val_loss: 0.1853 - val_mean_absolute_error: 0.2626\n",
      "Epoch 97/100\n",
      "\n",
      "Epoch 00097: LearningRateScheduler setting learning rate to 0.0009999999310821295.\n",
      "16/16 [==============================] - 0s 18ms/step - loss: 0.1841 - mean_absolute_error: 0.2440 - val_loss: 0.1857 - val_mean_absolute_error: 0.2638\n",
      "Epoch 98/100\n",
      "\n",
      "Epoch 00098: LearningRateScheduler setting learning rate to 0.0009999999310821295.\n",
      "16/16 [==============================] - 0s 19ms/step - loss: 0.1836 - mean_absolute_error: 0.2441 - val_loss: 0.1856 - val_mean_absolute_error: 0.2637\n",
      "Epoch 99/100\n",
      "\n",
      "Epoch 00099: LearningRateScheduler setting learning rate to 0.0009999999310821295.\n",
      "16/16 [==============================] - 0s 20ms/step - loss: 0.1814 - mean_absolute_error: 0.2425 - val_loss: 0.1873 - val_mean_absolute_error: 0.2663\n",
      "Epoch 100/100\n",
      "\n",
      "Epoch 00100: LearningRateScheduler setting learning rate to 0.0009999999310821295.\n",
      "16/16 [==============================] - 0s 20ms/step - loss: 0.1824 - mean_absolute_error: 0.2447 - val_loss: 0.1862 - val_mean_absolute_error: 0.2647\n"
     ]
    }
   ],
   "source": [
    "from tensorflow.keras import layers\n",
    "from tensorflow.keras.callbacks import LearningRateScheduler,ModelCheckpoint,ReduceLROnPlateau\n",
    "model = tf.keras.Sequential() \n",
    "model.add(layers.Input((X_train.shape[1],X_train.shape[2])))\n",
    "#bidir worked better\n",
    "model.add(layers.Bidirectional(layers.GRU(20, return_sequences=False)))\n",
    "# Dense layer allow to learn more complex patterns with the added capacity\n",
    "model.add(layers.Dense(50,activation='relu', kernel_regularizer=tf.keras.regularizers.l1(0.001)))\n",
    "model.add(layers.Dropout(0.1))\n",
    "model.add(layers.Dense(50,activation='relu', kernel_regularizer=tf.keras.regularizers.l1(0.001)))\n",
    "model.add(layers.Dropout(0.1))\n",
    "model.add(layers.Dense(10,activation='relu',kernel_regularizer=tf.keras.regularizers.l1(0.001)))\n",
    "model.add(layers.Dense(1))\n",
    "\n",
    "# learning rate reduction with SGD\n",
    "def lr_scheduler(epoch, lr):\n",
    "    if epoch %40 == 0 and epoch:\n",
    "        return max(lr*0.1,0.0001)\n",
    "    return max(lr,0.0001)\n",
    "callbacks = [LearningRateScheduler(lr_scheduler, verbose=1)]\n",
    "\n",
    "\n",
    "print(model.summary() )\n",
    "model.compile(loss='mean_squared_error',\n",
    "    optimizer=tf.keras.optimizers.SGD(learning_rate=0.1,momentum=0.9),\n",
    "              metrics=['mean_absolute_error']) \n",
    "history_GRU = model.fit(X_train, y_train, validation_data=(X_val, y_val),shuffle=True,batch_size=528, epochs=100,callbacks=callbacks)"
   ]
  },
  {
   "cell_type": "code",
   "execution_count": 97,
   "metadata": {},
   "outputs": [
    {
     "data": {
      "image/png": "[encoded data removed]",
      "text/plain": [
       "<Figure size 432x288 with 1 Axes>"
      ]
     },
     "metadata": {
      "needs_background": "light"
     },
     "output_type": "display_data"
    },
    {
     "data": {
      "image/png": "[encoded data removed]",
      "text/plain": [
       "<Figure size 432x288 with 1 Axes>"
      ]
     },
     "metadata": {
      "needs_background": "light"
     },
     "output_type": "display_data"
    }
   ],
   "source": [
    "plt.plot(history_GRU.history['mean_absolute_error'])\n",
    "plt.plot(history_GRU.history['val_mean_absolute_error'])\n",
    "plt.title('MAE')\n",
    "plt.ylabel('accuracy')\n",
    "plt.xlabel('epoch')\n",
    "plt.legend(['train', 'test'], loc='upper right')\n",
    "plt.show()\n",
    "\n",
    "plt.plot(history_GRU.history['loss'])\n",
    "plt.plot(history_GRU.history['val_loss'])\n",
    "plt.title('MSE loss')\n",
    "plt.ylabel('loss')\n",
    "plt.xlabel('epoch')\n",
    "plt.legend(['train', 'test'], loc='upper right')\n",
    "plt.show()"
   ]
  },
  {
   "cell_type": "code",
   "execution_count": 98,
   "id": "f4271e35",
   "metadata": {},
   "outputs": [
    {
     "name": "stdout",
     "output_type": "stream",
     "text": [
      "val r2 score 0.8515693168117872\n",
      "val explained_variance_score 0.8702520563117692\n",
      "validation mean abs error 3.3844687374367735\n",
      "validation RMSE 4.925441890560892\n"
     ]
    }
   ],
   "source": [
    "y_pred = model.predict(X_val)\n",
    "y_pred =scalers[-1].inverse_transform(y_pred.reshape(-1,1)).reshape(-1)\n",
    "y_true =scalers[-1].inverse_transform(y_val.reshape(-1,1)).reshape(-1)\n",
    "print('val r2 score',r2_score(y_true, y_pred))\n",
    "print('val explained_variance_score',explained_variance_score(y_true, y_pred))\n",
    "print('validation mean abs error',mean_absolute_error(y_true, y_pred))\n",
    "print('validation RMSE',mean_squared_error(y_true, y_pred,squared=False))"
   ]
  }
 ],
 "metadata": {
  "kernelspec": {
   "display_name": "Python 3 (ipykernel)",
   "language": "python",
   "name": "python3"
  },
  "language_info": {
   "codemirror_mode": {
    "name": "ipython",
    "version": 3
   },
   "file_extension": ".py",
   "mimetype": "text/x-python",
   "name": "python",
   "nbconvert_exporter": "python",
   "pygments_lexer": "ipython3",
   "version": "3.9.7"
  }
 },
 "nbformat": 4,
 "nbformat_minor": 5
}
